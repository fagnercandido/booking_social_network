{
 "cells": [
  {
   "cell_type": "markdown",
   "id": "7b718cfd",
   "metadata": {},
   "source": [
    "# Imports"
   ]
  },
  {
   "cell_type": "code",
   "execution_count": 131,
   "id": "c4faa9a9",
   "metadata": {},
   "outputs": [],
   "source": [
    "import pandas as pd\n",
    "import matplotlib.pyplot as plt\n",
    "import numpy as np\n",
    "import seaborn as sns\n",
    "from scipy.stats import normaltest\n",
    "import warnings\n",
    "\n",
    "warnings.filterwarnings('ignore')\n",
    "significance = 0.05"
   ]
  },
  {
   "cell_type": "markdown",
   "id": "4d5bd658",
   "metadata": {},
   "source": [
    "# Helpers Methods - Candidate to be a py file"
   ]
  },
  {
   "cell_type": "code",
   "execution_count": 132,
   "id": "07faeee0",
   "metadata": {},
   "outputs": [],
   "source": [
    "def get_frequences_by_column(dataframe, column, sturger_class):\n",
    "    frequence = pd.value_counts(\n",
    "        pd.cut(\n",
    "            x = dataframe[column],\n",
    "            bins = sturger_class,\n",
    "            include_lowest = True\n",
    "        ),\n",
    "        sort = False\n",
    "    )\n",
    "    return frequence\n",
    "\n",
    "def get_percentage_by_column(dataframe, column, sturger_class):\n",
    "    percentage = pd.value_counts(\n",
    "        pd.cut(\n",
    "            x = dataframe[column],\n",
    "            bins = sturger_class,\n",
    "            include_lowest = True\n",
    "        ),\n",
    "        sort = False,\n",
    "        normalize = True\n",
    "    )\n",
    "    return percentage\n",
    "\n",
    "def print_media_median_mode(dataframe, column):\n",
    "    print(f'Mean is {dataframe[column].mean()} \\nMedian is {dataframe[column].median()}\\nMode is {dataframe[column].mode()[0]}')\n",
    "\n",
    "\n",
    "def jaccard_generalized(groups, lines):\n",
    "    '''\n",
    "        E se a divisão for zero\n",
    "    '''\n",
    "    jaccard_distance_matrix = np.empty((lines,lines))\n",
    "    countOff = 0\n",
    "    for _ in groups.tolist():\n",
    "        countIn = 0\n",
    "        for _ in groups.tolist():\n",
    "            numerator = float(np.sum(np.minimum(groups[countOff, :], groups[countOff, :])))\n",
    "            denominator = float(np.sum(np.maximum(groups[countOff, :], groups[countIn, :])))\n",
    "            if denominator != 0:\n",
    "                jaccard_distance_matrix[countOff, countIn] = numerator / denominator\n",
    "            countIn += 1\n",
    "        countOff += 1\n",
    "    \n",
    "    return jaccard_distance_matrix"
   ]
  },
  {
   "cell_type": "markdown",
   "id": "440031b0",
   "metadata": {},
   "source": [
    "# Reading"
   ]
  },
  {
   "cell_type": "code",
   "execution_count": 126,
   "id": "b35effa0",
   "metadata": {},
   "outputs": [],
   "source": [
    "dataframe = pd.read_csv ('hotel_bookings.csv')"
   ]
  },
  {
   "cell_type": "markdown",
   "id": "7ce4e9dc",
   "metadata": {},
   "source": [
    "# Description"
   ]
  },
  {
   "cell_type": "code",
   "execution_count": 127,
   "id": "397caf1f",
   "metadata": {},
   "outputs": [
    {
     "name": "stdout",
     "output_type": "stream",
     "text": [
      "<class 'pandas.core.frame.DataFrame'>\n",
      "RangeIndex: 119390 entries, 0 to 119389\n",
      "Data columns (total 32 columns):\n",
      " #   Column                          Non-Null Count   Dtype  \n",
      "---  ------                          --------------   -----  \n",
      " 0   hotel                           119390 non-null  object \n",
      " 1   is_canceled                     119390 non-null  int64  \n",
      " 2   lead_time                       119390 non-null  int64  \n",
      " 3   arrival_date_year               119390 non-null  int64  \n",
      " 4   arrival_date_month              119390 non-null  object \n",
      " 5   arrival_date_week_number        119390 non-null  int64  \n",
      " 6   arrival_date_day_of_month       119390 non-null  int64  \n",
      " 7   stays_in_weekend_nights         119390 non-null  int64  \n",
      " 8   stays_in_week_nights            119390 non-null  int64  \n",
      " 9   adults                          119390 non-null  int64  \n",
      " 10  children                        119386 non-null  float64\n",
      " 11  babies                          119390 non-null  int64  \n",
      " 12  meal                            119390 non-null  object \n",
      " 13  country                         118902 non-null  object \n",
      " 14  market_segment                  119390 non-null  object \n",
      " 15  distribution_channel            119390 non-null  object \n",
      " 16  is_repeated_guest               119390 non-null  int64  \n",
      " 17  previous_cancellations          119390 non-null  int64  \n",
      " 18  previous_bookings_not_canceled  119390 non-null  int64  \n",
      " 19  reserved_room_type              119390 non-null  object \n",
      " 20  assigned_room_type              119390 non-null  object \n",
      " 21  booking_changes                 119390 non-null  int64  \n",
      " 22  deposit_type                    119390 non-null  object \n",
      " 23  agent                           103050 non-null  float64\n",
      " 24  company                         6797 non-null    float64\n",
      " 25  days_in_waiting_list            119390 non-null  int64  \n",
      " 26  customer_type                   119390 non-null  object \n",
      " 27  adr                             119390 non-null  float64\n",
      " 28  required_car_parking_spaces     119390 non-null  int64  \n",
      " 29  total_of_special_requests       119390 non-null  int64  \n",
      " 30  reservation_status              119390 non-null  object \n",
      " 31  reservation_status_date         119390 non-null  object \n",
      "dtypes: float64(4), int64(16), object(12)\n",
      "memory usage: 29.1+ MB\n"
     ]
    }
   ],
   "source": [
    "dataframe.info()"
   ]
  },
  {
   "cell_type": "markdown",
   "id": "24249a9a",
   "metadata": {},
   "source": [
    "**hotel**                           Hotel (H1 = Resort Hotel or H2 = City Hotel)  \n",
    "**is canceled**                     Value indicating if the booking was canceled (1) or not (0)  \n",
    "**lead_time**                       days between the entering date of the booking into the PMS and the arrival date  \n",
    "**arrival_date_year**               Year of arrival date  \n",
    "**arrival_date_month**              Month of arrival date  \n",
    "**arrival_date_week_number**        Week number of year for arrival date  \n",
    "**arrival_date_day_of_month**       Day of arrival date  \n",
    "**stays_in_weekend_nights**         Number of weekend nights(Sat or Sun)the guest stayed or booked to stay at the hotel  \n",
    "**stays_in_week_nights**            Number of week nights (Mon to Fri) the guest stayed or booked to stay at the hotel  \n",
    "**adults**                          Number of adults  \n",
    "**children**                        Number of children  \n",
    "**babies**                          Number of babies  \n",
    "**meal**                            Type of meal booked. Standard hospitality meal packages: Undefined/SC – no meal  \n",
    "**country**                         Categories are represented in the ISO 3155–3:2013 format  \n",
    "**market_segment**                  Market segment designation. “TA” - “Travel Agents” and “TO” - “Tour Operators”  \n",
    "**distribution_channel**            Booking distribution. The term “TA” - “Travel Agents” and “TO” - “Tour Operators”  \n",
    "**is_repeated_guest**               Value indicating if the booking name was from a repeated guest (1) or not (0)  \n",
    "**previous_cancellations**          Number of previous bookings that were cancelled by the customer  \n",
    "**previous_bookings_not_canceled**  Number of previous bookings not cancelled by the customer  \n",
    "**reserved_room_type**              Code of room type reserved  \n",
    "**assigned_room_type**              Code for the type of room assigned to the booking  \n",
    "**booking_changes**                 Changes made to the booking from the moment the booking was entered   \n",
    "**deposit_type**                    Indication on if the customer made a deposit to guarantee the booking  \n",
    "**agent**                           ID of the travel agency that made the booking  \n",
    "**company**                         ID of the company/entity that made the booking  \n",
    "**days_in_waiting_list**            Number of days the booking was in the waiting list  \n",
    "**customer_type**                   Type of booking, assuming one of four categories  \n",
    "**adr**                             Average Daily Rate as defined by dividing the sum of all lodging transactions  \n",
    "**required_car_parking_spaces**     Number of car parking spaces required by the customer    \n",
    "**total_of_special_requests**       Number of special requests made by the customer (e.g. twin bed or high floor)  \n",
    "**reservation_status**              Reservation last status, assuming one of three categories  \n",
    "**reservation_status_date**         Date at which the last status was set  "
   ]
  },
  {
   "cell_type": "markdown",
   "id": "5ea21d0b",
   "metadata": {},
   "source": [
    "# Exploring"
   ]
  },
  {
   "cell_type": "code",
   "execution_count": 34,
   "id": "ce60c471",
   "metadata": {
    "scrolled": false
   },
   "outputs": [
    {
     "data": {
      "text/html": [
       "<div>\n",
       "<style scoped>\n",
       "    .dataframe tbody tr th:only-of-type {\n",
       "        vertical-align: middle;\n",
       "    }\n",
       "\n",
       "    .dataframe tbody tr th {\n",
       "        vertical-align: top;\n",
       "    }\n",
       "\n",
       "    .dataframe thead th {\n",
       "        text-align: right;\n",
       "    }\n",
       "</style>\n",
       "<table border=\"1\" class=\"dataframe\">\n",
       "  <thead>\n",
       "    <tr style=\"text-align: right;\">\n",
       "      <th></th>\n",
       "      <th>hotel</th>\n",
       "      <th>is_canceled</th>\n",
       "      <th>lead_time</th>\n",
       "      <th>arrival_date_year</th>\n",
       "      <th>arrival_date_month</th>\n",
       "      <th>arrival_date_week_number</th>\n",
       "      <th>arrival_date_day_of_month</th>\n",
       "      <th>stays_in_weekend_nights</th>\n",
       "      <th>stays_in_week_nights</th>\n",
       "      <th>adults</th>\n",
       "      <th>...</th>\n",
       "      <th>deposit_type</th>\n",
       "      <th>agent</th>\n",
       "      <th>company</th>\n",
       "      <th>days_in_waiting_list</th>\n",
       "      <th>customer_type</th>\n",
       "      <th>adr</th>\n",
       "      <th>required_car_parking_spaces</th>\n",
       "      <th>total_of_special_requests</th>\n",
       "      <th>reservation_status</th>\n",
       "      <th>reservation_status_date</th>\n",
       "    </tr>\n",
       "  </thead>\n",
       "  <tbody>\n",
       "    <tr>\n",
       "      <th>0</th>\n",
       "      <td>Resort Hotel</td>\n",
       "      <td>0</td>\n",
       "      <td>342</td>\n",
       "      <td>2015</td>\n",
       "      <td>July</td>\n",
       "      <td>27</td>\n",
       "      <td>1</td>\n",
       "      <td>0</td>\n",
       "      <td>0</td>\n",
       "      <td>2</td>\n",
       "      <td>...</td>\n",
       "      <td>No Deposit</td>\n",
       "      <td>NaN</td>\n",
       "      <td>NaN</td>\n",
       "      <td>0</td>\n",
       "      <td>Transient</td>\n",
       "      <td>0.00</td>\n",
       "      <td>0</td>\n",
       "      <td>0</td>\n",
       "      <td>Check-Out</td>\n",
       "      <td>2015-07-01</td>\n",
       "    </tr>\n",
       "    <tr>\n",
       "      <th>1</th>\n",
       "      <td>Resort Hotel</td>\n",
       "      <td>0</td>\n",
       "      <td>737</td>\n",
       "      <td>2015</td>\n",
       "      <td>July</td>\n",
       "      <td>27</td>\n",
       "      <td>1</td>\n",
       "      <td>0</td>\n",
       "      <td>0</td>\n",
       "      <td>2</td>\n",
       "      <td>...</td>\n",
       "      <td>No Deposit</td>\n",
       "      <td>NaN</td>\n",
       "      <td>NaN</td>\n",
       "      <td>0</td>\n",
       "      <td>Transient</td>\n",
       "      <td>0.00</td>\n",
       "      <td>0</td>\n",
       "      <td>0</td>\n",
       "      <td>Check-Out</td>\n",
       "      <td>2015-07-01</td>\n",
       "    </tr>\n",
       "    <tr>\n",
       "      <th>6</th>\n",
       "      <td>Resort Hotel</td>\n",
       "      <td>0</td>\n",
       "      <td>0</td>\n",
       "      <td>2015</td>\n",
       "      <td>July</td>\n",
       "      <td>27</td>\n",
       "      <td>1</td>\n",
       "      <td>0</td>\n",
       "      <td>2</td>\n",
       "      <td>2</td>\n",
       "      <td>...</td>\n",
       "      <td>No Deposit</td>\n",
       "      <td>NaN</td>\n",
       "      <td>NaN</td>\n",
       "      <td>0</td>\n",
       "      <td>Transient</td>\n",
       "      <td>107.00</td>\n",
       "      <td>0</td>\n",
       "      <td>0</td>\n",
       "      <td>Check-Out</td>\n",
       "      <td>2015-07-03</td>\n",
       "    </tr>\n",
       "    <tr>\n",
       "      <th>7</th>\n",
       "      <td>Resort Hotel</td>\n",
       "      <td>0</td>\n",
       "      <td>9</td>\n",
       "      <td>2015</td>\n",
       "      <td>July</td>\n",
       "      <td>27</td>\n",
       "      <td>1</td>\n",
       "      <td>0</td>\n",
       "      <td>2</td>\n",
       "      <td>2</td>\n",
       "      <td>...</td>\n",
       "      <td>No Deposit</td>\n",
       "      <td>303.0</td>\n",
       "      <td>NaN</td>\n",
       "      <td>0</td>\n",
       "      <td>Transient</td>\n",
       "      <td>103.00</td>\n",
       "      <td>0</td>\n",
       "      <td>1</td>\n",
       "      <td>Check-Out</td>\n",
       "      <td>2015-07-03</td>\n",
       "    </tr>\n",
       "    <tr>\n",
       "      <th>8</th>\n",
       "      <td>Resort Hotel</td>\n",
       "      <td>1</td>\n",
       "      <td>85</td>\n",
       "      <td>2015</td>\n",
       "      <td>July</td>\n",
       "      <td>27</td>\n",
       "      <td>1</td>\n",
       "      <td>0</td>\n",
       "      <td>3</td>\n",
       "      <td>2</td>\n",
       "      <td>...</td>\n",
       "      <td>No Deposit</td>\n",
       "      <td>240.0</td>\n",
       "      <td>NaN</td>\n",
       "      <td>0</td>\n",
       "      <td>Transient</td>\n",
       "      <td>82.00</td>\n",
       "      <td>0</td>\n",
       "      <td>1</td>\n",
       "      <td>Canceled</td>\n",
       "      <td>2015-05-06</td>\n",
       "    </tr>\n",
       "    <tr>\n",
       "      <th>...</th>\n",
       "      <td>...</td>\n",
       "      <td>...</td>\n",
       "      <td>...</td>\n",
       "      <td>...</td>\n",
       "      <td>...</td>\n",
       "      <td>...</td>\n",
       "      <td>...</td>\n",
       "      <td>...</td>\n",
       "      <td>...</td>\n",
       "      <td>...</td>\n",
       "      <td>...</td>\n",
       "      <td>...</td>\n",
       "      <td>...</td>\n",
       "      <td>...</td>\n",
       "      <td>...</td>\n",
       "      <td>...</td>\n",
       "      <td>...</td>\n",
       "      <td>...</td>\n",
       "      <td>...</td>\n",
       "      <td>...</td>\n",
       "      <td>...</td>\n",
       "    </tr>\n",
       "    <tr>\n",
       "      <th>119317</th>\n",
       "      <td>City Hotel</td>\n",
       "      <td>0</td>\n",
       "      <td>188</td>\n",
       "      <td>2017</td>\n",
       "      <td>August</td>\n",
       "      <td>35</td>\n",
       "      <td>30</td>\n",
       "      <td>0</td>\n",
       "      <td>4</td>\n",
       "      <td>3</td>\n",
       "      <td>...</td>\n",
       "      <td>No Deposit</td>\n",
       "      <td>15.0</td>\n",
       "      <td>NaN</td>\n",
       "      <td>0</td>\n",
       "      <td>Transient</td>\n",
       "      <td>129.60</td>\n",
       "      <td>0</td>\n",
       "      <td>0</td>\n",
       "      <td>Check-Out</td>\n",
       "      <td>2017-09-03</td>\n",
       "    </tr>\n",
       "    <tr>\n",
       "      <th>119340</th>\n",
       "      <td>City Hotel</td>\n",
       "      <td>0</td>\n",
       "      <td>110</td>\n",
       "      <td>2017</td>\n",
       "      <td>August</td>\n",
       "      <td>35</td>\n",
       "      <td>29</td>\n",
       "      <td>0</td>\n",
       "      <td>5</td>\n",
       "      <td>2</td>\n",
       "      <td>...</td>\n",
       "      <td>No Deposit</td>\n",
       "      <td>14.0</td>\n",
       "      <td>NaN</td>\n",
       "      <td>0</td>\n",
       "      <td>Transient</td>\n",
       "      <td>171.00</td>\n",
       "      <td>0</td>\n",
       "      <td>2</td>\n",
       "      <td>Check-Out</td>\n",
       "      <td>2017-09-03</td>\n",
       "    </tr>\n",
       "    <tr>\n",
       "      <th>119357</th>\n",
       "      <td>City Hotel</td>\n",
       "      <td>0</td>\n",
       "      <td>47</td>\n",
       "      <td>2017</td>\n",
       "      <td>August</td>\n",
       "      <td>35</td>\n",
       "      <td>31</td>\n",
       "      <td>1</td>\n",
       "      <td>3</td>\n",
       "      <td>1</td>\n",
       "      <td>...</td>\n",
       "      <td>No Deposit</td>\n",
       "      <td>423.0</td>\n",
       "      <td>NaN</td>\n",
       "      <td>0</td>\n",
       "      <td>Transient</td>\n",
       "      <td>91.02</td>\n",
       "      <td>0</td>\n",
       "      <td>0</td>\n",
       "      <td>Check-Out</td>\n",
       "      <td>2017-09-04</td>\n",
       "    </tr>\n",
       "    <tr>\n",
       "      <th>119366</th>\n",
       "      <td>City Hotel</td>\n",
       "      <td>0</td>\n",
       "      <td>210</td>\n",
       "      <td>2017</td>\n",
       "      <td>August</td>\n",
       "      <td>35</td>\n",
       "      <td>28</td>\n",
       "      <td>2</td>\n",
       "      <td>5</td>\n",
       "      <td>2</td>\n",
       "      <td>...</td>\n",
       "      <td>No Deposit</td>\n",
       "      <td>7.0</td>\n",
       "      <td>NaN</td>\n",
       "      <td>0</td>\n",
       "      <td>Transient</td>\n",
       "      <td>85.59</td>\n",
       "      <td>0</td>\n",
       "      <td>1</td>\n",
       "      <td>Check-Out</td>\n",
       "      <td>2017-09-04</td>\n",
       "    </tr>\n",
       "    <tr>\n",
       "      <th>119367</th>\n",
       "      <td>City Hotel</td>\n",
       "      <td>0</td>\n",
       "      <td>212</td>\n",
       "      <td>2017</td>\n",
       "      <td>August</td>\n",
       "      <td>35</td>\n",
       "      <td>28</td>\n",
       "      <td>2</td>\n",
       "      <td>5</td>\n",
       "      <td>2</td>\n",
       "      <td>...</td>\n",
       "      <td>No Deposit</td>\n",
       "      <td>7.0</td>\n",
       "      <td>NaN</td>\n",
       "      <td>0</td>\n",
       "      <td>Transient</td>\n",
       "      <td>85.59</td>\n",
       "      <td>0</td>\n",
       "      <td>0</td>\n",
       "      <td>Check-Out</td>\n",
       "      <td>2017-09-04</td>\n",
       "    </tr>\n",
       "  </tbody>\n",
       "</table>\n",
       "<p>48590 rows × 32 columns</p>\n",
       "</div>"
      ],
      "text/plain": [
       "               hotel  is_canceled  lead_time  arrival_date_year  \\\n",
       "0       Resort Hotel            0        342               2015   \n",
       "1       Resort Hotel            0        737               2015   \n",
       "6       Resort Hotel            0          0               2015   \n",
       "7       Resort Hotel            0          9               2015   \n",
       "8       Resort Hotel            1         85               2015   \n",
       "...              ...          ...        ...                ...   \n",
       "119317    City Hotel            0        188               2017   \n",
       "119340    City Hotel            0        110               2017   \n",
       "119357    City Hotel            0         47               2017   \n",
       "119366    City Hotel            0        210               2017   \n",
       "119367    City Hotel            0        212               2017   \n",
       "\n",
       "       arrival_date_month  arrival_date_week_number  \\\n",
       "0                    July                        27   \n",
       "1                    July                        27   \n",
       "6                    July                        27   \n",
       "7                    July                        27   \n",
       "8                    July                        27   \n",
       "...                   ...                       ...   \n",
       "119317             August                        35   \n",
       "119340             August                        35   \n",
       "119357             August                        35   \n",
       "119366             August                        35   \n",
       "119367             August                        35   \n",
       "\n",
       "        arrival_date_day_of_month  stays_in_weekend_nights  \\\n",
       "0                               1                        0   \n",
       "1                               1                        0   \n",
       "6                               1                        0   \n",
       "7                               1                        0   \n",
       "8                               1                        0   \n",
       "...                           ...                      ...   \n",
       "119317                         30                        0   \n",
       "119340                         29                        0   \n",
       "119357                         31                        1   \n",
       "119366                         28                        2   \n",
       "119367                         28                        2   \n",
       "\n",
       "        stays_in_week_nights  adults  ...  deposit_type  agent company  \\\n",
       "0                          0       2  ...    No Deposit    NaN     NaN   \n",
       "1                          0       2  ...    No Deposit    NaN     NaN   \n",
       "6                          2       2  ...    No Deposit    NaN     NaN   \n",
       "7                          2       2  ...    No Deposit  303.0     NaN   \n",
       "8                          3       2  ...    No Deposit  240.0     NaN   \n",
       "...                      ...     ...  ...           ...    ...     ...   \n",
       "119317                     4       3  ...    No Deposit   15.0     NaN   \n",
       "119340                     5       2  ...    No Deposit   14.0     NaN   \n",
       "119357                     3       1  ...    No Deposit  423.0     NaN   \n",
       "119366                     5       2  ...    No Deposit    7.0     NaN   \n",
       "119367                     5       2  ...    No Deposit    7.0     NaN   \n",
       "\n",
       "       days_in_waiting_list customer_type     adr  \\\n",
       "0                         0     Transient    0.00   \n",
       "1                         0     Transient    0.00   \n",
       "6                         0     Transient  107.00   \n",
       "7                         0     Transient  103.00   \n",
       "8                         0     Transient   82.00   \n",
       "...                     ...           ...     ...   \n",
       "119317                    0     Transient  129.60   \n",
       "119340                    0     Transient  171.00   \n",
       "119357                    0     Transient   91.02   \n",
       "119366                    0     Transient   85.59   \n",
       "119367                    0     Transient   85.59   \n",
       "\n",
       "        required_car_parking_spaces  total_of_special_requests  \\\n",
       "0                                 0                          0   \n",
       "1                                 0                          0   \n",
       "6                                 0                          0   \n",
       "7                                 0                          1   \n",
       "8                                 0                          1   \n",
       "...                             ...                        ...   \n",
       "119317                            0                          0   \n",
       "119340                            0                          2   \n",
       "119357                            0                          0   \n",
       "119366                            0                          1   \n",
       "119367                            0                          0   \n",
       "\n",
       "        reservation_status reservation_status_date  \n",
       "0                Check-Out              2015-07-01  \n",
       "1                Check-Out              2015-07-01  \n",
       "6                Check-Out              2015-07-03  \n",
       "7                Check-Out              2015-07-03  \n",
       "8                 Canceled              2015-05-06  \n",
       "...                    ...                     ...  \n",
       "119317           Check-Out              2017-09-03  \n",
       "119340           Check-Out              2017-09-03  \n",
       "119357           Check-Out              2017-09-04  \n",
       "119366           Check-Out              2017-09-04  \n",
       "119367           Check-Out              2017-09-04  \n",
       "\n",
       "[48590 rows x 32 columns]"
      ]
     },
     "execution_count": 34,
     "metadata": {},
     "output_type": "execute_result"
    }
   ],
   "source": [
    "\n",
    "dataframe.head()\n",
    "dataframe[dataframe['country'] == 'ESP']\n",
    "dataframe[dataframe['country'] == 'PRT']\n"
   ]
  },
  {
   "cell_type": "markdown",
   "id": "2f4f9c9b",
   "metadata": {},
   "source": [
    "# Sturges rule to class\n",
    "## k = 1 + (10/3 log₁₀ n)"
   ]
  },
  {
   "cell_type": "code",
   "execution_count": 35,
   "id": "6da9bdef",
   "metadata": {},
   "outputs": [
    {
     "data": {
      "text/plain": [
       "18"
      ]
     },
     "execution_count": 35,
     "metadata": {},
     "output_type": "execute_result"
    }
   ],
   "source": [
    "class_number = 1 + (10 /3) * np.log10(dataframe.shape[0])\n",
    "class_number = int(class_number.round(0))\n",
    "class_number"
   ]
  },
  {
   "cell_type": "markdown",
   "id": "19e34d0c",
   "metadata": {},
   "source": [
    "## lead_time"
   ]
  },
  {
   "cell_type": "code",
   "execution_count": 53,
   "id": "9cca6dd9",
   "metadata": {},
   "outputs": [
    {
     "name": "stdout",
     "output_type": "stream",
     "text": [
      "Mean is 104.01141636652986 \n",
      "Median is 69.0\n",
      "Mode is 0\n",
      "Not a normal distribution\n"
     ]
    },
    {
     "data": {
      "text/html": [
       "<div>\n",
       "<style scoped>\n",
       "    .dataframe tbody tr th:only-of-type {\n",
       "        vertical-align: middle;\n",
       "    }\n",
       "\n",
       "    .dataframe tbody tr th {\n",
       "        vertical-align: top;\n",
       "    }\n",
       "\n",
       "    .dataframe thead th {\n",
       "        text-align: right;\n",
       "    }\n",
       "</style>\n",
       "<table border=\"1\" class=\"dataframe\">\n",
       "  <thead>\n",
       "    <tr style=\"text-align: right;\">\n",
       "      <th>Lead Time</th>\n",
       "      <th>Frequence</th>\n",
       "      <th>Porcentage (%)</th>\n",
       "    </tr>\n",
       "  </thead>\n",
       "  <tbody>\n",
       "    <tr>\n",
       "      <th>(-0.738, 40.944]</th>\n",
       "      <td>45513</td>\n",
       "      <td>0.381213</td>\n",
       "    </tr>\n",
       "    <tr>\n",
       "      <th>(40.944, 81.889]</th>\n",
       "      <td>19319</td>\n",
       "      <td>0.161814</td>\n",
       "    </tr>\n",
       "    <tr>\n",
       "      <th>(81.889, 122.833]</th>\n",
       "      <td>14413</td>\n",
       "      <td>0.120722</td>\n",
       "    </tr>\n",
       "    <tr>\n",
       "      <th>(122.833, 163.778]</th>\n",
       "      <td>11073</td>\n",
       "      <td>0.092746</td>\n",
       "    </tr>\n",
       "    <tr>\n",
       "      <th>(163.778, 204.722]</th>\n",
       "      <td>9034</td>\n",
       "      <td>0.075668</td>\n",
       "    </tr>\n",
       "    <tr>\n",
       "      <th>(204.722, 245.667]</th>\n",
       "      <td>5939</td>\n",
       "      <td>0.049745</td>\n",
       "    </tr>\n",
       "    <tr>\n",
       "      <th>(245.667, 286.611]</th>\n",
       "      <td>4932</td>\n",
       "      <td>0.041310</td>\n",
       "    </tr>\n",
       "    <tr>\n",
       "      <th>(286.611, 327.556]</th>\n",
       "      <td>3826</td>\n",
       "      <td>0.032046</td>\n",
       "    </tr>\n",
       "    <tr>\n",
       "      <th>(327.556, 368.5]</th>\n",
       "      <td>2261</td>\n",
       "      <td>0.018938</td>\n",
       "    </tr>\n",
       "    <tr>\n",
       "      <th>(368.5, 409.444]</th>\n",
       "      <td>1168</td>\n",
       "      <td>0.009783</td>\n",
       "    </tr>\n",
       "    <tr>\n",
       "      <th>(409.444, 450.389]</th>\n",
       "      <td>806</td>\n",
       "      <td>0.006751</td>\n",
       "    </tr>\n",
       "    <tr>\n",
       "      <th>(450.389, 491.333]</th>\n",
       "      <td>598</td>\n",
       "      <td>0.005009</td>\n",
       "    </tr>\n",
       "    <tr>\n",
       "      <th>(491.333, 532.278]</th>\n",
       "      <td>185</td>\n",
       "      <td>0.001550</td>\n",
       "    </tr>\n",
       "    <tr>\n",
       "      <th>(532.278, 573.222]</th>\n",
       "      <td>125</td>\n",
       "      <td>0.001047</td>\n",
       "    </tr>\n",
       "    <tr>\n",
       "      <th>(573.222, 614.167]</th>\n",
       "      <td>115</td>\n",
       "      <td>0.000963</td>\n",
       "    </tr>\n",
       "    <tr>\n",
       "      <th>(614.167, 655.111]</th>\n",
       "      <td>81</td>\n",
       "      <td>0.000678</td>\n",
       "    </tr>\n",
       "    <tr>\n",
       "      <th>(655.111, 696.056]</th>\n",
       "      <td>0</td>\n",
       "      <td>0.000000</td>\n",
       "    </tr>\n",
       "    <tr>\n",
       "      <th>(696.056, 737.0]</th>\n",
       "      <td>2</td>\n",
       "      <td>0.000017</td>\n",
       "    </tr>\n",
       "  </tbody>\n",
       "</table>\n",
       "</div>"
      ],
      "text/plain": [
       "Lead Time           Frequence  Porcentage (%)\n",
       "(-0.738, 40.944]        45513        0.381213\n",
       "(40.944, 81.889]        19319        0.161814\n",
       "(81.889, 122.833]       14413        0.120722\n",
       "(122.833, 163.778]      11073        0.092746\n",
       "(163.778, 204.722]       9034        0.075668\n",
       "(204.722, 245.667]       5939        0.049745\n",
       "(245.667, 286.611]       4932        0.041310\n",
       "(286.611, 327.556]       3826        0.032046\n",
       "(327.556, 368.5]         2261        0.018938\n",
       "(368.5, 409.444]         1168        0.009783\n",
       "(409.444, 450.389]        806        0.006751\n",
       "(450.389, 491.333]        598        0.005009\n",
       "(491.333, 532.278]        185        0.001550\n",
       "(532.278, 573.222]        125        0.001047\n",
       "(573.222, 614.167]        115        0.000963\n",
       "(614.167, 655.111]         81        0.000678\n",
       "(655.111, 696.056]          0        0.000000\n",
       "(696.056, 737.0]            2        0.000017"
      ]
     },
     "execution_count": 53,
     "metadata": {},
     "output_type": "execute_result"
    }
   ],
   "source": [
    "distribution_frequences_lead_time = pd.DataFrame(\n",
    "    {'Frequence': get_frequences_by_column(dataframe, 'lead_time', class_number), \n",
    "     'Porcentage (%)': get_percentage_by_column(dataframe, 'lead_time', class_number)}\n",
    ")\n",
    "distribution_frequences_lead_time.rename_axis('Lead Time', axis= 'columns', inplace = True)\n",
    "statistics_test_lead_time, p_value_lead_time = normaltest(dataframe[\"lead_time\"])\n",
    "\n",
    "print_media_median_mode(dataframe, \"lead_time\")\n",
    "print('Not a normal distribution' if p_value_lead_time <= significance else 'It\"s normal distribution')\n",
    "distribution_frequences_lead_time"
   ]
  },
  {
   "cell_type": "markdown",
   "id": "f295ae6a",
   "metadata": {},
   "source": [
    "### Graphs - lead_time"
   ]
  },
  {
   "cell_type": "code",
   "execution_count": 67,
   "id": "a956f38d",
   "metadata": {},
   "outputs": [
    {
     "data": {
      "text/plain": [
       "<AxesSubplot:xlabel='lead_time', ylabel='Density'>"
      ]
     },
     "execution_count": 67,
     "metadata": {},
     "output_type": "execute_result"
    },
    {
     "data": {
      "image/png": "[encoded data removed]",
      "text/plain": [
       "<Figure size 432x288 with 1 Axes>"
      ]
     },
     "metadata": {
      "needs_background": "light"
     },
     "output_type": "display_data"
    }
   ],
   "source": [
    "sns.distplot(dataframe[\"lead_time\"])"
   ]
  },
  {
   "cell_type": "code",
   "execution_count": 68,
   "id": "f8d3cf2d",
   "metadata": {},
   "outputs": [
    {
     "data": {
      "text/plain": [
       "<AxesSubplot:xlabel='lead_time'>"
      ]
     },
     "execution_count": 68,
     "metadata": {},
     "output_type": "execute_result"
    },
    {
     "data": {
      "image/png": "[encoded data removed]",
      "text/plain": [
       "<Figure size 432x288 with 1 Axes>"
      ]
     },
     "metadata": {
      "needs_background": "light"
     },
     "output_type": "display_data"
    }
   ],
   "source": [
    "sns.boxplot(x = 'lead_time', data = dataframe, orient = 'h')"
   ]
  },
  {
   "cell_type": "code",
   "execution_count": 69,
   "id": "1f154dfa",
   "metadata": {},
   "outputs": [
    {
     "data": {
      "image/png": "[encoded data removed]",
      "text/plain": [
       "<Figure size 432x288 with 1 Axes>"
      ]
     },
     "metadata": {
      "needs_background": "light"
     },
     "output_type": "display_data"
    }
   ],
   "source": [
    "plt.hist(dataframe[\"lead_time\"], bins=20)\n",
    "plt.show()"
   ]
  },
  {
   "cell_type": "markdown",
   "id": "37d5067f",
   "metadata": {},
   "source": [
    "## hotel"
   ]
  },
  {
   "cell_type": "code",
   "execution_count": 72,
   "id": "556b5abf",
   "metadata": {},
   "outputs": [
    {
     "data": {
      "text/html": [
       "<div>\n",
       "<style scoped>\n",
       "    .dataframe tbody tr th:only-of-type {\n",
       "        vertical-align: middle;\n",
       "    }\n",
       "\n",
       "    .dataframe tbody tr th {\n",
       "        vertical-align: top;\n",
       "    }\n",
       "\n",
       "    .dataframe thead th {\n",
       "        text-align: right;\n",
       "    }\n",
       "</style>\n",
       "<table border=\"1\" class=\"dataframe\">\n",
       "  <thead>\n",
       "    <tr style=\"text-align: right;\">\n",
       "      <th>Hotel Type</th>\n",
       "      <th>Frequence</th>\n",
       "      <th>Percentage (%)</th>\n",
       "    </tr>\n",
       "  </thead>\n",
       "  <tbody>\n",
       "    <tr>\n",
       "      <th>City Hotel</th>\n",
       "      <td>79330</td>\n",
       "      <td>66.446101</td>\n",
       "    </tr>\n",
       "    <tr>\n",
       "      <th>Resort Hotel</th>\n",
       "      <td>40060</td>\n",
       "      <td>33.553899</td>\n",
       "    </tr>\n",
       "  </tbody>\n",
       "</table>\n",
       "</div>"
      ],
      "text/plain": [
       "Hotel Type    Frequence  Percentage (%)\n",
       "City Hotel        79330       66.446101\n",
       "Resort Hotel      40060       33.553899"
      ]
     },
     "execution_count": 72,
     "metadata": {},
     "output_type": "execute_result"
    }
   ],
   "source": [
    "frequence_hotel = dataframe['hotel'].value_counts()\n",
    "percentage_hotel = dataframe['hotel'].value_counts(normalize = True) * 100\n",
    "distribution_frequence_hotel = pd.DataFrame({'Frequence': frequence_hotel, 'Percentage (%)': percentage_hotel})\n",
    "distribution_frequence_hotel.rename_axis('Hotel Type', axis= 'columns', inplace = True)\n",
    "\n",
    "distribution_frequence_hotel"
   ]
  },
  {
   "cell_type": "markdown",
   "id": "f71b26cf",
   "metadata": {},
   "source": [
    "### Graphs - hotel"
   ]
  },
  {
   "cell_type": "code",
   "execution_count": 73,
   "id": "7a33de30",
   "metadata": {},
   "outputs": [
    {
     "data": {
      "image/png": "[encoded data removed]",
      "text/plain": [
       "<Figure size 432x288 with 1 Axes>"
      ]
     },
     "metadata": {
      "needs_background": "light"
     },
     "output_type": "display_data"
    }
   ],
   "source": [
    "plt.hist(dataframe[\"hotel\"], bins=2)\n",
    "plt.show()"
   ]
  },
  {
   "cell_type": "markdown",
   "id": "a6beaf3f",
   "metadata": {},
   "source": [
    "## adults"
   ]
  },
  {
   "cell_type": "code",
   "execution_count": 75,
   "id": "ae9aa56d",
   "metadata": {},
   "outputs": [
    {
     "name": "stdout",
     "output_type": "stream",
     "text": [
      "Mean is 1.8564033838679956 \n",
      "Median is 2.0\n",
      "Mode is 2\n",
      "Not a normal distribution\n"
     ]
    },
    {
     "data": {
      "text/html": [
       "<div>\n",
       "<style scoped>\n",
       "    .dataframe tbody tr th:only-of-type {\n",
       "        vertical-align: middle;\n",
       "    }\n",
       "\n",
       "    .dataframe tbody tr th {\n",
       "        vertical-align: top;\n",
       "    }\n",
       "\n",
       "    .dataframe thead th {\n",
       "        text-align: right;\n",
       "    }\n",
       "</style>\n",
       "<table border=\"1\" class=\"dataframe\">\n",
       "  <thead>\n",
       "    <tr style=\"text-align: right;\">\n",
       "      <th>Adults</th>\n",
       "      <th>Frequence</th>\n",
       "      <th>Porcentage (%)</th>\n",
       "    </tr>\n",
       "  </thead>\n",
       "  <tbody>\n",
       "    <tr>\n",
       "      <th>(-0.056, 3.056]</th>\n",
       "      <td>119312</td>\n",
       "      <td>0.999347</td>\n",
       "    </tr>\n",
       "    <tr>\n",
       "      <th>(3.056, 6.111]</th>\n",
       "      <td>65</td>\n",
       "      <td>0.000544</td>\n",
       "    </tr>\n",
       "    <tr>\n",
       "      <th>(6.111, 9.167]</th>\n",
       "      <td>0</td>\n",
       "      <td>0.000000</td>\n",
       "    </tr>\n",
       "    <tr>\n",
       "      <th>(9.167, 12.222]</th>\n",
       "      <td>1</td>\n",
       "      <td>0.000008</td>\n",
       "    </tr>\n",
       "    <tr>\n",
       "      <th>(12.222, 15.278]</th>\n",
       "      <td>0</td>\n",
       "      <td>0.000000</td>\n",
       "    </tr>\n",
       "    <tr>\n",
       "      <th>(15.278, 18.333]</th>\n",
       "      <td>0</td>\n",
       "      <td>0.000000</td>\n",
       "    </tr>\n",
       "    <tr>\n",
       "      <th>(18.333, 21.389]</th>\n",
       "      <td>2</td>\n",
       "      <td>0.000017</td>\n",
       "    </tr>\n",
       "    <tr>\n",
       "      <th>(21.389, 24.444]</th>\n",
       "      <td>0</td>\n",
       "      <td>0.000000</td>\n",
       "    </tr>\n",
       "    <tr>\n",
       "      <th>(24.444, 27.5]</th>\n",
       "      <td>7</td>\n",
       "      <td>0.000059</td>\n",
       "    </tr>\n",
       "    <tr>\n",
       "      <th>(27.5, 30.556]</th>\n",
       "      <td>0</td>\n",
       "      <td>0.000000</td>\n",
       "    </tr>\n",
       "    <tr>\n",
       "      <th>(30.556, 33.611]</th>\n",
       "      <td>0</td>\n",
       "      <td>0.000000</td>\n",
       "    </tr>\n",
       "    <tr>\n",
       "      <th>(33.611, 36.667]</th>\n",
       "      <td>0</td>\n",
       "      <td>0.000000</td>\n",
       "    </tr>\n",
       "    <tr>\n",
       "      <th>(36.667, 39.722]</th>\n",
       "      <td>0</td>\n",
       "      <td>0.000000</td>\n",
       "    </tr>\n",
       "    <tr>\n",
       "      <th>(39.722, 42.778]</th>\n",
       "      <td>1</td>\n",
       "      <td>0.000008</td>\n",
       "    </tr>\n",
       "    <tr>\n",
       "      <th>(42.778, 45.833]</th>\n",
       "      <td>0</td>\n",
       "      <td>0.000000</td>\n",
       "    </tr>\n",
       "    <tr>\n",
       "      <th>(45.833, 48.889]</th>\n",
       "      <td>0</td>\n",
       "      <td>0.000000</td>\n",
       "    </tr>\n",
       "    <tr>\n",
       "      <th>(48.889, 51.944]</th>\n",
       "      <td>1</td>\n",
       "      <td>0.000008</td>\n",
       "    </tr>\n",
       "    <tr>\n",
       "      <th>(51.944, 55.0]</th>\n",
       "      <td>1</td>\n",
       "      <td>0.000008</td>\n",
       "    </tr>\n",
       "  </tbody>\n",
       "</table>\n",
       "</div>"
      ],
      "text/plain": [
       "Adults            Frequence  Porcentage (%)\n",
       "(-0.056, 3.056]      119312        0.999347\n",
       "(3.056, 6.111]           65        0.000544\n",
       "(6.111, 9.167]            0        0.000000\n",
       "(9.167, 12.222]           1        0.000008\n",
       "(12.222, 15.278]          0        0.000000\n",
       "(15.278, 18.333]          0        0.000000\n",
       "(18.333, 21.389]          2        0.000017\n",
       "(21.389, 24.444]          0        0.000000\n",
       "(24.444, 27.5]            7        0.000059\n",
       "(27.5, 30.556]            0        0.000000\n",
       "(30.556, 33.611]          0        0.000000\n",
       "(33.611, 36.667]          0        0.000000\n",
       "(36.667, 39.722]          0        0.000000\n",
       "(39.722, 42.778]          1        0.000008\n",
       "(42.778, 45.833]          0        0.000000\n",
       "(45.833, 48.889]          0        0.000000\n",
       "(48.889, 51.944]          1        0.000008\n",
       "(51.944, 55.0]            1        0.000008"
      ]
     },
     "execution_count": 75,
     "metadata": {},
     "output_type": "execute_result"
    }
   ],
   "source": [
    "distribution_frequences_adults = pd.DataFrame(\n",
    "    {'Frequence': get_frequences_by_column(dataframe, 'adults', class_number), \n",
    "     'Porcentage (%)': get_percentage_by_column(dataframe, 'adults', class_number)}\n",
    ")\n",
    "\n",
    "distribution_frequences_adults.rename_axis('Adults', axis= 'columns', inplace = True)\n",
    "print_media_median_mode(dataframe, \"adults\")\n",
    "statistics_test_adults, p_value_adults = normaltest(dataframe[\"adults\"])\n",
    "print('Not a normal distribution' if p_value_adults <= significance else 'It\"s normal distribution')\n",
    "distribution_frequences_adults"
   ]
  },
  {
   "cell_type": "markdown",
   "id": "026057ef",
   "metadata": {},
   "source": [
    "### Graphs - adults"
   ]
  },
  {
   "cell_type": "code",
   "execution_count": 76,
   "id": "50da5029",
   "metadata": {},
   "outputs": [
    {
     "data": {
      "text/plain": [
       "<AxesSubplot:xlabel='adults', ylabel='Density'>"
      ]
     },
     "execution_count": 76,
     "metadata": {},
     "output_type": "execute_result"
    },
    {
     "data": {
      "image/png": "[encoded data removed]",
      "text/plain": [
       "<Figure size 432x288 with 1 Axes>"
      ]
     },
     "metadata": {
      "needs_background": "light"
     },
     "output_type": "display_data"
    }
   ],
   "source": [
    "sns.distplot(dataframe[\"adults\"])"
   ]
  },
  {
   "cell_type": "code",
   "execution_count": 77,
   "id": "17aa6efa",
   "metadata": {},
   "outputs": [
    {
     "data": {
      "image/png": "[encoded data removed]",
      "text/plain": [
       "<Figure size 432x288 with 1 Axes>"
      ]
     },
     "metadata": {
      "needs_background": "light"
     },
     "output_type": "display_data"
    }
   ],
   "source": [
    "plt.hist(dataframe[\"adults\"], bins=100)\n",
    "plt.show()"
   ]
  },
  {
   "cell_type": "markdown",
   "id": "a676b21f",
   "metadata": {},
   "source": [
    "## children"
   ]
  },
  {
   "cell_type": "code",
   "execution_count": 79,
   "id": "032b6c9d",
   "metadata": {},
   "outputs": [
    {
     "name": "stdout",
     "output_type": "stream",
     "text": [
      "Mean is 0.10388990333874994 \n",
      "Median is 0.0\n",
      "Mode is 0.0\n",
      "It\"s normal distribution\n"
     ]
    },
    {
     "data": {
      "text/html": [
       "<div>\n",
       "<style scoped>\n",
       "    .dataframe tbody tr th:only-of-type {\n",
       "        vertical-align: middle;\n",
       "    }\n",
       "\n",
       "    .dataframe tbody tr th {\n",
       "        vertical-align: top;\n",
       "    }\n",
       "\n",
       "    .dataframe thead th {\n",
       "        text-align: right;\n",
       "    }\n",
       "</style>\n",
       "<table border=\"1\" class=\"dataframe\">\n",
       "  <thead>\n",
       "    <tr style=\"text-align: right;\">\n",
       "      <th>Children</th>\n",
       "      <th>Frequence</th>\n",
       "      <th>Porcentage (%)</th>\n",
       "    </tr>\n",
       "  </thead>\n",
       "  <tbody>\n",
       "    <tr>\n",
       "      <th>(-0.011, 0.556]</th>\n",
       "      <td>110796</td>\n",
       "      <td>0.928049</td>\n",
       "    </tr>\n",
       "    <tr>\n",
       "      <th>(0.556, 1.111]</th>\n",
       "      <td>4861</td>\n",
       "      <td>0.040717</td>\n",
       "    </tr>\n",
       "    <tr>\n",
       "      <th>(1.111, 1.667]</th>\n",
       "      <td>0</td>\n",
       "      <td>0.000000</td>\n",
       "    </tr>\n",
       "    <tr>\n",
       "      <th>(1.667, 2.222]</th>\n",
       "      <td>3652</td>\n",
       "      <td>0.030590</td>\n",
       "    </tr>\n",
       "    <tr>\n",
       "      <th>(2.222, 2.778]</th>\n",
       "      <td>0</td>\n",
       "      <td>0.000000</td>\n",
       "    </tr>\n",
       "    <tr>\n",
       "      <th>(2.778, 3.333]</th>\n",
       "      <td>76</td>\n",
       "      <td>0.000637</td>\n",
       "    </tr>\n",
       "    <tr>\n",
       "      <th>(3.333, 3.889]</th>\n",
       "      <td>0</td>\n",
       "      <td>0.000000</td>\n",
       "    </tr>\n",
       "    <tr>\n",
       "      <th>(3.889, 4.444]</th>\n",
       "      <td>0</td>\n",
       "      <td>0.000000</td>\n",
       "    </tr>\n",
       "    <tr>\n",
       "      <th>(4.444, 5.0]</th>\n",
       "      <td>0</td>\n",
       "      <td>0.000000</td>\n",
       "    </tr>\n",
       "    <tr>\n",
       "      <th>(5.0, 5.556]</th>\n",
       "      <td>0</td>\n",
       "      <td>0.000000</td>\n",
       "    </tr>\n",
       "    <tr>\n",
       "      <th>(5.556, 6.111]</th>\n",
       "      <td>0</td>\n",
       "      <td>0.000000</td>\n",
       "    </tr>\n",
       "    <tr>\n",
       "      <th>(6.111, 6.667]</th>\n",
       "      <td>0</td>\n",
       "      <td>0.000000</td>\n",
       "    </tr>\n",
       "    <tr>\n",
       "      <th>(6.667, 7.222]</th>\n",
       "      <td>0</td>\n",
       "      <td>0.000000</td>\n",
       "    </tr>\n",
       "    <tr>\n",
       "      <th>(7.222, 7.778]</th>\n",
       "      <td>0</td>\n",
       "      <td>0.000000</td>\n",
       "    </tr>\n",
       "    <tr>\n",
       "      <th>(7.778, 8.333]</th>\n",
       "      <td>0</td>\n",
       "      <td>0.000000</td>\n",
       "    </tr>\n",
       "    <tr>\n",
       "      <th>(8.333, 8.889]</th>\n",
       "      <td>0</td>\n",
       "      <td>0.000000</td>\n",
       "    </tr>\n",
       "    <tr>\n",
       "      <th>(8.889, 9.444]</th>\n",
       "      <td>0</td>\n",
       "      <td>0.000000</td>\n",
       "    </tr>\n",
       "    <tr>\n",
       "      <th>(9.444, 10.0]</th>\n",
       "      <td>1</td>\n",
       "      <td>0.000008</td>\n",
       "    </tr>\n",
       "  </tbody>\n",
       "</table>\n",
       "</div>"
      ],
      "text/plain": [
       "Children         Frequence  Porcentage (%)\n",
       "(-0.011, 0.556]     110796        0.928049\n",
       "(0.556, 1.111]        4861        0.040717\n",
       "(1.111, 1.667]           0        0.000000\n",
       "(1.667, 2.222]        3652        0.030590\n",
       "(2.222, 2.778]           0        0.000000\n",
       "(2.778, 3.333]          76        0.000637\n",
       "(3.333, 3.889]           0        0.000000\n",
       "(3.889, 4.444]           0        0.000000\n",
       "(4.444, 5.0]             0        0.000000\n",
       "(5.0, 5.556]             0        0.000000\n",
       "(5.556, 6.111]           0        0.000000\n",
       "(6.111, 6.667]           0        0.000000\n",
       "(6.667, 7.222]           0        0.000000\n",
       "(7.222, 7.778]           0        0.000000\n",
       "(7.778, 8.333]           0        0.000000\n",
       "(8.333, 8.889]           0        0.000000\n",
       "(8.889, 9.444]           0        0.000000\n",
       "(9.444, 10.0]            1        0.000008"
      ]
     },
     "execution_count": 79,
     "metadata": {},
     "output_type": "execute_result"
    }
   ],
   "source": [
    "distribution_frequences_children = pd.DataFrame(\n",
    "    {'Frequence': get_frequences_by_column(dataframe, 'children', class_number), \n",
    "     'Porcentage (%)': get_percentage_by_column(dataframe, 'children', class_number)}\n",
    ")\n",
    "distribution_frequences_children.rename_axis('Children', axis= 'columns', inplace = True)\n",
    "\n",
    "print_media_median_mode(dataframe, \"children\")\n",
    "statistics_test_children, p_value_children = normaltest(dataframe[\"children\"])\n",
    "print('Not a normal distribution' if p_value_children <= significance else 'It\"s normal distribution')\n",
    "distribution_frequences_children"
   ]
  },
  {
   "cell_type": "markdown",
   "id": "796e5b28",
   "metadata": {},
   "source": [
    "### Graphs - children"
   ]
  },
  {
   "cell_type": "code",
   "execution_count": 81,
   "id": "8ab18b5d",
   "metadata": {},
   "outputs": [
    {
     "data": {
      "text/plain": [
       "<AxesSubplot:xlabel='children', ylabel='Density'>"
      ]
     },
     "execution_count": 81,
     "metadata": {},
     "output_type": "execute_result"
    },
    {
     "data": {
      "image/png": "[encoded data removed]",
      "text/plain": [
       "<Figure size 432x288 with 1 Axes>"
      ]
     },
     "metadata": {
      "needs_background": "light"
     },
     "output_type": "display_data"
    }
   ],
   "source": [
    "sns.distplot(dataframe['children'])"
   ]
  },
  {
   "cell_type": "code",
   "execution_count": 80,
   "id": "f6f46df0",
   "metadata": {},
   "outputs": [
    {
     "data": {
      "image/png": "[encoded data removed]",
      "text/plain": [
       "<Figure size 432x288 with 1 Axes>"
      ]
     },
     "metadata": {
      "needs_background": "light"
     },
     "output_type": "display_data"
    }
   ],
   "source": [
    "plt.hist(dataframe[\"children\"], bins=100)\n",
    "plt.show()"
   ]
  },
  {
   "cell_type": "markdown",
   "id": "12ceabb5",
   "metadata": {},
   "source": [
    "## babies"
   ]
  },
  {
   "cell_type": "code",
   "execution_count": 82,
   "id": "7f043364",
   "metadata": {},
   "outputs": [
    {
     "name": "stdout",
     "output_type": "stream",
     "text": [
      "Mean is 0.007948739425412514 \n",
      "Median is 0.0\n",
      "Mode is 0\n",
      "Not a normal distribution\n"
     ]
    },
    {
     "data": {
      "text/html": [
       "<div>\n",
       "<style scoped>\n",
       "    .dataframe tbody tr th:only-of-type {\n",
       "        vertical-align: middle;\n",
       "    }\n",
       "\n",
       "    .dataframe tbody tr th {\n",
       "        vertical-align: top;\n",
       "    }\n",
       "\n",
       "    .dataframe thead th {\n",
       "        text-align: right;\n",
       "    }\n",
       "</style>\n",
       "<table border=\"1\" class=\"dataframe\">\n",
       "  <thead>\n",
       "    <tr style=\"text-align: right;\">\n",
       "      <th>Babies</th>\n",
       "      <th>Frequence</th>\n",
       "      <th>Porcentage (%)</th>\n",
       "    </tr>\n",
       "  </thead>\n",
       "  <tbody>\n",
       "    <tr>\n",
       "      <th>(-0.011, 0.556]</th>\n",
       "      <td>118473</td>\n",
       "      <td>0.992319</td>\n",
       "    </tr>\n",
       "    <tr>\n",
       "      <th>(0.556, 1.111]</th>\n",
       "      <td>900</td>\n",
       "      <td>0.007538</td>\n",
       "    </tr>\n",
       "    <tr>\n",
       "      <th>(1.111, 1.667]</th>\n",
       "      <td>0</td>\n",
       "      <td>0.000000</td>\n",
       "    </tr>\n",
       "    <tr>\n",
       "      <th>(1.667, 2.222]</th>\n",
       "      <td>15</td>\n",
       "      <td>0.000126</td>\n",
       "    </tr>\n",
       "    <tr>\n",
       "      <th>(2.222, 2.778]</th>\n",
       "      <td>0</td>\n",
       "      <td>0.000000</td>\n",
       "    </tr>\n",
       "    <tr>\n",
       "      <th>(2.778, 3.333]</th>\n",
       "      <td>0</td>\n",
       "      <td>0.000000</td>\n",
       "    </tr>\n",
       "    <tr>\n",
       "      <th>(3.333, 3.889]</th>\n",
       "      <td>0</td>\n",
       "      <td>0.000000</td>\n",
       "    </tr>\n",
       "    <tr>\n",
       "      <th>(3.889, 4.444]</th>\n",
       "      <td>0</td>\n",
       "      <td>0.000000</td>\n",
       "    </tr>\n",
       "    <tr>\n",
       "      <th>(4.444, 5.0]</th>\n",
       "      <td>0</td>\n",
       "      <td>0.000000</td>\n",
       "    </tr>\n",
       "    <tr>\n",
       "      <th>(5.0, 5.556]</th>\n",
       "      <td>0</td>\n",
       "      <td>0.000000</td>\n",
       "    </tr>\n",
       "    <tr>\n",
       "      <th>(5.556, 6.111]</th>\n",
       "      <td>0</td>\n",
       "      <td>0.000000</td>\n",
       "    </tr>\n",
       "    <tr>\n",
       "      <th>(6.111, 6.667]</th>\n",
       "      <td>0</td>\n",
       "      <td>0.000000</td>\n",
       "    </tr>\n",
       "    <tr>\n",
       "      <th>(6.667, 7.222]</th>\n",
       "      <td>0</td>\n",
       "      <td>0.000000</td>\n",
       "    </tr>\n",
       "    <tr>\n",
       "      <th>(7.222, 7.778]</th>\n",
       "      <td>0</td>\n",
       "      <td>0.000000</td>\n",
       "    </tr>\n",
       "    <tr>\n",
       "      <th>(7.778, 8.333]</th>\n",
       "      <td>0</td>\n",
       "      <td>0.000000</td>\n",
       "    </tr>\n",
       "    <tr>\n",
       "      <th>(8.333, 8.889]</th>\n",
       "      <td>0</td>\n",
       "      <td>0.000000</td>\n",
       "    </tr>\n",
       "    <tr>\n",
       "      <th>(8.889, 9.444]</th>\n",
       "      <td>1</td>\n",
       "      <td>0.000008</td>\n",
       "    </tr>\n",
       "    <tr>\n",
       "      <th>(9.444, 10.0]</th>\n",
       "      <td>1</td>\n",
       "      <td>0.000008</td>\n",
       "    </tr>\n",
       "  </tbody>\n",
       "</table>\n",
       "</div>"
      ],
      "text/plain": [
       "Babies           Frequence  Porcentage (%)\n",
       "(-0.011, 0.556]     118473        0.992319\n",
       "(0.556, 1.111]         900        0.007538\n",
       "(1.111, 1.667]           0        0.000000\n",
       "(1.667, 2.222]          15        0.000126\n",
       "(2.222, 2.778]           0        0.000000\n",
       "(2.778, 3.333]           0        0.000000\n",
       "(3.333, 3.889]           0        0.000000\n",
       "(3.889, 4.444]           0        0.000000\n",
       "(4.444, 5.0]             0        0.000000\n",
       "(5.0, 5.556]             0        0.000000\n",
       "(5.556, 6.111]           0        0.000000\n",
       "(6.111, 6.667]           0        0.000000\n",
       "(6.667, 7.222]           0        0.000000\n",
       "(7.222, 7.778]           0        0.000000\n",
       "(7.778, 8.333]           0        0.000000\n",
       "(8.333, 8.889]           0        0.000000\n",
       "(8.889, 9.444]           1        0.000008\n",
       "(9.444, 10.0]            1        0.000008"
      ]
     },
     "execution_count": 82,
     "metadata": {},
     "output_type": "execute_result"
    }
   ],
   "source": [
    "distribution_frequences_babies = pd.DataFrame(\n",
    "    {'Frequence': get_frequences_by_column(dataframe, 'babies', class_number), \n",
    "     'Porcentage (%)': get_percentage_by_column(dataframe, 'babies', class_number)}\n",
    ")\n",
    "distribution_frequences_babies.rename_axis('Babies', axis= 'columns', inplace = True)\n",
    "\n",
    "print_media_median_mode(dataframe, \"babies\")\n",
    "\n",
    "statistics_test_babies, p_value_babies = normaltest(dataframe[\"babies\"])\n",
    "print('Not a normal distribution' if p_value_babies <= significance else 'It\"s normal distribution')\n",
    "distribution_frequences_babies"
   ]
  },
  {
   "cell_type": "markdown",
   "id": "2fce0ee0",
   "metadata": {},
   "source": [
    "### Graphs - babies"
   ]
  },
  {
   "cell_type": "code",
   "execution_count": 84,
   "id": "cdd90e23",
   "metadata": {},
   "outputs": [
    {
     "data": {
      "text/plain": [
       "<AxesSubplot:xlabel='babies', ylabel='Density'>"
      ]
     },
     "execution_count": 84,
     "metadata": {},
     "output_type": "execute_result"
    },
    {
     "data": {
      "image/png": "[encoded data removed]",
      "text/plain": [
       "<Figure size 432x288 with 1 Axes>"
      ]
     },
     "metadata": {
      "needs_background": "light"
     },
     "output_type": "display_data"
    }
   ],
   "source": [
    "sns.distplot(dataframe[\"babies\"])"
   ]
  },
  {
   "cell_type": "code",
   "execution_count": 85,
   "id": "bf725628",
   "metadata": {},
   "outputs": [
    {
     "data": {
      "image/png": "[encoded data removed]",
      "text/plain": [
       "<Figure size 432x288 with 1 Axes>"
      ]
     },
     "metadata": {
      "needs_background": "light"
     },
     "output_type": "display_data"
    }
   ],
   "source": [
    "plt.hist(dataframe[\"babies\"], bins=100)\n",
    "plt.show()"
   ]
  },
  {
   "cell_type": "markdown",
   "id": "7270a8cd",
   "metadata": {},
   "source": [
    "## arrival_date_week_number"
   ]
  },
  {
   "cell_type": "code",
   "execution_count": 86,
   "id": "029fb75b",
   "metadata": {},
   "outputs": [
    {
     "name": "stdout",
     "output_type": "stream",
     "text": [
      "Mean is 27.16517296255968 \n",
      "Median is 28.0\n",
      "Mode is 33\n",
      "Not a normal distribution\n"
     ]
    },
    {
     "data": {
      "text/html": [
       "<div>\n",
       "<style scoped>\n",
       "    .dataframe tbody tr th:only-of-type {\n",
       "        vertical-align: middle;\n",
       "    }\n",
       "\n",
       "    .dataframe tbody tr th {\n",
       "        vertical-align: top;\n",
       "    }\n",
       "\n",
       "    .dataframe thead th {\n",
       "        text-align: right;\n",
       "    }\n",
       "</style>\n",
       "<table border=\"1\" class=\"dataframe\">\n",
       "  <thead>\n",
       "    <tr style=\"text-align: right;\">\n",
       "      <th>Arrival Date Week</th>\n",
       "      <th>Frequence</th>\n",
       "      <th>Porcentage (%)</th>\n",
       "    </tr>\n",
       "  </thead>\n",
       "  <tbody>\n",
       "    <tr>\n",
       "      <th>(0.947, 3.889]</th>\n",
       "      <td>3584</td>\n",
       "      <td>0.030019</td>\n",
       "    </tr>\n",
       "    <tr>\n",
       "      <th>(3.889, 6.778]</th>\n",
       "      <td>4382</td>\n",
       "      <td>0.036703</td>\n",
       "    </tr>\n",
       "    <tr>\n",
       "      <th>(6.778, 9.667]</th>\n",
       "      <td>6442</td>\n",
       "      <td>0.053958</td>\n",
       "    </tr>\n",
       "    <tr>\n",
       "      <th>(9.667, 12.556]</th>\n",
       "      <td>6302</td>\n",
       "      <td>0.052785</td>\n",
       "    </tr>\n",
       "    <tr>\n",
       "      <th>(12.556, 15.444]</th>\n",
       "      <td>7369</td>\n",
       "      <td>0.061722</td>\n",
       "    </tr>\n",
       "    <tr>\n",
       "      <th>(15.444, 18.333]</th>\n",
       "      <td>8136</td>\n",
       "      <td>0.068146</td>\n",
       "    </tr>\n",
       "    <tr>\n",
       "      <th>(18.333, 21.222]</th>\n",
       "      <td>8041</td>\n",
       "      <td>0.067351</td>\n",
       "    </tr>\n",
       "    <tr>\n",
       "      <th>(21.222, 24.111]</th>\n",
       "      <td>7665</td>\n",
       "      <td>0.064201</td>\n",
       "    </tr>\n",
       "    <tr>\n",
       "      <th>(24.111, 27.0]</th>\n",
       "      <td>7718</td>\n",
       "      <td>0.064645</td>\n",
       "    </tr>\n",
       "    <tr>\n",
       "      <th>(27.0, 29.889]</th>\n",
       "      <td>5616</td>\n",
       "      <td>0.047039</td>\n",
       "    </tr>\n",
       "    <tr>\n",
       "      <th>(29.889, 32.778]</th>\n",
       "      <td>8873</td>\n",
       "      <td>0.074319</td>\n",
       "    </tr>\n",
       "    <tr>\n",
       "      <th>(32.778, 35.667]</th>\n",
       "      <td>9213</td>\n",
       "      <td>0.077167</td>\n",
       "    </tr>\n",
       "    <tr>\n",
       "      <th>(35.667, 38.556]</th>\n",
       "      <td>7057</td>\n",
       "      <td>0.059109</td>\n",
       "    </tr>\n",
       "    <tr>\n",
       "      <th>(38.556, 41.444]</th>\n",
       "      <td>7677</td>\n",
       "      <td>0.064302</td>\n",
       "    </tr>\n",
       "    <tr>\n",
       "      <th>(41.444, 44.333]</th>\n",
       "      <td>7380</td>\n",
       "      <td>0.061814</td>\n",
       "    </tr>\n",
       "    <tr>\n",
       "      <th>(44.333, 47.222]</th>\n",
       "      <td>5200</td>\n",
       "      <td>0.043555</td>\n",
       "    </tr>\n",
       "    <tr>\n",
       "      <th>(47.222, 50.111]</th>\n",
       "      <td>4791</td>\n",
       "      <td>0.040129</td>\n",
       "    </tr>\n",
       "    <tr>\n",
       "      <th>(50.111, 53.0]</th>\n",
       "      <td>3944</td>\n",
       "      <td>0.033035</td>\n",
       "    </tr>\n",
       "  </tbody>\n",
       "</table>\n",
       "</div>"
      ],
      "text/plain": [
       "Arrival Date Week  Frequence  Porcentage (%)\n",
       "(0.947, 3.889]          3584        0.030019\n",
       "(3.889, 6.778]          4382        0.036703\n",
       "(6.778, 9.667]          6442        0.053958\n",
       "(9.667, 12.556]         6302        0.052785\n",
       "(12.556, 15.444]        7369        0.061722\n",
       "(15.444, 18.333]        8136        0.068146\n",
       "(18.333, 21.222]        8041        0.067351\n",
       "(21.222, 24.111]        7665        0.064201\n",
       "(24.111, 27.0]          7718        0.064645\n",
       "(27.0, 29.889]          5616        0.047039\n",
       "(29.889, 32.778]        8873        0.074319\n",
       "(32.778, 35.667]        9213        0.077167\n",
       "(35.667, 38.556]        7057        0.059109\n",
       "(38.556, 41.444]        7677        0.064302\n",
       "(41.444, 44.333]        7380        0.061814\n",
       "(44.333, 47.222]        5200        0.043555\n",
       "(47.222, 50.111]        4791        0.040129\n",
       "(50.111, 53.0]          3944        0.033035"
      ]
     },
     "execution_count": 86,
     "metadata": {},
     "output_type": "execute_result"
    }
   ],
   "source": [
    "distribution_frequences_arrival_date_week_number = pd.DataFrame(\n",
    "    {'Frequence': get_frequences_by_column(dataframe, 'arrival_date_week_number', class_number), \n",
    "     'Porcentage (%)': get_percentage_by_column(dataframe, 'arrival_date_week_number', class_number)}\n",
    ")\n",
    "distribution_frequences_arrival_date_week_number.rename_axis('Arrival Date Week', axis= 'columns', inplace = True)\n",
    "\n",
    "print_media_median_mode(dataframe, \"arrival_date_week_number\")\n",
    "\n",
    "statistics_test_arrival_date_week_number, p_value_arrival_date_week_number = normaltest(dataframe[\"arrival_date_week_number\"])\n",
    "print('Not a normal distribution' if p_value_arrival_date_week_number <= significance else 'It\"s normal distribution')\n",
    "distribution_frequences_arrival_date_week_number"
   ]
  },
  {
   "cell_type": "markdown",
   "id": "d00bbfb3",
   "metadata": {},
   "source": [
    "### Graphs - arrival_date_week_number"
   ]
  },
  {
   "cell_type": "code",
   "execution_count": 87,
   "id": "c318508a",
   "metadata": {},
   "outputs": [
    {
     "data": {
      "text/plain": [
       "<AxesSubplot:xlabel='arrival_date_week_number', ylabel='Density'>"
      ]
     },
     "execution_count": 87,
     "metadata": {},
     "output_type": "execute_result"
    },
    {
     "data": {
      "image/png": "[encoded data removed]",
      "text/plain": [
       "<Figure size 432x288 with 1 Axes>"
      ]
     },
     "metadata": {
      "needs_background": "light"
     },
     "output_type": "display_data"
    }
   ],
   "source": [
    "sns.distplot(dataframe[\"arrival_date_week_number\"])"
   ]
  },
  {
   "cell_type": "code",
   "execution_count": 89,
   "id": "9c9123f8",
   "metadata": {},
   "outputs": [
    {
     "data": {
      "text/plain": [
       "<AxesSubplot:xlabel='arrival_date_week_number'>"
      ]
     },
     "execution_count": 89,
     "metadata": {},
     "output_type": "execute_result"
    },
    {
     "data": {
      "image/png": "[encoded data removed]",
      "text/plain": [
       "<Figure size 432x288 with 1 Axes>"
      ]
     },
     "metadata": {
      "needs_background": "light"
     },
     "output_type": "display_data"
    }
   ],
   "source": [
    "sns.boxplot( x = 'arrival_date_week_number', data = dataframe, orient = 'h')"
   ]
  },
  {
   "cell_type": "code",
   "execution_count": 90,
   "id": "c06f9e8a",
   "metadata": {},
   "outputs": [
    {
     "data": {
      "image/png": "[encoded data removed]",
      "text/plain": [
       "<Figure size 432x288 with 1 Axes>"
      ]
     },
     "metadata": {
      "needs_background": "light"
     },
     "output_type": "display_data"
    }
   ],
   "source": [
    "plt.hist(dataframe[\"arrival_date_week_number\"], bins=50)\n",
    "plt.show()"
   ]
  },
  {
   "cell_type": "markdown",
   "id": "71387812",
   "metadata": {},
   "source": [
    "## stays_in_week_nights"
   ]
  },
  {
   "cell_type": "code",
   "execution_count": 91,
   "id": "0f14dd45",
   "metadata": {},
   "outputs": [
    {
     "name": "stdout",
     "output_type": "stream",
     "text": [
      "Mean is 2.500301532791691 \n",
      "Median is 2.0\n",
      "Mode is 2\n",
      "Not a normal distribution\n"
     ]
    },
    {
     "data": {
      "text/html": [
       "<div>\n",
       "<style scoped>\n",
       "    .dataframe tbody tr th:only-of-type {\n",
       "        vertical-align: middle;\n",
       "    }\n",
       "\n",
       "    .dataframe tbody tr th {\n",
       "        vertical-align: top;\n",
       "    }\n",
       "\n",
       "    .dataframe thead th {\n",
       "        text-align: right;\n",
       "    }\n",
       "</style>\n",
       "<table border=\"1\" class=\"dataframe\">\n",
       "  <thead>\n",
       "    <tr style=\"text-align: right;\">\n",
       "      <th>Stays in Week Nights</th>\n",
       "      <th>Frequence</th>\n",
       "      <th>Porcentage (%)</th>\n",
       "    </tr>\n",
       "  </thead>\n",
       "  <tbody>\n",
       "    <tr>\n",
       "      <th>(-0.051000000000000004, 2.778]</th>\n",
       "      <td>71639</td>\n",
       "      <td>0.600042</td>\n",
       "    </tr>\n",
       "    <tr>\n",
       "      <th>(2.778, 5.556]</th>\n",
       "      <td>42898</td>\n",
       "      <td>0.359310</td>\n",
       "    </tr>\n",
       "    <tr>\n",
       "      <th>(5.556, 8.333]</th>\n",
       "      <td>3184</td>\n",
       "      <td>0.026669</td>\n",
       "    </tr>\n",
       "    <tr>\n",
       "      <th>(8.333, 11.111]</th>\n",
       "      <td>1323</td>\n",
       "      <td>0.011081</td>\n",
       "    </tr>\n",
       "    <tr>\n",
       "      <th>(11.111, 13.889]</th>\n",
       "      <td>69</td>\n",
       "      <td>0.000578</td>\n",
       "    </tr>\n",
       "    <tr>\n",
       "      <th>(13.889, 16.667]</th>\n",
       "      <td>136</td>\n",
       "      <td>0.001139</td>\n",
       "    </tr>\n",
       "    <tr>\n",
       "      <th>(16.667, 19.444]</th>\n",
       "      <td>54</td>\n",
       "      <td>0.000452</td>\n",
       "    </tr>\n",
       "    <tr>\n",
       "      <th>(19.444, 22.222]</th>\n",
       "      <td>63</td>\n",
       "      <td>0.000528</td>\n",
       "    </tr>\n",
       "    <tr>\n",
       "      <th>(22.222, 25.0]</th>\n",
       "      <td>9</td>\n",
       "      <td>0.000075</td>\n",
       "    </tr>\n",
       "    <tr>\n",
       "      <th>(25.0, 27.778]</th>\n",
       "      <td>1</td>\n",
       "      <td>0.000008</td>\n",
       "    </tr>\n",
       "    <tr>\n",
       "      <th>(27.778, 30.556]</th>\n",
       "      <td>5</td>\n",
       "      <td>0.000042</td>\n",
       "    </tr>\n",
       "    <tr>\n",
       "      <th>(30.556, 33.333]</th>\n",
       "      <td>2</td>\n",
       "      <td>0.000017</td>\n",
       "    </tr>\n",
       "    <tr>\n",
       "      <th>(33.333, 36.111]</th>\n",
       "      <td>2</td>\n",
       "      <td>0.000017</td>\n",
       "    </tr>\n",
       "    <tr>\n",
       "      <th>(36.111, 38.889]</th>\n",
       "      <td>0</td>\n",
       "      <td>0.000000</td>\n",
       "    </tr>\n",
       "    <tr>\n",
       "      <th>(38.889, 41.667]</th>\n",
       "      <td>3</td>\n",
       "      <td>0.000025</td>\n",
       "    </tr>\n",
       "    <tr>\n",
       "      <th>(41.667, 44.444]</th>\n",
       "      <td>1</td>\n",
       "      <td>0.000008</td>\n",
       "    </tr>\n",
       "    <tr>\n",
       "      <th>(44.444, 47.222]</th>\n",
       "      <td>0</td>\n",
       "      <td>0.000000</td>\n",
       "    </tr>\n",
       "    <tr>\n",
       "      <th>(47.222, 50.0]</th>\n",
       "      <td>1</td>\n",
       "      <td>0.000008</td>\n",
       "    </tr>\n",
       "  </tbody>\n",
       "</table>\n",
       "</div>"
      ],
      "text/plain": [
       "Stays in Week Nights            Frequence  Porcentage (%)\n",
       "(-0.051000000000000004, 2.778]      71639        0.600042\n",
       "(2.778, 5.556]                      42898        0.359310\n",
       "(5.556, 8.333]                       3184        0.026669\n",
       "(8.333, 11.111]                      1323        0.011081\n",
       "(11.111, 13.889]                       69        0.000578\n",
       "(13.889, 16.667]                      136        0.001139\n",
       "(16.667, 19.444]                       54        0.000452\n",
       "(19.444, 22.222]                       63        0.000528\n",
       "(22.222, 25.0]                          9        0.000075\n",
       "(25.0, 27.778]                          1        0.000008\n",
       "(27.778, 30.556]                        5        0.000042\n",
       "(30.556, 33.333]                        2        0.000017\n",
       "(33.333, 36.111]                        2        0.000017\n",
       "(36.111, 38.889]                        0        0.000000\n",
       "(38.889, 41.667]                        3        0.000025\n",
       "(41.667, 44.444]                        1        0.000008\n",
       "(44.444, 47.222]                        0        0.000000\n",
       "(47.222, 50.0]                          1        0.000008"
      ]
     },
     "execution_count": 91,
     "metadata": {},
     "output_type": "execute_result"
    }
   ],
   "source": [
    "distribution_frequences_stays_in_week_nights = pd.DataFrame(\n",
    "    {'Frequence': get_frequences_by_column(dataframe, 'stays_in_week_nights', class_number), \n",
    "     'Porcentage (%)': get_percentage_by_column(dataframe, 'stays_in_week_nights', class_number)}\n",
    ")\n",
    "distribution_frequences_stays_in_week_nights.rename_axis('Stays in Week Nights', axis= 'columns', inplace = True)\n",
    "\n",
    "print_media_median_mode(dataframe, \"stays_in_week_nights\")\n",
    "\n",
    "statistics_test_arrival_stays_in_week_nights, p_value_stays_in_week_nights = normaltest(dataframe[\"stays_in_week_nights\"])\n",
    "print('Not a normal distribution' if p_value_stays_in_week_nights <= significance else 'It\"s normal distribution')\n",
    "distribution_frequences_stays_in_week_nights"
   ]
  },
  {
   "cell_type": "markdown",
   "id": "d34f8a9b",
   "metadata": {},
   "source": [
    "### Graphs - stays_in_week_nights"
   ]
  },
  {
   "cell_type": "code",
   "execution_count": 92,
   "id": "3938530c",
   "metadata": {},
   "outputs": [
    {
     "data": {
      "text/plain": [
       "<AxesSubplot:xlabel='stays_in_week_nights', ylabel='Density'>"
      ]
     },
     "execution_count": 92,
     "metadata": {},
     "output_type": "execute_result"
    },
    {
     "data": {
      "image/png": "[encoded data removed]",
      "text/plain": [
       "<Figure size 432x288 with 1 Axes>"
      ]
     },
     "metadata": {
      "needs_background": "light"
     },
     "output_type": "display_data"
    }
   ],
   "source": [
    "sns.distplot(dataframe[\"stays_in_week_nights\"])"
   ]
  },
  {
   "cell_type": "code",
   "execution_count": 93,
   "id": "ed44ceba",
   "metadata": {},
   "outputs": [
    {
     "data": {
      "image/png": "[encoded data removed]",
      "text/plain": [
       "<Figure size 432x288 with 1 Axes>"
      ]
     },
     "metadata": {
      "needs_background": "light"
     },
     "output_type": "display_data"
    }
   ],
   "source": [
    "plt.hist(dataframe[\"stays_in_week_nights\"], bins=50)\n",
    "plt.show()"
   ]
  },
  {
   "cell_type": "markdown",
   "id": "ad79e67f",
   "metadata": {},
   "source": [
    "## reservation_status_date"
   ]
  },
  {
   "cell_type": "markdown",
   "id": "057e7e8e",
   "metadata": {},
   "source": [
    "### Graphs - reservation_status_date"
   ]
  },
  {
   "cell_type": "code",
   "execution_count": null,
   "id": "1dfe24c9",
   "metadata": {
    "scrolled": true
   },
   "outputs": [],
   "source": [
    "plt.hist(dataframe[\"reservation_status_date\"], bins=50)\n",
    "plt.show()"
   ]
  },
  {
   "cell_type": "markdown",
   "id": "3847bd67",
   "metadata": {},
   "source": [
    "# Questions\n",
    "\n",
    "## **reservas canceladas com criancas incluidas na reserva?**\n",
    "## **Época do Ano/Mês/Semana com mais reservas por Tipologia**\n",
    "## **% de cancelamentos por ano/mês/semana por tipologia**\n",
    "## **Época do Ano/Mês/Semana chegadas (Reservas sem cancelamento) por Tipologia (Reservas - cancelamento = chegadas)**\n",
    "## **Permanencia de dias (ao fim-de-semana e/ou durante a semana) por tipologia**\n",
    "## **Quem reservou? Operador turistico e/ou agente de viagens ou outros**"
   ]
  },
  {
   "cell_type": "markdown",
   "id": "0bc80fb9",
   "metadata": {},
   "source": [
    "# Candidates variables to Jaccard Test"
   ]
  },
  {
   "cell_type": "markdown",
   "id": "e61fbbe6",
   "metadata": {},
   "source": [
    "## Qual a similiaridade entre o numero de cancelamentos e Os clientes frequentes.\n",
    "## Canceled Value indicating if the booking was canceled (1) or not (0)\n",
    "## Repeated_guest Value indicating if the booking name was from a repeated guest (1) or not (0)\n",
    "# meal Type of meal booked. Standard hospitality meal packages: Undefined/SC – no meal"
   ]
  },
  {
   "cell_type": "code",
   "execution_count": 157,
   "id": "072eb789",
   "metadata": {},
   "outputs": [],
   "source": [
    "matrix = jaccard_generalized(dataframe[[\"is_canceled\", \"is_repeated_guest\"]].head(20).values, 20)"
   ]
  },
  {
   "cell_type": "code",
   "execution_count": 158,
   "id": "3be7357e",
   "metadata": {},
   "outputs": [
    {
     "data": {
      "text/plain": [
       "array([[0.00000000e+000, 6.94077642e-310, 0.00000000e+000,\n",
       "        6.94078967e-310, 6.94078966e-310, 6.94077993e-310,\n",
       "        6.94077639e-310, 6.94078967e-310, 0.00000000e+000,\n",
       "        0.00000000e+000, 0.00000000e+000, 6.94077993e-310,\n",
       "        6.94078967e-310, 6.94078966e-310, 6.94077993e-310,\n",
       "        6.94077639e-310, 6.94078967e-310, 6.94077636e-310,\n",
       "        6.94078966e-310, 6.94077642e-310],\n",
       "       [6.94077993e-310, 6.94078967e-310, 6.94078966e-310,\n",
       "        6.94077993e-310, 6.94077639e-310, 6.94078967e-310,\n",
       "        6.94077636e-310, 6.94078966e-310, 0.00000000e+000,\n",
       "        0.00000000e+000, 0.00000000e+000, 6.94078966e-310,\n",
       "        6.94077966e-310, 6.94077639e-310, 6.94078967e-310,\n",
       "        6.94077636e-310, 6.94078966e-310, 6.94077642e-310,\n",
       "        6.94077966e-310, 6.94078967e-310],\n",
       "       [6.94078966e-310, 6.94077966e-310, 6.94077639e-310,\n",
       "        6.94078967e-310, 6.94077636e-310, 6.94078966e-310,\n",
       "        6.94077642e-310, 6.94077966e-310, 0.00000000e+000,\n",
       "        0.00000000e+000, 0.00000000e+000, 6.94077639e-310,\n",
       "        6.94078967e-310, 6.94077636e-310, 6.94078966e-310,\n",
       "        6.94077642e-310, 6.94077966e-310, 6.94078967e-310,\n",
       "        6.94078966e-310, 6.94077966e-310],\n",
       "       [6.94077639e-310, 6.94078967e-310, 6.94077636e-310,\n",
       "        6.94078966e-310, 6.94077642e-310, 6.94077966e-310,\n",
       "        6.94078967e-310, 6.94078966e-310, 0.00000000e+000,\n",
       "        0.00000000e+000, 0.00000000e+000, 6.94077636e-310,\n",
       "        6.94078966e-310, 6.94077642e-310, 6.94077966e-310,\n",
       "        6.94078967e-310, 6.94078966e-310, 6.94077966e-310,\n",
       "        6.94077639e-310, 6.94078967e-310],\n",
       "       [6.94077636e-310, 6.94078966e-310, 6.94077642e-310,\n",
       "        6.94077966e-310, 6.94078967e-310, 6.94078966e-310,\n",
       "        6.94077984e-310, 6.94077639e-310, 0.00000000e+000,\n",
       "        0.00000000e+000, 0.00000000e+000, 6.94077642e-310,\n",
       "        6.94077984e-310, 6.94078967e-310, 6.94078966e-310,\n",
       "        6.94077984e-310, 6.94077639e-310, 6.94078967e-310,\n",
       "        6.94077636e-310, 6.94078966e-310],\n",
       "       [6.94077642e-310, 6.94077984e-310, 6.94078967e-310,\n",
       "        6.94078966e-310, 6.94077984e-310, 6.94077639e-310,\n",
       "        6.94078967e-310, 6.94077636e-310, 0.00000000e+000,\n",
       "        0.00000000e+000, 0.00000000e+000, 6.94078967e-310,\n",
       "        6.94078966e-310, 6.94077984e-310, 6.94077639e-310,\n",
       "        6.94078967e-310, 6.94077636e-310, 6.94078966e-310,\n",
       "        6.94077642e-310, 6.94077984e-310],\n",
       "       [6.94078967e-310, 6.94078966e-310, 6.94077984e-310,\n",
       "        6.94077639e-310, 6.94078967e-310, 6.94077636e-310,\n",
       "        6.94078966e-310, 6.94077642e-310, 0.00000000e+000,\n",
       "        0.00000000e+000, 0.00000000e+000, 6.94077965e-310,\n",
       "        6.94077639e-310, 6.94078967e-310, 6.94077636e-310,\n",
       "        6.94078966e-310, 6.94077642e-310, 6.94077965e-310,\n",
       "        6.94078967e-310, 6.94078966e-310],\n",
       "       [6.94077965e-310, 6.94077639e-310, 6.94078967e-310,\n",
       "        6.94077636e-310, 6.94078966e-310, 6.94077642e-310,\n",
       "        6.94077965e-310, 6.94078967e-310, 0.00000000e+000,\n",
       "        0.00000000e+000, 0.00000000e+000, 6.94078967e-310,\n",
       "        6.94077636e-310, 6.94078966e-310, 6.94077642e-310,\n",
       "        6.94077965e-310, 6.94078967e-310, 6.94078966e-310,\n",
       "        6.94077965e-310, 6.94077639e-310],\n",
       "       [1.00000000e+000, 1.00000000e+000, 1.00000000e+000,\n",
       "        1.00000000e+000, 1.00000000e+000, 1.00000000e+000,\n",
       "        1.00000000e+000, 1.00000000e+000, 1.00000000e+000,\n",
       "        1.00000000e+000, 1.00000000e+000, 1.00000000e+000,\n",
       "        1.00000000e+000, 1.00000000e+000, 1.00000000e+000,\n",
       "        1.00000000e+000, 1.00000000e+000, 1.00000000e+000,\n",
       "        1.00000000e+000, 1.00000000e+000],\n",
       "       [1.00000000e+000, 1.00000000e+000, 1.00000000e+000,\n",
       "        1.00000000e+000, 1.00000000e+000, 1.00000000e+000,\n",
       "        1.00000000e+000, 1.00000000e+000, 1.00000000e+000,\n",
       "        1.00000000e+000, 1.00000000e+000, 1.00000000e+000,\n",
       "        1.00000000e+000, 1.00000000e+000, 1.00000000e+000,\n",
       "        1.00000000e+000, 1.00000000e+000, 1.00000000e+000,\n",
       "        1.00000000e+000, 1.00000000e+000],\n",
       "       [1.00000000e+000, 1.00000000e+000, 1.00000000e+000,\n",
       "        1.00000000e+000, 1.00000000e+000, 1.00000000e+000,\n",
       "        1.00000000e+000, 1.00000000e+000, 1.00000000e+000,\n",
       "        1.00000000e+000, 1.00000000e+000, 1.00000000e+000,\n",
       "        1.00000000e+000, 1.00000000e+000, 1.00000000e+000,\n",
       "        1.00000000e+000, 1.00000000e+000, 1.00000000e+000,\n",
       "        1.00000000e+000, 1.00000000e+000],\n",
       "       [6.94078966e-310, 6.94077965e-310, 6.94077639e-310,\n",
       "        6.94078967e-310, 6.94077636e-310, 6.94078966e-310,\n",
       "        6.94077642e-310, 6.94077965e-310, 0.00000000e+000,\n",
       "        0.00000000e+000, 0.00000000e+000, 6.94077639e-310,\n",
       "        6.94078967e-310, 6.94077636e-310, 6.94078966e-310,\n",
       "        6.94077642e-310, 6.94077965e-310, 6.94078967e-310,\n",
       "        6.94078966e-310, 6.94077965e-310],\n",
       "       [6.94077639e-310, 6.94078967e-310, 6.94077636e-310,\n",
       "        6.94078966e-310, 6.94077642e-310, 6.94077965e-310,\n",
       "        6.94078967e-310, 6.94078966e-310, 0.00000000e+000,\n",
       "        0.00000000e+000, 0.00000000e+000, 6.94077636e-310,\n",
       "        6.94078966e-310, 6.94077642e-310, 6.94077965e-310,\n",
       "        6.94078967e-310, 6.94078966e-310, 6.94077965e-310,\n",
       "        6.94077639e-310, 6.94078967e-310],\n",
       "       [6.94077636e-310, 6.94078966e-310, 6.94077642e-310,\n",
       "        6.94077965e-310, 6.94078967e-310, 6.94078966e-310,\n",
       "        6.94077965e-310, 6.94077639e-310, 0.00000000e+000,\n",
       "        0.00000000e+000, 0.00000000e+000, 6.94077642e-310,\n",
       "        6.94077965e-310, 6.94078967e-310, 6.94078966e-310,\n",
       "        6.94077965e-310, 6.94077639e-310, 6.94078967e-310,\n",
       "        6.94077636e-310, 6.94078966e-310],\n",
       "       [6.94077642e-310, 6.94077965e-310, 6.94078967e-310,\n",
       "        6.94078966e-310, 6.94077965e-310, 6.94077639e-310,\n",
       "        6.94078967e-310, 6.94077636e-310, 0.00000000e+000,\n",
       "        0.00000000e+000, 0.00000000e+000, 6.94078967e-310,\n",
       "        6.94078966e-310, 6.94077965e-310, 6.94077639e-310,\n",
       "        6.94078967e-310, 6.94077636e-310, 6.94078966e-310,\n",
       "        6.94077642e-310, 6.94077965e-310],\n",
       "       [6.94078967e-310, 6.94078966e-310, 6.94077965e-310,\n",
       "        6.94077639e-310, 6.94078967e-310, 6.94077636e-310,\n",
       "        6.94078966e-310, 6.94077642e-310, 0.00000000e+000,\n",
       "        0.00000000e+000, 0.00000000e+000, 6.94077965e-310,\n",
       "        6.94077639e-310, 6.94078967e-310, 6.94077636e-310,\n",
       "        6.94078966e-310, 6.94077642e-310, 6.94077995e-310,\n",
       "        6.94078967e-310, 6.94078966e-310],\n",
       "       [6.94077995e-310, 6.94077639e-310, 6.94078967e-310,\n",
       "        6.94077636e-310, 6.94078966e-310, 6.94077642e-310,\n",
       "        6.94077995e-310, 6.94078967e-310, 0.00000000e+000,\n",
       "        0.00000000e+000, 0.00000000e+000, 6.94078967e-310,\n",
       "        6.94077636e-310, 6.94078966e-310, 6.94077642e-310,\n",
       "        6.94077995e-310, 6.94078967e-310, 6.94078966e-310,\n",
       "        6.94077995e-310, 6.94077639e-310],\n",
       "       [6.94078967e-310, 6.94077636e-310, 6.94078966e-310,\n",
       "        6.94077642e-310, 6.94077995e-310, 6.94078967e-310,\n",
       "        6.94078966e-310, 6.94077995e-310, 0.00000000e+000,\n",
       "        0.00000000e+000, 0.00000000e+000, 6.94078966e-310,\n",
       "        6.94077642e-310, 6.94077995e-310, 6.94078967e-310,\n",
       "        6.94078966e-310, 6.94077995e-310, 6.94077639e-310,\n",
       "        6.94078967e-310, 6.94077636e-310],\n",
       "       [6.94078966e-310, 6.94077642e-310, 6.94077995e-310,\n",
       "        6.94078967e-310, 6.94078966e-310, 6.94077995e-310,\n",
       "        6.94077639e-310, 6.94078967e-310, 0.00000000e+000,\n",
       "        0.00000000e+000, 0.00000000e+000, 6.94077995e-310,\n",
       "        6.94078967e-310, 6.94078966e-310, 6.94077995e-310,\n",
       "        6.94077639e-310, 6.94078967e-310, 6.94077636e-310,\n",
       "        6.94078966e-310, 6.94077642e-310],\n",
       "       [6.94077995e-310, 6.94078967e-310, 6.94078966e-310,\n",
       "        6.94077995e-310, 6.94077639e-310, 6.94078967e-310,\n",
       "        6.94077636e-310, 6.94078966e-310, 0.00000000e+000,\n",
       "        0.00000000e+000, 0.00000000e+000, 6.94078966e-310,\n",
       "        6.94077995e-310, 6.94077639e-310, 6.94078967e-310,\n",
       "        6.94077636e-310, 6.94078966e-310, 6.94077642e-310,\n",
       "        6.94077995e-310, 6.94078967e-310]])"
      ]
     },
     "execution_count": 158,
     "metadata": {},
     "output_type": "execute_result"
    }
   ],
   "source": [
    "matrix"
   ]
  },
  {
   "cell_type": "code",
   "execution_count": 159,
   "id": "cdaf9d80",
   "metadata": {},
   "outputs": [
    {
     "name": "stdout",
     "output_type": "stream",
     "text": [
      "[[0.00000000e+000 6.94077642e-310 0.00000000e+000 6.94078967e-310\n",
      "  6.94078966e-310 6.94077993e-310 6.94077639e-310 6.94078967e-310\n",
      "  0.00000000e+000 0.00000000e+000 0.00000000e+000 6.94077993e-310\n",
      "  6.94078967e-310 6.94078966e-310 6.94077993e-310 6.94077639e-310\n",
      "  6.94078967e-310 6.94077636e-310 6.94078966e-310 6.94077642e-310]\n",
      " [6.94077993e-310 6.94078967e-310 6.94078966e-310 6.94077993e-310\n",
      "  6.94077639e-310 6.94078967e-310 6.94077636e-310 6.94078966e-310\n",
      "  0.00000000e+000 0.00000000e+000 0.00000000e+000 6.94078966e-310\n",
      "  6.94077966e-310 6.94077639e-310 6.94078967e-310 6.94077636e-310\n",
      "  6.94078966e-310 6.94077642e-310 6.94077966e-310 6.94078967e-310]\n",
      " [6.94078966e-310 6.94077966e-310 6.94077639e-310 6.94078967e-310\n",
      "  6.94077636e-310 6.94078966e-310 6.94077642e-310 6.94077966e-310\n",
      "  0.00000000e+000 0.00000000e+000 0.00000000e+000 6.94077639e-310\n",
      "  6.94078967e-310 6.94077636e-310 6.94078966e-310 6.94077642e-310\n",
      "  6.94077966e-310 6.94078967e-310 6.94078966e-310 6.94077966e-310]\n",
      " [6.94077639e-310 6.94078967e-310 6.94077636e-310 6.94078966e-310\n",
      "  6.94077642e-310 6.94077966e-310 6.94078967e-310 6.94078966e-310\n",
      "  0.00000000e+000 0.00000000e+000 0.00000000e+000 6.94077636e-310\n",
      "  6.94078966e-310 6.94077642e-310 6.94077966e-310 6.94078967e-310\n",
      "  6.94078966e-310 6.94077966e-310 6.94077639e-310 6.94078967e-310]\n",
      " [6.94077636e-310 6.94078966e-310 6.94077642e-310 6.94077966e-310\n",
      "  6.94078967e-310 6.94078966e-310 6.94077984e-310 6.94077639e-310\n",
      "  0.00000000e+000 0.00000000e+000 0.00000000e+000 6.94077642e-310\n",
      "  6.94077984e-310 6.94078967e-310 6.94078966e-310 6.94077984e-310\n",
      "  6.94077639e-310 6.94078967e-310 6.94077636e-310 6.94078966e-310]\n",
      " [6.94077642e-310 6.94077984e-310 6.94078967e-310 6.94078966e-310\n",
      "  6.94077984e-310 6.94077639e-310 6.94078967e-310 6.94077636e-310\n",
      "  0.00000000e+000 0.00000000e+000 0.00000000e+000 6.94078967e-310\n",
      "  6.94078966e-310 6.94077984e-310 6.94077639e-310 6.94078967e-310\n",
      "  6.94077636e-310 6.94078966e-310 6.94077642e-310 6.94077984e-310]\n",
      " [6.94078967e-310 6.94078966e-310 6.94077984e-310 6.94077639e-310\n",
      "  6.94078967e-310 6.94077636e-310 6.94078966e-310 6.94077642e-310\n",
      "  0.00000000e+000 0.00000000e+000 0.00000000e+000 6.94077965e-310\n",
      "  6.94077639e-310 6.94078967e-310 6.94077636e-310 6.94078966e-310\n",
      "  6.94077642e-310 6.94077965e-310 6.94078967e-310 6.94078966e-310]\n",
      " [6.94077965e-310 6.94077639e-310 6.94078967e-310 6.94077636e-310\n",
      "  6.94078966e-310 6.94077642e-310 6.94077965e-310 6.94078967e-310\n",
      "  0.00000000e+000 0.00000000e+000 0.00000000e+000 6.94078967e-310\n",
      "  6.94077636e-310 6.94078966e-310 6.94077642e-310 6.94077965e-310\n",
      "  6.94078967e-310 6.94078966e-310 6.94077965e-310 6.94077639e-310]\n",
      " [1.00000000e+000 1.00000000e+000 1.00000000e+000 1.00000000e+000\n",
      "  1.00000000e+000 1.00000000e+000 1.00000000e+000 1.00000000e+000\n",
      "  1.00000000e+000 1.00000000e+000 1.00000000e+000 1.00000000e+000\n",
      "  1.00000000e+000 1.00000000e+000 1.00000000e+000 1.00000000e+000\n",
      "  1.00000000e+000 1.00000000e+000 1.00000000e+000 1.00000000e+000]\n",
      " [1.00000000e+000 1.00000000e+000 1.00000000e+000 1.00000000e+000\n",
      "  1.00000000e+000 1.00000000e+000 1.00000000e+000 1.00000000e+000\n",
      "  1.00000000e+000 1.00000000e+000 1.00000000e+000 1.00000000e+000\n",
      "  1.00000000e+000 1.00000000e+000 1.00000000e+000 1.00000000e+000\n",
      "  1.00000000e+000 1.00000000e+000 1.00000000e+000 1.00000000e+000]\n",
      " [1.00000000e+000 1.00000000e+000 1.00000000e+000 1.00000000e+000\n",
      "  1.00000000e+000 1.00000000e+000 1.00000000e+000 1.00000000e+000\n",
      "  1.00000000e+000 1.00000000e+000 1.00000000e+000 1.00000000e+000\n",
      "  1.00000000e+000 1.00000000e+000 1.00000000e+000 1.00000000e+000\n",
      "  1.00000000e+000 1.00000000e+000 1.00000000e+000 1.00000000e+000]\n",
      " [6.94078966e-310 6.94077965e-310 6.94077639e-310 6.94078967e-310\n",
      "  6.94077636e-310 6.94078966e-310 6.94077642e-310 6.94077965e-310\n",
      "  0.00000000e+000 0.00000000e+000 0.00000000e+000 6.94077639e-310\n",
      "  6.94078967e-310 6.94077636e-310 6.94078966e-310 6.94077642e-310\n",
      "  6.94077965e-310 6.94078967e-310 6.94078966e-310 6.94077965e-310]\n",
      " [6.94077639e-310 6.94078967e-310 6.94077636e-310 6.94078966e-310\n",
      "  6.94077642e-310 6.94077965e-310 6.94078967e-310 6.94078966e-310\n",
      "  0.00000000e+000 0.00000000e+000 0.00000000e+000 6.94077636e-310\n",
      "  6.94078966e-310 6.94077642e-310 6.94077965e-310 6.94078967e-310\n",
      "  6.94078966e-310 6.94077965e-310 6.94077639e-310 6.94078967e-310]\n",
      " [6.94077636e-310 6.94078966e-310 6.94077642e-310 6.94077965e-310\n",
      "  6.94078967e-310 6.94078966e-310 6.94077965e-310 6.94077639e-310\n",
      "  0.00000000e+000 0.00000000e+000 0.00000000e+000 6.94077642e-310\n",
      "  6.94077965e-310 6.94078967e-310 6.94078966e-310 6.94077965e-310\n",
      "  6.94077639e-310 6.94078967e-310 6.94077636e-310 6.94078966e-310]\n",
      " [6.94077642e-310 6.94077965e-310 6.94078967e-310 6.94078966e-310\n",
      "  6.94077965e-310 6.94077639e-310 6.94078967e-310 6.94077636e-310\n",
      "  0.00000000e+000 0.00000000e+000 0.00000000e+000 6.94078967e-310\n",
      "  6.94078966e-310 6.94077965e-310 6.94077639e-310 6.94078967e-310\n",
      "  6.94077636e-310 6.94078966e-310 6.94077642e-310 6.94077965e-310]\n",
      " [6.94078967e-310 6.94078966e-310 6.94077965e-310 6.94077639e-310\n",
      "  6.94078967e-310 6.94077636e-310 6.94078966e-310 6.94077642e-310\n",
      "  0.00000000e+000 0.00000000e+000 0.00000000e+000 6.94077965e-310\n",
      "  6.94077639e-310 6.94078967e-310 6.94077636e-310 6.94078966e-310\n",
      "  6.94077642e-310 6.94077995e-310 6.94078967e-310 6.94078966e-310]\n",
      " [6.94077995e-310 6.94077639e-310 6.94078967e-310 6.94077636e-310\n",
      "  6.94078966e-310 6.94077642e-310 6.94077995e-310 6.94078967e-310\n",
      "  0.00000000e+000 0.00000000e+000 0.00000000e+000 6.94078967e-310\n",
      "  6.94077636e-310 6.94078966e-310 6.94077642e-310 6.94077995e-310\n",
      "  6.94078967e-310 6.94078966e-310 6.94077995e-310 6.94077639e-310]\n",
      " [6.94078967e-310 6.94077636e-310 6.94078966e-310 6.94077642e-310\n",
      "  6.94077995e-310 6.94078967e-310 6.94078966e-310 6.94077995e-310\n",
      "  0.00000000e+000 0.00000000e+000 0.00000000e+000 6.94078966e-310\n",
      "  6.94077642e-310 6.94077995e-310 6.94078967e-310 6.94078966e-310\n",
      "  6.94077995e-310 6.94077639e-310 6.94078967e-310 6.94077636e-310]\n",
      " [6.94078966e-310 6.94077642e-310 6.94077995e-310 6.94078967e-310\n",
      "  6.94078966e-310 6.94077995e-310 6.94077639e-310 6.94078967e-310\n",
      "  0.00000000e+000 0.00000000e+000 0.00000000e+000 6.94077995e-310\n",
      "  6.94078967e-310 6.94078966e-310 6.94077995e-310 6.94077639e-310\n",
      "  6.94078967e-310 6.94077636e-310 6.94078966e-310 6.94077642e-310]\n",
      " [6.94077995e-310 6.94078967e-310 6.94078966e-310 6.94077995e-310\n",
      "  6.94077639e-310 6.94078967e-310 6.94077636e-310 6.94078966e-310\n",
      "  0.00000000e+000 0.00000000e+000 0.00000000e+000 6.94078966e-310\n",
      "  6.94077995e-310 6.94077639e-310 6.94078967e-310 6.94077636e-310\n",
      "  6.94078966e-310 6.94077642e-310 6.94077995e-310 6.94078967e-310]]\n"
     ]
    }
   ],
   "source": [
    "print(matrix)"
   ]
  },
  {
   "cell_type": "code",
   "execution_count": 160,
   "id": "93efa251",
   "metadata": {},
   "outputs": [],
   "source": [
    "def jaccardG(BP):\n",
    "    n = BP.shape[0]\n",
    "    P = np.empty((n,n))\n",
    "    i = 0\n",
    "    for useri in BP_p.tolist():\n",
    "        j = 0\n",
    "        for userj in BP_p.tolist():\n",
    "            if float(np.sum(np.maximum(BP_p[i,:],BP_p[j,:]))) != 0:\n",
    "                P[i,j] = float(np.sum(np.minimum(BP_p[i,:],BP_p[j,:])))/float(np.sum(np.maximum(BP_p[i,:],BP_p[j,:])))\n",
    "            j =j + 1\n",
    "        i = i + 1\n",
    "    \n",
    "    return P"
   ]
  },
  {
   "cell_type": "code",
   "execution_count": 161,
   "id": "f3408e22",
   "metadata": {},
   "outputs": [],
   "source": [
    "BP_p = dataframe[[\"is_canceled\", \"babies\"]].head(100).values"
   ]
  },
  {
   "cell_type": "code",
   "execution_count": 162,
   "id": "d2c2a803",
   "metadata": {},
   "outputs": [
    {
     "data": {
      "text/plain": [
       "[[0, 0],\n",
       " [0, 0],\n",
       " [0, 0],\n",
       " [0, 0],\n",
       " [0, 0],\n",
       " [0, 0],\n",
       " [0, 0],\n",
       " [0, 0],\n",
       " [1, 0],\n",
       " [1, 0],\n",
       " [1, 0],\n",
       " [0, 0],\n",
       " [0, 0],\n",
       " [0, 0],\n",
       " [0, 0],\n",
       " [0, 0],\n",
       " [0, 0],\n",
       " [0, 0],\n",
       " [0, 0],\n",
       " [0, 0],\n",
       " [0, 0],\n",
       " [0, 0],\n",
       " [0, 0],\n",
       " [0, 0],\n",
       " [0, 0],\n",
       " [0, 0],\n",
       " [0, 0],\n",
       " [1, 0],\n",
       " [0, 0],\n",
       " [0, 0],\n",
       " [0, 0],\n",
       " [0, 0],\n",
       " [1, 0],\n",
       " [0, 0],\n",
       " [1, 0],\n",
       " [1, 0],\n",
       " [0, 0],\n",
       " [0, 0],\n",
       " [1, 0],\n",
       " [0, 0],\n",
       " [1, 0],\n",
       " [0, 0],\n",
       " [0, 0],\n",
       " [0, 0],\n",
       " [0, 0],\n",
       " [1, 0],\n",
       " [0, 0],\n",
       " [0, 0],\n",
       " [0, 0],\n",
       " [0, 0],\n",
       " [0, 0],\n",
       " [0, 0],\n",
       " [0, 0],\n",
       " [0, 0],\n",
       " [0, 0],\n",
       " [0, 0],\n",
       " [0, 0],\n",
       " [0, 0],\n",
       " [0, 0],\n",
       " [0, 0],\n",
       " [0, 0],\n",
       " [0, 0],\n",
       " [0, 0],\n",
       " [0, 0],\n",
       " [1, 0],\n",
       " [0, 0],\n",
       " [0, 0],\n",
       " [0, 0],\n",
       " [1, 0],\n",
       " [1, 0],\n",
       " [1, 0],\n",
       " [1, 0],\n",
       " [0, 0],\n",
       " [0, 0],\n",
       " [1, 0],\n",
       " [0, 0],\n",
       " [1, 0],\n",
       " [0, 0],\n",
       " [0, 0],\n",
       " [0, 0],\n",
       " [0, 0],\n",
       " [1, 0],\n",
       " [0, 0],\n",
       " [1, 0],\n",
       " [0, 0],\n",
       " [0, 0],\n",
       " [0, 0],\n",
       " [1, 0],\n",
       " [0, 0],\n",
       " [0, 0],\n",
       " [0, 0],\n",
       " [0, 0],\n",
       " [0, 0],\n",
       " [0, 0],\n",
       " [1, 0],\n",
       " [1, 0],\n",
       " [1, 0],\n",
       " [0, 0],\n",
       " [0, 0],\n",
       " [0, 0]]"
      ]
     },
     "execution_count": 162,
     "metadata": {},
     "output_type": "execute_result"
    }
   ],
   "source": [
    "BP_p.tolist()"
   ]
  },
  {
   "cell_type": "code",
   "execution_count": 163,
   "id": "ad017483",
   "metadata": {},
   "outputs": [],
   "source": [
    "B = jaccardG(BP_p)"
   ]
  },
  {
   "cell_type": "code",
   "execution_count": 164,
   "id": "13c2650b",
   "metadata": {},
   "outputs": [
    {
     "data": {
      "text/plain": [
       "array([[0.00000000e+000, 6.94071015e-310, 6.94071015e-310, ...,\n",
       "        6.94078962e-310, 6.94071015e-310, 6.94078962e-310],\n",
       "       [6.94071015e-310, 6.94078962e-310, 6.94071015e-310, ...,\n",
       "        6.94078962e-310, 6.94071015e-310, 6.94078962e-310],\n",
       "       [6.94071015e-310, 6.94078962e-310, 6.94071015e-310, ...,\n",
       "        6.94078962e-310, 6.94071015e-310, 6.94078962e-310],\n",
       "       ...,\n",
       "       [9.88131292e-324, 0.00000000e+000, 6.94071016e-310, ...,\n",
       "        0.00000000e+000, 6.94071016e-310, 0.00000000e+000],\n",
       "       [0.00000000e+000, 2.15869983e-314, 9.88131292e-324, ...,\n",
       "        2.15869983e-314, 9.88131292e-324, 6.94071016e-310],\n",
       "       [9.88131292e-324, 0.00000000e+000, 6.94071016e-310, ...,\n",
       "        0.00000000e+000, 6.94071016e-310, 0.00000000e+000]])"
      ]
     },
     "execution_count": 164,
     "metadata": {},
     "output_type": "execute_result"
    }
   ],
   "source": [
    "B"
   ]
  },
  {
   "cell_type": "code",
   "execution_count": 165,
   "id": "2216de6f",
   "metadata": {},
   "outputs": [
    {
     "data": {
      "text/plain": [
       "5263"
      ]
     },
     "execution_count": 165,
     "metadata": {},
     "output_type": "execute_result"
    }
   ],
   "source": [
    "np.sum(B>0)"
   ]
  },
  {
   "cell_type": "code",
   "execution_count": 166,
   "id": "f2e0f05e",
   "metadata": {},
   "outputs": [],
   "source": [
    "# teste"
   ]
  },
  {
   "cell_type": "code",
   "execution_count": null,
   "id": "233c6381",
   "metadata": {},
   "outputs": [],
   "source": []
  }
 ],
 "metadata": {
  "kernelspec": {
   "display_name": "Python 3 (ipykernel)",
   "language": "python",
   "name": "python3"
  },
  "language_info": {
   "codemirror_mode": {
    "name": "ipython",
    "version": 3
   },
   "file_extension": ".py",
   "mimetype": "text/x-python",
   "name": "python",
   "nbconvert_exporter": "python",
   "pygments_lexer": "ipython3",
   "version": "3.9.7"
  }
 },
 "nbformat": 4,
 "nbformat_minor": 5
}
