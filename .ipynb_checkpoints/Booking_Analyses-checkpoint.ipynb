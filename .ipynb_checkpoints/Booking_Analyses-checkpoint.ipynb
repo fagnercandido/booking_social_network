{
 "cells": [
  {
   "cell_type": "markdown",
   "id": "127d77a7",
   "metadata": {},
   "source": [
    "# Caracterização da Amostra"
   ]
  },
  {
   "cell_type": "markdown",
   "id": "82a36be4",
   "metadata": {},
   "source": [
    "O nosso Dataset descreve dois conjuntos de dados com elementos que caraterizam reservas em  hotéis e resorts\n",
    "como sejam, hotéis (H1) é um hotel resort e o outro é um hotel urbano (H2). \n",
    "\n",
    "Um dos hotéis (H1) é um hotel resort e o outro é um hotel da cidade (H2). Ambos os conjuntos de dados compartilham a mesma estrutura, com 31 variáveis descrevendo as 40.060 observações de H1 e 79.330 observações de H2. Cada observação representa uma reserva de hotel. Ambos os conjuntos de dados compreendem reservas previstas para chegar entre 1º de julho de 2015 e 31 de agosto de 2017, incluindo reservas que efetivamente chegaram e reservas que foram canceladas. Como se trata de dados reais do hotel, todos os elementos de dados relativos à identificação de hotel ou cliente foram excluídos.\n"
   ]
  },
  {
   "cell_type": "markdown",
   "id": "7b718cfd",
   "metadata": {},
   "source": [
    "# Imports"
   ]
  },
  {
   "cell_type": "code",
   "execution_count": 32,
   "id": "c4faa9a9",
   "metadata": {},
   "outputs": [],
   "source": [
    "import pandas as pd\n",
    "import matplotlib.pyplot as plt\n",
    "import numpy as np\n",
    "import seaborn as sns\n",
    "from scipy.stats import normaltest\n",
    "import networkx as nx\n",
    "import igraph as ig\n",
    "import warnings\n",
    "\n",
    "warnings.filterwarnings('ignore')\n",
    "significance = 0.05"
   ]
  },
  {
   "cell_type": "markdown",
   "id": "4d5bd658",
   "metadata": {},
   "source": [
    "# Helpers Methods - Candidate to be a py file"
   ]
  },
  {
   "cell_type": "code",
   "execution_count": 33,
   "id": "07faeee0",
   "metadata": {},
   "outputs": [],
   "source": [
    "def get_frequences_by_column(dataframe, column, sturger_class):\n",
    "    frequence = pd.value_counts(\n",
    "        pd.cut(\n",
    "            x = dataframe[column],\n",
    "            bins = sturger_class,\n",
    "            include_lowest = True\n",
    "        ),\n",
    "        sort = False\n",
    "    )\n",
    "    return frequence\n",
    "\n",
    "def get_percentage_by_column(dataframe, column, sturger_class):\n",
    "    percentage = pd.value_counts(\n",
    "        pd.cut(\n",
    "            x = dataframe[column],\n",
    "            bins = sturger_class,\n",
    "            include_lowest = True\n",
    "        ),\n",
    "        sort = False,\n",
    "        normalize = True\n",
    "    )\n",
    "    return percentage\n",
    "\n",
    "def print_media_median_mode(dataframe, column):\n",
    "    print(f'Mean is {dataframe[column].mean()} \\nMedian is {dataframe[column].median()}\\nMode is {dataframe[column].mode()[0]}')\n",
    "\n",
    "\n",
    "def jaccard_generalized(groups):\n",
    "    '''\n",
    "        E se a divisão for zero\n",
    "    '''\n",
    "    lines = groups.shape[0]\n",
    "    similarity_matrix = np.empty((lines, lines))\n",
    "    count = 0\n",
    "    for _ in groups.tolist():\n",
    "        aux = 0\n",
    "        for __ in groups.tolist():\n",
    "            numerator = float(np.sum(np.minimum(groups[count, :], groups[aux, :])))\n",
    "            denominator = float(np.sum(np.maximum(groups[count, :], groups[aux, :])))\n",
    "            if denominator != 0:\n",
    "                similarity_matrix[count, aux] = numerator/denominator\n",
    "            aux = aux + 1\n",
    "        count = count + 1\n",
    "    \n",
    "    return similarity_matrix\n",
    "\n",
    "def prox2dist(P, k):\n",
    "    distance = np.power(1.0/P-1.0, k)\n",
    "    return distance\n",
    "\n",
    "def matrix2graph(adj):\n",
    "    g = ig.Graph.Weighted_Adjacency(np.ndarray.tolist(adj))\n",
    "    return g\n",
    "\n",
    "def all_pairs_sp(D):\n",
    "    g = matrix2graph(D)\n",
    "    DC = g.shortest_paths_dijkstra(weights=g.es['weight'], mode='OUT')\n",
    "    DC = np.asarray(DC)\n",
    "    return DC\n",
    "\n",
    "def s_ratio(D,DC):\n",
    "    s = np.divide(D,DC)\n",
    "    return s\n",
    "\n",
    "def Semimetric_Percentage(s):\n",
    "    s_infs = ~(np.isinf(s))\n",
    "    sm_edges = s > 1\n",
    "    m_edges = s <= 1\n",
    "    s_positive = s > 0\n",
    "\n",
    "    s_infs.astype(int)\n",
    "    sm_edges.astype(int)\n",
    "    m_edges.astype(int)\n",
    "    s_positive.astype(int)\n",
    "\n",
    "    sm_edges = np.multiply(s_infs, sm_edges)\n",
    "    m_edges = np.multiply(s_positive, m_edges)\n",
    "\n",
    "    t_sm_edges = sm_edges.sum()\n",
    "    t_m_edges = m_edges.sum()\n",
    "\n",
    "    smp = float(t_sm_edges) / (float(t_m_edges) + float(t_sm_edges))\n",
    "    return smp\n",
    "\n",
    "def Metric_backbone(P):\n",
    "    D = prox2dist(P,1)\n",
    "\n",
    "    DC = all_pairs_sp(D)\n",
    "    s=s_ratio(D,DC)\n",
    "\n",
    "    s_infs = ~(np.isinf(s))\n",
    "    sm_edges = s > 1\n",
    "    m_edges = s <= 1\n",
    "    s_positive = s>0\n",
    "\n",
    "    s_infs.astype(int)\n",
    "    sm_edges.astype(int)\n",
    "    m_edges.astype(int)\n",
    "    s_positive.astype(int)\n",
    "\n",
    "    sm_edges = np.multiply(s_infs, sm_edges)\n",
    "    m_edges = np.multiply(s_positive, m_edges)\n",
    "\n",
    "    MB = np.multiply(P, m_edges)\n",
    "\n",
    "    return MB"
   ]
  },
  {
   "cell_type": "markdown",
   "id": "440031b0",
   "metadata": {},
   "source": [
    "# Reading"
   ]
  },
  {
   "cell_type": "code",
   "execution_count": 34,
   "id": "b35effa0",
   "metadata": {},
   "outputs": [],
   "source": [
    "dataframe = pd.read_csv ('hotel_bookings.csv')"
   ]
  },
  {
   "cell_type": "markdown",
   "id": "7ce4e9dc",
   "metadata": {},
   "source": [
    "# Descrição das Variáveis "
   ]
  },
  {
   "cell_type": "markdown",
   "id": "12ee15ee",
   "metadata": {},
   "source": [
    "- Das 32 variáveis que constituem o nosso dataset, verificamos que apenas 2 são categóricas do tipo booleano (Verdadeiro ou Falso): \"is canceled \" e \"is_repeated_guest\"."
   ]
  },
  {
   "cell_type": "code",
   "execution_count": 35,
   "id": "397caf1f",
   "metadata": {
    "scrolled": false
   },
   "outputs": [
    {
     "name": "stdout",
     "output_type": "stream",
     "text": [
      "<class 'pandas.core.frame.DataFrame'>\n",
      "RangeIndex: 119390 entries, 0 to 119389\n",
      "Data columns (total 32 columns):\n",
      " #   Column                          Non-Null Count   Dtype  \n",
      "---  ------                          --------------   -----  \n",
      " 0   hotel                           119390 non-null  object \n",
      " 1   is_canceled                     119390 non-null  int64  \n",
      " 2   lead_time                       119390 non-null  int64  \n",
      " 3   arrival_date_year               119390 non-null  int64  \n",
      " 4   arrival_date_month              119390 non-null  object \n",
      " 5   arrival_date_week_number        119390 non-null  int64  \n",
      " 6   arrival_date_day_of_month       119390 non-null  int64  \n",
      " 7   stays_in_weekend_nights         119390 non-null  int64  \n",
      " 8   stays_in_week_nights            119390 non-null  int64  \n",
      " 9   adults                          119390 non-null  int64  \n",
      " 10  children                        119386 non-null  float64\n",
      " 11  babies                          119390 non-null  int64  \n",
      " 12  meal                            119390 non-null  object \n",
      " 13  country                         118902 non-null  object \n",
      " 14  market_segment                  119390 non-null  object \n",
      " 15  distribution_channel            119390 non-null  object \n",
      " 16  is_repeated_guest               119390 non-null  int64  \n",
      " 17  previous_cancellations          119390 non-null  int64  \n",
      " 18  previous_bookings_not_canceled  119390 non-null  int64  \n",
      " 19  reserved_room_type              119390 non-null  object \n",
      " 20  assigned_room_type              119390 non-null  object \n",
      " 21  booking_changes                 119390 non-null  int64  \n",
      " 22  deposit_type                    119390 non-null  object \n",
      " 23  agent                           103050 non-null  float64\n",
      " 24  company                         6797 non-null    float64\n",
      " 25  days_in_waiting_list            119390 non-null  int64  \n",
      " 26  customer_type                   119390 non-null  object \n",
      " 27  adr                             119390 non-null  float64\n",
      " 28  required_car_parking_spaces     119390 non-null  int64  \n",
      " 29  total_of_special_requests       119390 non-null  int64  \n",
      " 30  reservation_status              119390 non-null  object \n",
      " 31  reservation_status_date         119390 non-null  object \n",
      "dtypes: float64(4), int64(16), object(12)\n",
      "memory usage: 29.1+ MB\n"
     ]
    }
   ],
   "source": [
    "dataframe.info()"
   ]
  },
  {
   "cell_type": "markdown",
   "id": "24249a9a",
   "metadata": {},
   "source": [
    "**hotel**                           Hotel (H1 = Resort Hotel or H2 = City Hotel)  \n",
    "**is canceled**                     Value indicating if the booking was canceled (1) or not (0)  \n",
    "**lead_time**                       days between the entering date of the booking into the PMS and the arrival date  \n",
    "**arrival_date_year**               Year of arrival date  \n",
    "**arrival_date_month**              Month of arrival date  \n",
    "**arrival_date_week_number**        Week number of year for arrival date  \n",
    "**arrival_date_day_of_month**       Day of arrival date  \n",
    "**stays_in_weekend_nights**         Number of weekend nights(Sat or Sun)the guest stayed or booked to stay at the hotel  \n",
    "**stays_in_week_nights**            Number of week nights (Mon to Fri) the guest stayed or booked to stay at the hotel  \n",
    "**adults**                          Number of adults  \n",
    "**children**                        Number of children  \n",
    "**babies**                          Number of babies  \n",
    "**meal**                            Type of meal booked. Standard hospitality meal packages: Undefined/SC – no meal  \n",
    "**country**                         Categories are represented in the ISO 3155–3:2013 format  \n",
    "**market_segment**                  Market segment designation. “TA” - “Travel Agents” and “TO” - “Tour Operators”  \n",
    "**distribution_channel**            Booking distribution. The term “TA” - “Travel Agents” and “TO” - “Tour Operators”  \n",
    "**is_repeated_guest**               Value indicating if the booking name was from a repeated guest (1) or not (0)  \n",
    "**previous_cancellations**          Number of previous bookings that were cancelled by the customer  \n",
    "**previous_bookings_not_canceled**  Number of previous bookings not cancelled by the customer  \n",
    "**reserved_room_type**              Code of room type reserved  \n",
    "**assigned_room_type**              Code for the type of room assigned to the booking  \n",
    "**booking_changes**                 Changes made to the booking from the moment the booking was entered   \n",
    "**deposit_type**                    Indication on if the customer made a deposit to guarantee the booking  \n",
    "**agent**                           ID of the travel agency that made the booking  \n",
    "**company**                         ID of the company/entity that made the booking  \n",
    "**days_in_waiting_list**            Number of days the booking was in the waiting list  \n",
    "**customer_type**                   Type of booking, assuming one of four categories  \n",
    "**adr**                             Average Daily Rate as defined by dividing the sum of all lodging transactions  \n",
    "**required_car_parking_spaces**     Number of car parking spaces required by the customer    \n",
    "**total_of_special_requests**       Number of special requests made by the customer (e.g. twin bed or high floor)  \n",
    "**reservation_status**              Reservation last status, assuming one of three categories  \n",
    "**reservation_status_date**         Date at which the last status was set  "
   ]
  },
  {
   "cell_type": "markdown",
   "id": "d76ada21",
   "metadata": {},
   "source": [
    "# Objetivo da Investigação e Perguntas Exploratórias"
   ]
  },
  {
   "cell_type": "markdown",
   "id": "528a4fe0",
   "metadata": {},
   "source": [
    "- Este conjunto de dados contém informações de reserva para um hotel da cidade e um hotel de resort, e inclui informações como quando a reserva foi feita, e que nos irá permitir caracterizar os cancelamentos da reserva.\n",
    "\n",
    "- As variáveis analisadas serão:\n",
    "    - hotel\n",
    "    - is_repeatable_guest\n",
    "\n",
    "- Neste sentido, temos como hipótese que estas duas variáveis influenciam no cancelamento ou não de uma reserva\n"
   ]
  },
  {
   "cell_type": "markdown",
   "id": "5ea21d0b",
   "metadata": {},
   "source": [
    "# Exploring"
   ]
  },
  {
   "cell_type": "markdown",
   "id": "3f6aad12",
   "metadata": {},
   "source": [
    "- Foi feita uma visualização por país: Portugal(PRT) e Espanha(ESP)"
   ]
  },
  {
   "cell_type": "code",
   "execution_count": 36,
   "id": "ce60c471",
   "metadata": {
    "scrolled": false
   },
   "outputs": [
    {
     "data": {
      "text/html": [
       "<div>\n",
       "<style scoped>\n",
       "    .dataframe tbody tr th:only-of-type {\n",
       "        vertical-align: middle;\n",
       "    }\n",
       "\n",
       "    .dataframe tbody tr th {\n",
       "        vertical-align: top;\n",
       "    }\n",
       "\n",
       "    .dataframe thead th {\n",
       "        text-align: right;\n",
       "    }\n",
       "</style>\n",
       "<table border=\"1\" class=\"dataframe\">\n",
       "  <thead>\n",
       "    <tr style=\"text-align: right;\">\n",
       "      <th></th>\n",
       "      <th>hotel</th>\n",
       "      <th>is_canceled</th>\n",
       "      <th>lead_time</th>\n",
       "      <th>arrival_date_year</th>\n",
       "      <th>arrival_date_month</th>\n",
       "      <th>arrival_date_week_number</th>\n",
       "      <th>arrival_date_day_of_month</th>\n",
       "      <th>stays_in_weekend_nights</th>\n",
       "      <th>stays_in_week_nights</th>\n",
       "      <th>adults</th>\n",
       "      <th>...</th>\n",
       "      <th>deposit_type</th>\n",
       "      <th>agent</th>\n",
       "      <th>company</th>\n",
       "      <th>days_in_waiting_list</th>\n",
       "      <th>customer_type</th>\n",
       "      <th>adr</th>\n",
       "      <th>required_car_parking_spaces</th>\n",
       "      <th>total_of_special_requests</th>\n",
       "      <th>reservation_status</th>\n",
       "      <th>reservation_status_date</th>\n",
       "    </tr>\n",
       "  </thead>\n",
       "  <tbody>\n",
       "    <tr>\n",
       "      <th>13</th>\n",
       "      <td>Resort Hotel</td>\n",
       "      <td>0</td>\n",
       "      <td>18</td>\n",
       "      <td>2015</td>\n",
       "      <td>July</td>\n",
       "      <td>27</td>\n",
       "      <td>1</td>\n",
       "      <td>0</td>\n",
       "      <td>4</td>\n",
       "      <td>2</td>\n",
       "      <td>...</td>\n",
       "      <td>No Deposit</td>\n",
       "      <td>241.0</td>\n",
       "      <td>NaN</td>\n",
       "      <td>0</td>\n",
       "      <td>Transient</td>\n",
       "      <td>154.77</td>\n",
       "      <td>0</td>\n",
       "      <td>1</td>\n",
       "      <td>Check-Out</td>\n",
       "      <td>2015-07-05</td>\n",
       "    </tr>\n",
       "    <tr>\n",
       "      <th>36</th>\n",
       "      <td>Resort Hotel</td>\n",
       "      <td>0</td>\n",
       "      <td>15</td>\n",
       "      <td>2015</td>\n",
       "      <td>July</td>\n",
       "      <td>27</td>\n",
       "      <td>2</td>\n",
       "      <td>1</td>\n",
       "      <td>3</td>\n",
       "      <td>2</td>\n",
       "      <td>...</td>\n",
       "      <td>No Deposit</td>\n",
       "      <td>240.0</td>\n",
       "      <td>NaN</td>\n",
       "      <td>0</td>\n",
       "      <td>Transient</td>\n",
       "      <td>98.00</td>\n",
       "      <td>0</td>\n",
       "      <td>0</td>\n",
       "      <td>Check-Out</td>\n",
       "      <td>2015-07-06</td>\n",
       "    </tr>\n",
       "    <tr>\n",
       "      <th>42</th>\n",
       "      <td>Resort Hotel</td>\n",
       "      <td>0</td>\n",
       "      <td>16</td>\n",
       "      <td>2015</td>\n",
       "      <td>July</td>\n",
       "      <td>27</td>\n",
       "      <td>2</td>\n",
       "      <td>2</td>\n",
       "      <td>3</td>\n",
       "      <td>2</td>\n",
       "      <td>...</td>\n",
       "      <td>No Deposit</td>\n",
       "      <td>NaN</td>\n",
       "      <td>NaN</td>\n",
       "      <td>0</td>\n",
       "      <td>Transient</td>\n",
       "      <td>123.00</td>\n",
       "      <td>0</td>\n",
       "      <td>0</td>\n",
       "      <td>Check-Out</td>\n",
       "      <td>2015-07-07</td>\n",
       "    </tr>\n",
       "    <tr>\n",
       "      <th>46</th>\n",
       "      <td>Resort Hotel</td>\n",
       "      <td>0</td>\n",
       "      <td>96</td>\n",
       "      <td>2015</td>\n",
       "      <td>July</td>\n",
       "      <td>27</td>\n",
       "      <td>2</td>\n",
       "      <td>2</td>\n",
       "      <td>5</td>\n",
       "      <td>2</td>\n",
       "      <td>...</td>\n",
       "      <td>No Deposit</td>\n",
       "      <td>134.0</td>\n",
       "      <td>NaN</td>\n",
       "      <td>0</td>\n",
       "      <td>Transient</td>\n",
       "      <td>58.95</td>\n",
       "      <td>0</td>\n",
       "      <td>1</td>\n",
       "      <td>Check-Out</td>\n",
       "      <td>2015-07-09</td>\n",
       "    </tr>\n",
       "    <tr>\n",
       "      <th>53</th>\n",
       "      <td>Resort Hotel</td>\n",
       "      <td>0</td>\n",
       "      <td>3</td>\n",
       "      <td>2015</td>\n",
       "      <td>July</td>\n",
       "      <td>27</td>\n",
       "      <td>2</td>\n",
       "      <td>0</td>\n",
       "      <td>1</td>\n",
       "      <td>2</td>\n",
       "      <td>...</td>\n",
       "      <td>No Deposit</td>\n",
       "      <td>240.0</td>\n",
       "      <td>NaN</td>\n",
       "      <td>0</td>\n",
       "      <td>Transient</td>\n",
       "      <td>88.20</td>\n",
       "      <td>1</td>\n",
       "      <td>0</td>\n",
       "      <td>Check-Out</td>\n",
       "      <td>2015-07-03</td>\n",
       "    </tr>\n",
       "    <tr>\n",
       "      <th>...</th>\n",
       "      <td>...</td>\n",
       "      <td>...</td>\n",
       "      <td>...</td>\n",
       "      <td>...</td>\n",
       "      <td>...</td>\n",
       "      <td>...</td>\n",
       "      <td>...</td>\n",
       "      <td>...</td>\n",
       "      <td>...</td>\n",
       "      <td>...</td>\n",
       "      <td>...</td>\n",
       "      <td>...</td>\n",
       "      <td>...</td>\n",
       "      <td>...</td>\n",
       "      <td>...</td>\n",
       "      <td>...</td>\n",
       "      <td>...</td>\n",
       "      <td>...</td>\n",
       "      <td>...</td>\n",
       "      <td>...</td>\n",
       "      <td>...</td>\n",
       "    </tr>\n",
       "    <tr>\n",
       "      <th>119153</th>\n",
       "      <td>City Hotel</td>\n",
       "      <td>0</td>\n",
       "      <td>22</td>\n",
       "      <td>2017</td>\n",
       "      <td>August</td>\n",
       "      <td>35</td>\n",
       "      <td>30</td>\n",
       "      <td>0</td>\n",
       "      <td>3</td>\n",
       "      <td>2</td>\n",
       "      <td>...</td>\n",
       "      <td>No Deposit</td>\n",
       "      <td>9.0</td>\n",
       "      <td>NaN</td>\n",
       "      <td>0</td>\n",
       "      <td>Transient</td>\n",
       "      <td>61.80</td>\n",
       "      <td>0</td>\n",
       "      <td>0</td>\n",
       "      <td>Check-Out</td>\n",
       "      <td>2017-09-02</td>\n",
       "    </tr>\n",
       "    <tr>\n",
       "      <th>119158</th>\n",
       "      <td>City Hotel</td>\n",
       "      <td>0</td>\n",
       "      <td>180</td>\n",
       "      <td>2017</td>\n",
       "      <td>August</td>\n",
       "      <td>34</td>\n",
       "      <td>25</td>\n",
       "      <td>2</td>\n",
       "      <td>4</td>\n",
       "      <td>3</td>\n",
       "      <td>...</td>\n",
       "      <td>No Deposit</td>\n",
       "      <td>9.0</td>\n",
       "      <td>NaN</td>\n",
       "      <td>0</td>\n",
       "      <td>Transient</td>\n",
       "      <td>222.30</td>\n",
       "      <td>1</td>\n",
       "      <td>0</td>\n",
       "      <td>Check-Out</td>\n",
       "      <td>2017-08-31</td>\n",
       "    </tr>\n",
       "    <tr>\n",
       "      <th>119254</th>\n",
       "      <td>City Hotel</td>\n",
       "      <td>0</td>\n",
       "      <td>9</td>\n",
       "      <td>2017</td>\n",
       "      <td>August</td>\n",
       "      <td>35</td>\n",
       "      <td>28</td>\n",
       "      <td>1</td>\n",
       "      <td>3</td>\n",
       "      <td>2</td>\n",
       "      <td>...</td>\n",
       "      <td>No Deposit</td>\n",
       "      <td>14.0</td>\n",
       "      <td>NaN</td>\n",
       "      <td>0</td>\n",
       "      <td>Transient</td>\n",
       "      <td>210.00</td>\n",
       "      <td>0</td>\n",
       "      <td>0</td>\n",
       "      <td>Check-Out</td>\n",
       "      <td>2017-09-01</td>\n",
       "    </tr>\n",
       "    <tr>\n",
       "      <th>119343</th>\n",
       "      <td>City Hotel</td>\n",
       "      <td>0</td>\n",
       "      <td>149</td>\n",
       "      <td>2017</td>\n",
       "      <td>August</td>\n",
       "      <td>35</td>\n",
       "      <td>30</td>\n",
       "      <td>0</td>\n",
       "      <td>4</td>\n",
       "      <td>2</td>\n",
       "      <td>...</td>\n",
       "      <td>No Deposit</td>\n",
       "      <td>28.0</td>\n",
       "      <td>NaN</td>\n",
       "      <td>0</td>\n",
       "      <td>Transient</td>\n",
       "      <td>84.60</td>\n",
       "      <td>0</td>\n",
       "      <td>0</td>\n",
       "      <td>Check-Out</td>\n",
       "      <td>2017-09-03</td>\n",
       "    </tr>\n",
       "    <tr>\n",
       "      <th>119346</th>\n",
       "      <td>City Hotel</td>\n",
       "      <td>0</td>\n",
       "      <td>45</td>\n",
       "      <td>2017</td>\n",
       "      <td>August</td>\n",
       "      <td>35</td>\n",
       "      <td>27</td>\n",
       "      <td>2</td>\n",
       "      <td>5</td>\n",
       "      <td>2</td>\n",
       "      <td>...</td>\n",
       "      <td>No Deposit</td>\n",
       "      <td>9.0</td>\n",
       "      <td>NaN</td>\n",
       "      <td>0</td>\n",
       "      <td>Transient</td>\n",
       "      <td>183.86</td>\n",
       "      <td>0</td>\n",
       "      <td>2</td>\n",
       "      <td>Check-Out</td>\n",
       "      <td>2017-09-03</td>\n",
       "    </tr>\n",
       "  </tbody>\n",
       "</table>\n",
       "<p>8568 rows × 32 columns</p>\n",
       "</div>"
      ],
      "text/plain": [
       "               hotel  is_canceled  lead_time  arrival_date_year  \\\n",
       "13      Resort Hotel            0         18               2015   \n",
       "36      Resort Hotel            0         15               2015   \n",
       "42      Resort Hotel            0         16               2015   \n",
       "46      Resort Hotel            0         96               2015   \n",
       "53      Resort Hotel            0          3               2015   \n",
       "...              ...          ...        ...                ...   \n",
       "119153    City Hotel            0         22               2017   \n",
       "119158    City Hotel            0        180               2017   \n",
       "119254    City Hotel            0          9               2017   \n",
       "119343    City Hotel            0        149               2017   \n",
       "119346    City Hotel            0         45               2017   \n",
       "\n",
       "       arrival_date_month  arrival_date_week_number  \\\n",
       "13                   July                        27   \n",
       "36                   July                        27   \n",
       "42                   July                        27   \n",
       "46                   July                        27   \n",
       "53                   July                        27   \n",
       "...                   ...                       ...   \n",
       "119153             August                        35   \n",
       "119158             August                        34   \n",
       "119254             August                        35   \n",
       "119343             August                        35   \n",
       "119346             August                        35   \n",
       "\n",
       "        arrival_date_day_of_month  stays_in_weekend_nights  \\\n",
       "13                              1                        0   \n",
       "36                              2                        1   \n",
       "42                              2                        2   \n",
       "46                              2                        2   \n",
       "53                              2                        0   \n",
       "...                           ...                      ...   \n",
       "119153                         30                        0   \n",
       "119158                         25                        2   \n",
       "119254                         28                        1   \n",
       "119343                         30                        0   \n",
       "119346                         27                        2   \n",
       "\n",
       "        stays_in_week_nights  adults  ...  deposit_type  agent company  \\\n",
       "13                         4       2  ...    No Deposit  241.0     NaN   \n",
       "36                         3       2  ...    No Deposit  240.0     NaN   \n",
       "42                         3       2  ...    No Deposit    NaN     NaN   \n",
       "46                         5       2  ...    No Deposit  134.0     NaN   \n",
       "53                         1       2  ...    No Deposit  240.0     NaN   \n",
       "...                      ...     ...  ...           ...    ...     ...   \n",
       "119153                     3       2  ...    No Deposit    9.0     NaN   \n",
       "119158                     4       3  ...    No Deposit    9.0     NaN   \n",
       "119254                     3       2  ...    No Deposit   14.0     NaN   \n",
       "119343                     4       2  ...    No Deposit   28.0     NaN   \n",
       "119346                     5       2  ...    No Deposit    9.0     NaN   \n",
       "\n",
       "       days_in_waiting_list customer_type     adr  \\\n",
       "13                        0     Transient  154.77   \n",
       "36                        0     Transient   98.00   \n",
       "42                        0     Transient  123.00   \n",
       "46                        0     Transient   58.95   \n",
       "53                        0     Transient   88.20   \n",
       "...                     ...           ...     ...   \n",
       "119153                    0     Transient   61.80   \n",
       "119158                    0     Transient  222.30   \n",
       "119254                    0     Transient  210.00   \n",
       "119343                    0     Transient   84.60   \n",
       "119346                    0     Transient  183.86   \n",
       "\n",
       "        required_car_parking_spaces  total_of_special_requests  \\\n",
       "13                                0                          1   \n",
       "36                                0                          0   \n",
       "42                                0                          0   \n",
       "46                                0                          1   \n",
       "53                                1                          0   \n",
       "...                             ...                        ...   \n",
       "119153                            0                          0   \n",
       "119158                            1                          0   \n",
       "119254                            0                          0   \n",
       "119343                            0                          0   \n",
       "119346                            0                          2   \n",
       "\n",
       "        reservation_status reservation_status_date  \n",
       "13               Check-Out              2015-07-05  \n",
       "36               Check-Out              2015-07-06  \n",
       "42               Check-Out              2015-07-07  \n",
       "46               Check-Out              2015-07-09  \n",
       "53               Check-Out              2015-07-03  \n",
       "...                    ...                     ...  \n",
       "119153           Check-Out              2017-09-02  \n",
       "119158           Check-Out              2017-08-31  \n",
       "119254           Check-Out              2017-09-01  \n",
       "119343           Check-Out              2017-09-03  \n",
       "119346           Check-Out              2017-09-03  \n",
       "\n",
       "[8568 rows x 32 columns]"
      ]
     },
     "execution_count": 36,
     "metadata": {},
     "output_type": "execute_result"
    }
   ],
   "source": [
    "\n",
    "dataframe.head()\n",
    "dataframe[dataframe['country'] == 'PRT']\n",
    "dataframe[dataframe['country'] == 'ESP']\n"
   ]
  },
  {
   "cell_type": "markdown",
   "id": "2f4f9c9b",
   "metadata": {},
   "source": [
    "# Sturges rule to class\n",
    "## k = 1 + (10/3 log₁₀ n)"
   ]
  },
  {
   "cell_type": "markdown",
   "id": "9d274c9b",
   "metadata": {},
   "source": [
    "- Utilizamos a regra de Sturges para determinar o número de classes. \n",
    "- É um método simples, baseado no número de amostras x que permitira encontrar o número de classes e sua amplitude. "
   ]
  },
  {
   "cell_type": "code",
   "execution_count": 37,
   "id": "6da9bdef",
   "metadata": {},
   "outputs": [
    {
     "data": {
      "text/plain": [
       "18"
      ]
     },
     "execution_count": 37,
     "metadata": {},
     "output_type": "execute_result"
    }
   ],
   "source": [
    "class_number = 1 + (10 /3) * np.log10(dataframe.shape[0])\n",
    "class_number = int(class_number.round(0))\n",
    "class_number"
   ]
  },
  {
   "cell_type": "markdown",
   "id": "19e34d0c",
   "metadata": {},
   "source": [
    "## Lead_time"
   ]
  },
  {
   "cell_type": "markdown",
   "id": "61fbaad6",
   "metadata": {},
   "source": [
    "- É o numero de dias entre a data de entrada da reserva e a data de chegada\n",
    "- Temos o número médio de dias 104"
   ]
  },
  {
   "cell_type": "code",
   "execution_count": 38,
   "id": "61cb2f58",
   "metadata": {},
   "outputs": [
    {
     "name": "stdout",
     "output_type": "stream",
     "text": [
      "Mean is 104.01141636652986 \n",
      "Median is 69.0\n",
      "Mode is 0\n",
      "Not a normal distribution\n"
     ]
    },
    {
     "data": {
      "text/html": [
       "<div>\n",
       "<style scoped>\n",
       "    .dataframe tbody tr th:only-of-type {\n",
       "        vertical-align: middle;\n",
       "    }\n",
       "\n",
       "    .dataframe tbody tr th {\n",
       "        vertical-align: top;\n",
       "    }\n",
       "\n",
       "    .dataframe thead th {\n",
       "        text-align: right;\n",
       "    }\n",
       "</style>\n",
       "<table border=\"1\" class=\"dataframe\">\n",
       "  <thead>\n",
       "    <tr style=\"text-align: right;\">\n",
       "      <th>Lead Time</th>\n",
       "      <th>Frequence</th>\n",
       "      <th>Porcentage (%)</th>\n",
       "    </tr>\n",
       "  </thead>\n",
       "  <tbody>\n",
       "    <tr>\n",
       "      <th>(-0.738, 40.944]</th>\n",
       "      <td>45513</td>\n",
       "      <td>0.381213</td>\n",
       "    </tr>\n",
       "    <tr>\n",
       "      <th>(40.944, 81.889]</th>\n",
       "      <td>19319</td>\n",
       "      <td>0.161814</td>\n",
       "    </tr>\n",
       "    <tr>\n",
       "      <th>(81.889, 122.833]</th>\n",
       "      <td>14413</td>\n",
       "      <td>0.120722</td>\n",
       "    </tr>\n",
       "    <tr>\n",
       "      <th>(122.833, 163.778]</th>\n",
       "      <td>11073</td>\n",
       "      <td>0.092746</td>\n",
       "    </tr>\n",
       "    <tr>\n",
       "      <th>(163.778, 204.722]</th>\n",
       "      <td>9034</td>\n",
       "      <td>0.075668</td>\n",
       "    </tr>\n",
       "    <tr>\n",
       "      <th>(204.722, 245.667]</th>\n",
       "      <td>5939</td>\n",
       "      <td>0.049745</td>\n",
       "    </tr>\n",
       "    <tr>\n",
       "      <th>(245.667, 286.611]</th>\n",
       "      <td>4932</td>\n",
       "      <td>0.041310</td>\n",
       "    </tr>\n",
       "    <tr>\n",
       "      <th>(286.611, 327.556]</th>\n",
       "      <td>3826</td>\n",
       "      <td>0.032046</td>\n",
       "    </tr>\n",
       "    <tr>\n",
       "      <th>(327.556, 368.5]</th>\n",
       "      <td>2261</td>\n",
       "      <td>0.018938</td>\n",
       "    </tr>\n",
       "    <tr>\n",
       "      <th>(368.5, 409.444]</th>\n",
       "      <td>1168</td>\n",
       "      <td>0.009783</td>\n",
       "    </tr>\n",
       "    <tr>\n",
       "      <th>(409.444, 450.389]</th>\n",
       "      <td>806</td>\n",
       "      <td>0.006751</td>\n",
       "    </tr>\n",
       "    <tr>\n",
       "      <th>(450.389, 491.333]</th>\n",
       "      <td>598</td>\n",
       "      <td>0.005009</td>\n",
       "    </tr>\n",
       "    <tr>\n",
       "      <th>(491.333, 532.278]</th>\n",
       "      <td>185</td>\n",
       "      <td>0.001550</td>\n",
       "    </tr>\n",
       "    <tr>\n",
       "      <th>(532.278, 573.222]</th>\n",
       "      <td>125</td>\n",
       "      <td>0.001047</td>\n",
       "    </tr>\n",
       "    <tr>\n",
       "      <th>(573.222, 614.167]</th>\n",
       "      <td>115</td>\n",
       "      <td>0.000963</td>\n",
       "    </tr>\n",
       "    <tr>\n",
       "      <th>(614.167, 655.111]</th>\n",
       "      <td>81</td>\n",
       "      <td>0.000678</td>\n",
       "    </tr>\n",
       "    <tr>\n",
       "      <th>(655.111, 696.056]</th>\n",
       "      <td>0</td>\n",
       "      <td>0.000000</td>\n",
       "    </tr>\n",
       "    <tr>\n",
       "      <th>(696.056, 737.0]</th>\n",
       "      <td>2</td>\n",
       "      <td>0.000017</td>\n",
       "    </tr>\n",
       "  </tbody>\n",
       "</table>\n",
       "</div>"
      ],
      "text/plain": [
       "Lead Time           Frequence  Porcentage (%)\n",
       "(-0.738, 40.944]        45513        0.381213\n",
       "(40.944, 81.889]        19319        0.161814\n",
       "(81.889, 122.833]       14413        0.120722\n",
       "(122.833, 163.778]      11073        0.092746\n",
       "(163.778, 204.722]       9034        0.075668\n",
       "(204.722, 245.667]       5939        0.049745\n",
       "(245.667, 286.611]       4932        0.041310\n",
       "(286.611, 327.556]       3826        0.032046\n",
       "(327.556, 368.5]         2261        0.018938\n",
       "(368.5, 409.444]         1168        0.009783\n",
       "(409.444, 450.389]        806        0.006751\n",
       "(450.389, 491.333]        598        0.005009\n",
       "(491.333, 532.278]        185        0.001550\n",
       "(532.278, 573.222]        125        0.001047\n",
       "(573.222, 614.167]        115        0.000963\n",
       "(614.167, 655.111]         81        0.000678\n",
       "(655.111, 696.056]          0        0.000000\n",
       "(696.056, 737.0]            2        0.000017"
      ]
     },
     "execution_count": 38,
     "metadata": {},
     "output_type": "execute_result"
    }
   ],
   "source": [
    "distribution_frequences_lead_time = pd.DataFrame(\n",
    "    {'Frequence': get_frequences_by_column(dataframe, 'lead_time', class_number), \n",
    "     'Porcentage (%)': get_percentage_by_column(dataframe, 'lead_time', class_number)}\n",
    ")\n",
    "distribution_frequences_lead_time.rename_axis('Lead Time', axis= 'columns', inplace = True)\n",
    "statistics_test_lead_time, p_value_lead_time = normaltest(dataframe[\"lead_time\"])\n",
    "\n",
    "print_media_median_mode(dataframe, \"lead_time\")\n",
    "print('Not a normal distribution' if p_value_lead_time <= significance else 'It\"s normal distribution')\n",
    "distribution_frequences_lead_time"
   ]
  },
  {
   "cell_type": "markdown",
   "id": "72c41a87",
   "metadata": {},
   "source": [
    "### Graphs - lead_time"
   ]
  },
  {
   "cell_type": "code",
   "execution_count": 39,
   "id": "0c8b15d5",
   "metadata": {},
   "outputs": [
    {
     "data": {
      "text/plain": [
       "<AxesSubplot:xlabel='lead_time', ylabel='Density'>"
      ]
     },
     "execution_count": 39,
     "metadata": {},
     "output_type": "execute_result"
    },
    {
     "data": {
      "image/png": "[encoded data removed]",
      "text/plain": [
       "<Figure size 432x288 with 1 Axes>"
      ]
     },
     "metadata": {
      "needs_background": "light"
     },
     "output_type": "display_data"
    }
   ],
   "source": [
    "sns.distplot(dataframe[\"lead_time\"])"
   ]
  },
  {
   "cell_type": "code",
   "execution_count": 40,
   "id": "fc59dfb1",
   "metadata": {},
   "outputs": [
    {
     "data": {
      "text/plain": [
       "<AxesSubplot:xlabel='lead_time'>"
      ]
     },
     "execution_count": 40,
     "metadata": {},
     "output_type": "execute_result"
    },
    {
     "data": {
      "image/png": "[encoded data removed]",
      "text/plain": [
       "<Figure size 432x288 with 1 Axes>"
      ]
     },
     "metadata": {
      "needs_background": "light"
     },
     "output_type": "display_data"
    }
   ],
   "source": [
    "sns.boxplot(x = 'lead_time', data = dataframe, orient = 'h')"
   ]
  },
  {
   "cell_type": "code",
   "execution_count": 41,
   "id": "1f154dfa",
   "metadata": {},
   "outputs": [
    {
     "data": {
      "image/png": "[encoded data removed]",
      "text/plain": [
       "<Figure size 432x288 with 1 Axes>"
      ]
     },
     "metadata": {
      "needs_background": "light"
     },
     "output_type": "display_data"
    }
   ],
   "source": [
    "#realizar para canceled\n",
    "plt.hist(dataframe[\"lead_time\"], bins=20)\n",
    "plt.show()"
   ]
  },
  {
   "cell_type": "markdown",
   "id": "df2e39f9",
   "metadata": {},
   "source": [
    "## Distribuição de Reservas"
   ]
  },
  {
   "cell_type": "markdown",
   "id": "95289fd8",
   "metadata": {},
   "source": [
    "- Hotel\n",
    "- Resort"
   ]
  },
  {
   "cell_type": "code",
   "execution_count": 42,
   "id": "556b5abf",
   "metadata": {},
   "outputs": [
    {
     "data": {
      "text/html": [
       "<div>\n",
       "<style scoped>\n",
       "    .dataframe tbody tr th:only-of-type {\n",
       "        vertical-align: middle;\n",
       "    }\n",
       "\n",
       "    .dataframe tbody tr th {\n",
       "        vertical-align: top;\n",
       "    }\n",
       "\n",
       "    .dataframe thead th {\n",
       "        text-align: right;\n",
       "    }\n",
       "</style>\n",
       "<table border=\"1\" class=\"dataframe\">\n",
       "  <thead>\n",
       "    <tr style=\"text-align: right;\">\n",
       "      <th>Hotel Type</th>\n",
       "      <th>Frequence</th>\n",
       "      <th>Percentage (%)</th>\n",
       "    </tr>\n",
       "  </thead>\n",
       "  <tbody>\n",
       "    <tr>\n",
       "      <th>City Hotel</th>\n",
       "      <td>79330</td>\n",
       "      <td>66.446101</td>\n",
       "    </tr>\n",
       "    <tr>\n",
       "      <th>Resort Hotel</th>\n",
       "      <td>40060</td>\n",
       "      <td>33.553899</td>\n",
       "    </tr>\n",
       "  </tbody>\n",
       "</table>\n",
       "</div>"
      ],
      "text/plain": [
       "Hotel Type    Frequence  Percentage (%)\n",
       "City Hotel        79330       66.446101\n",
       "Resort Hotel      40060       33.553899"
      ]
     },
     "execution_count": 42,
     "metadata": {},
     "output_type": "execute_result"
    }
   ],
   "source": [
    "frequence_hotel = dataframe['hotel'].value_counts()\n",
    "percentage_hotel = dataframe['hotel'].value_counts(normalize = True) * 100\n",
    "distribution_frequence_hotel = pd.DataFrame({'Frequence': frequence_hotel, 'Percentage (%)': percentage_hotel})\n",
    "distribution_frequence_hotel.rename_axis('Hotel Type', axis= 'columns', inplace = True)\n",
    "\n",
    "distribution_frequence_hotel"
   ]
  },
  {
   "cell_type": "markdown",
   "id": "02482606",
   "metadata": {},
   "source": [
    "### Graphs - hotel"
   ]
  },
  {
   "cell_type": "code",
   "execution_count": 43,
   "id": "739d1447",
   "metadata": {},
   "outputs": [
    {
     "data": {
      "image/png": "[encoded data removed]",
      "text/plain": [
       "<Figure size 432x288 with 1 Axes>"
      ]
     },
     "metadata": {
      "needs_background": "light"
     },
     "output_type": "display_data"
    }
   ],
   "source": [
    "plt.hist(dataframe[\"hotel\"], bins=2)\n",
    "plt.show()"
   ]
  },
  {
   "cell_type": "markdown",
   "id": "951386d7",
   "metadata": {},
   "source": [
    "## Adults"
   ]
  },
  {
   "cell_type": "markdown",
   "id": "e6d3845f",
   "metadata": {},
   "source": [
    "- A média de adultos por reserva"
   ]
  },
  {
   "cell_type": "code",
   "execution_count": 44,
   "id": "ae9aa56d",
   "metadata": {},
   "outputs": [
    {
     "name": "stdout",
     "output_type": "stream",
     "text": [
      "Mean is 1.8564033838679956 \n",
      "Median is 2.0\n",
      "Mode is 2\n",
      "Not a normal distribution\n"
     ]
    },
    {
     "data": {
      "text/html": [
       "<div>\n",
       "<style scoped>\n",
       "    .dataframe tbody tr th:only-of-type {\n",
       "        vertical-align: middle;\n",
       "    }\n",
       "\n",
       "    .dataframe tbody tr th {\n",
       "        vertical-align: top;\n",
       "    }\n",
       "\n",
       "    .dataframe thead th {\n",
       "        text-align: right;\n",
       "    }\n",
       "</style>\n",
       "<table border=\"1\" class=\"dataframe\">\n",
       "  <thead>\n",
       "    <tr style=\"text-align: right;\">\n",
       "      <th>Adults</th>\n",
       "      <th>Frequence</th>\n",
       "      <th>Porcentage (%)</th>\n",
       "    </tr>\n",
       "  </thead>\n",
       "  <tbody>\n",
       "    <tr>\n",
       "      <th>(-0.056, 3.056]</th>\n",
       "      <td>119312</td>\n",
       "      <td>0.999347</td>\n",
       "    </tr>\n",
       "    <tr>\n",
       "      <th>(3.056, 6.111]</th>\n",
       "      <td>65</td>\n",
       "      <td>0.000544</td>\n",
       "    </tr>\n",
       "    <tr>\n",
       "      <th>(6.111, 9.167]</th>\n",
       "      <td>0</td>\n",
       "      <td>0.000000</td>\n",
       "    </tr>\n",
       "    <tr>\n",
       "      <th>(9.167, 12.222]</th>\n",
       "      <td>1</td>\n",
       "      <td>0.000008</td>\n",
       "    </tr>\n",
       "    <tr>\n",
       "      <th>(12.222, 15.278]</th>\n",
       "      <td>0</td>\n",
       "      <td>0.000000</td>\n",
       "    </tr>\n",
       "    <tr>\n",
       "      <th>(15.278, 18.333]</th>\n",
       "      <td>0</td>\n",
       "      <td>0.000000</td>\n",
       "    </tr>\n",
       "    <tr>\n",
       "      <th>(18.333, 21.389]</th>\n",
       "      <td>2</td>\n",
       "      <td>0.000017</td>\n",
       "    </tr>\n",
       "    <tr>\n",
       "      <th>(21.389, 24.444]</th>\n",
       "      <td>0</td>\n",
       "      <td>0.000000</td>\n",
       "    </tr>\n",
       "    <tr>\n",
       "      <th>(24.444, 27.5]</th>\n",
       "      <td>7</td>\n",
       "      <td>0.000059</td>\n",
       "    </tr>\n",
       "    <tr>\n",
       "      <th>(27.5, 30.556]</th>\n",
       "      <td>0</td>\n",
       "      <td>0.000000</td>\n",
       "    </tr>\n",
       "    <tr>\n",
       "      <th>(30.556, 33.611]</th>\n",
       "      <td>0</td>\n",
       "      <td>0.000000</td>\n",
       "    </tr>\n",
       "    <tr>\n",
       "      <th>(33.611, 36.667]</th>\n",
       "      <td>0</td>\n",
       "      <td>0.000000</td>\n",
       "    </tr>\n",
       "    <tr>\n",
       "      <th>(36.667, 39.722]</th>\n",
       "      <td>0</td>\n",
       "      <td>0.000000</td>\n",
       "    </tr>\n",
       "    <tr>\n",
       "      <th>(39.722, 42.778]</th>\n",
       "      <td>1</td>\n",
       "      <td>0.000008</td>\n",
       "    </tr>\n",
       "    <tr>\n",
       "      <th>(42.778, 45.833]</th>\n",
       "      <td>0</td>\n",
       "      <td>0.000000</td>\n",
       "    </tr>\n",
       "    <tr>\n",
       "      <th>(45.833, 48.889]</th>\n",
       "      <td>0</td>\n",
       "      <td>0.000000</td>\n",
       "    </tr>\n",
       "    <tr>\n",
       "      <th>(48.889, 51.944]</th>\n",
       "      <td>1</td>\n",
       "      <td>0.000008</td>\n",
       "    </tr>\n",
       "    <tr>\n",
       "      <th>(51.944, 55.0]</th>\n",
       "      <td>1</td>\n",
       "      <td>0.000008</td>\n",
       "    </tr>\n",
       "  </tbody>\n",
       "</table>\n",
       "</div>"
      ],
      "text/plain": [
       "Adults            Frequence  Porcentage (%)\n",
       "(-0.056, 3.056]      119312        0.999347\n",
       "(3.056, 6.111]           65        0.000544\n",
       "(6.111, 9.167]            0        0.000000\n",
       "(9.167, 12.222]           1        0.000008\n",
       "(12.222, 15.278]          0        0.000000\n",
       "(15.278, 18.333]          0        0.000000\n",
       "(18.333, 21.389]          2        0.000017\n",
       "(21.389, 24.444]          0        0.000000\n",
       "(24.444, 27.5]            7        0.000059\n",
       "(27.5, 30.556]            0        0.000000\n",
       "(30.556, 33.611]          0        0.000000\n",
       "(33.611, 36.667]          0        0.000000\n",
       "(36.667, 39.722]          0        0.000000\n",
       "(39.722, 42.778]          1        0.000008\n",
       "(42.778, 45.833]          0        0.000000\n",
       "(45.833, 48.889]          0        0.000000\n",
       "(48.889, 51.944]          1        0.000008\n",
       "(51.944, 55.0]            1        0.000008"
      ]
     },
     "execution_count": 44,
     "metadata": {},
     "output_type": "execute_result"
    }
   ],
   "source": [
    "distribution_frequences_adults = pd.DataFrame(\n",
    "    {'Frequence': get_frequences_by_column(dataframe, 'adults', class_number), \n",
    "     'Porcentage (%)': get_percentage_by_column(dataframe, 'adults', class_number)}\n",
    ")\n",
    "\n",
    "distribution_frequences_adults.rename_axis('Adults', axis= 'columns', inplace = True)\n",
    "print_media_median_mode(dataframe, \"adults\")\n",
    "statistics_test_adults, p_value_adults = normaltest(dataframe[\"adults\"])\n",
    "print('Not a normal distribution' if p_value_adults <= significance else 'It\"s normal distribution')\n",
    "distribution_frequences_adults"
   ]
  },
  {
   "cell_type": "markdown",
   "id": "6d53db61",
   "metadata": {},
   "source": [
    "### Graphs - adults"
   ]
  },
  {
   "cell_type": "code",
   "execution_count": 45,
   "id": "5eff2c44",
   "metadata": {},
   "outputs": [
    {
     "data": {
      "text/plain": [
       "<AxesSubplot:xlabel='adults', ylabel='Density'>"
      ]
     },
     "execution_count": 45,
     "metadata": {},
     "output_type": "execute_result"
    },
    {
     "data": {
      "image/png": "[encoded data removed]",
      "text/plain": [
       "<Figure size 432x288 with 1 Axes>"
      ]
     },
     "metadata": {
      "needs_background": "light"
     },
     "output_type": "display_data"
    }
   ],
   "source": [
    "sns.distplot(dataframe[\"adults\"])"
   ]
  },
  {
   "cell_type": "code",
   "execution_count": 46,
   "id": "2d25af8a",
   "metadata": {},
   "outputs": [
    {
     "data": {
      "image/png": "[encoded data removed]",
      "text/plain": [
       "<Figure size 432x288 with 1 Axes>"
      ]
     },
     "metadata": {
      "needs_background": "light"
     },
     "output_type": "display_data"
    }
   ],
   "source": [
    "plt.hist(dataframe[\"adults\"], bins=100)\n",
    "plt.show()"
   ]
  },
  {
   "cell_type": "markdown",
   "id": "b6ca0f25",
   "metadata": {},
   "source": [
    "## Children"
   ]
  },
  {
   "cell_type": "markdown",
   "id": "06319a2b",
   "metadata": {},
   "source": [
    "- A média de crianças por reserva"
   ]
  },
  {
   "cell_type": "code",
   "execution_count": 47,
   "id": "032b6c9d",
   "metadata": {},
   "outputs": [
    {
     "name": "stdout",
     "output_type": "stream",
     "text": [
      "Mean is 0.10388990333874994 \n",
      "Median is 0.0\n",
      "Mode is 0.0\n",
      "It\"s normal distribution\n"
     ]
    },
    {
     "data": {
      "text/html": [
       "<div>\n",
       "<style scoped>\n",
       "    .dataframe tbody tr th:only-of-type {\n",
       "        vertical-align: middle;\n",
       "    }\n",
       "\n",
       "    .dataframe tbody tr th {\n",
       "        vertical-align: top;\n",
       "    }\n",
       "\n",
       "    .dataframe thead th {\n",
       "        text-align: right;\n",
       "    }\n",
       "</style>\n",
       "<table border=\"1\" class=\"dataframe\">\n",
       "  <thead>\n",
       "    <tr style=\"text-align: right;\">\n",
       "      <th>Children</th>\n",
       "      <th>Frequence</th>\n",
       "      <th>Porcentage (%)</th>\n",
       "    </tr>\n",
       "  </thead>\n",
       "  <tbody>\n",
       "    <tr>\n",
       "      <th>(-0.011, 0.556]</th>\n",
       "      <td>110796</td>\n",
       "      <td>0.928049</td>\n",
       "    </tr>\n",
       "    <tr>\n",
       "      <th>(0.556, 1.111]</th>\n",
       "      <td>4861</td>\n",
       "      <td>0.040717</td>\n",
       "    </tr>\n",
       "    <tr>\n",
       "      <th>(1.111, 1.667]</th>\n",
       "      <td>0</td>\n",
       "      <td>0.000000</td>\n",
       "    </tr>\n",
       "    <tr>\n",
       "      <th>(1.667, 2.222]</th>\n",
       "      <td>3652</td>\n",
       "      <td>0.030590</td>\n",
       "    </tr>\n",
       "    <tr>\n",
       "      <th>(2.222, 2.778]</th>\n",
       "      <td>0</td>\n",
       "      <td>0.000000</td>\n",
       "    </tr>\n",
       "    <tr>\n",
       "      <th>(2.778, 3.333]</th>\n",
       "      <td>76</td>\n",
       "      <td>0.000637</td>\n",
       "    </tr>\n",
       "    <tr>\n",
       "      <th>(3.333, 3.889]</th>\n",
       "      <td>0</td>\n",
       "      <td>0.000000</td>\n",
       "    </tr>\n",
       "    <tr>\n",
       "      <th>(3.889, 4.444]</th>\n",
       "      <td>0</td>\n",
       "      <td>0.000000</td>\n",
       "    </tr>\n",
       "    <tr>\n",
       "      <th>(4.444, 5.0]</th>\n",
       "      <td>0</td>\n",
       "      <td>0.000000</td>\n",
       "    </tr>\n",
       "    <tr>\n",
       "      <th>(5.0, 5.556]</th>\n",
       "      <td>0</td>\n",
       "      <td>0.000000</td>\n",
       "    </tr>\n",
       "    <tr>\n",
       "      <th>(5.556, 6.111]</th>\n",
       "      <td>0</td>\n",
       "      <td>0.000000</td>\n",
       "    </tr>\n",
       "    <tr>\n",
       "      <th>(6.111, 6.667]</th>\n",
       "      <td>0</td>\n",
       "      <td>0.000000</td>\n",
       "    </tr>\n",
       "    <tr>\n",
       "      <th>(6.667, 7.222]</th>\n",
       "      <td>0</td>\n",
       "      <td>0.000000</td>\n",
       "    </tr>\n",
       "    <tr>\n",
       "      <th>(7.222, 7.778]</th>\n",
       "      <td>0</td>\n",
       "      <td>0.000000</td>\n",
       "    </tr>\n",
       "    <tr>\n",
       "      <th>(7.778, 8.333]</th>\n",
       "      <td>0</td>\n",
       "      <td>0.000000</td>\n",
       "    </tr>\n",
       "    <tr>\n",
       "      <th>(8.333, 8.889]</th>\n",
       "      <td>0</td>\n",
       "      <td>0.000000</td>\n",
       "    </tr>\n",
       "    <tr>\n",
       "      <th>(8.889, 9.444]</th>\n",
       "      <td>0</td>\n",
       "      <td>0.000000</td>\n",
       "    </tr>\n",
       "    <tr>\n",
       "      <th>(9.444, 10.0]</th>\n",
       "      <td>1</td>\n",
       "      <td>0.000008</td>\n",
       "    </tr>\n",
       "  </tbody>\n",
       "</table>\n",
       "</div>"
      ],
      "text/plain": [
       "Children         Frequence  Porcentage (%)\n",
       "(-0.011, 0.556]     110796        0.928049\n",
       "(0.556, 1.111]        4861        0.040717\n",
       "(1.111, 1.667]           0        0.000000\n",
       "(1.667, 2.222]        3652        0.030590\n",
       "(2.222, 2.778]           0        0.000000\n",
       "(2.778, 3.333]          76        0.000637\n",
       "(3.333, 3.889]           0        0.000000\n",
       "(3.889, 4.444]           0        0.000000\n",
       "(4.444, 5.0]             0        0.000000\n",
       "(5.0, 5.556]             0        0.000000\n",
       "(5.556, 6.111]           0        0.000000\n",
       "(6.111, 6.667]           0        0.000000\n",
       "(6.667, 7.222]           0        0.000000\n",
       "(7.222, 7.778]           0        0.000000\n",
       "(7.778, 8.333]           0        0.000000\n",
       "(8.333, 8.889]           0        0.000000\n",
       "(8.889, 9.444]           0        0.000000\n",
       "(9.444, 10.0]            1        0.000008"
      ]
     },
     "execution_count": 47,
     "metadata": {},
     "output_type": "execute_result"
    }
   ],
   "source": [
    "distribution_frequences_children = pd.DataFrame(\n",
    "    {'Frequence': get_frequences_by_column(dataframe, 'children', class_number), \n",
    "     'Porcentage (%)': get_percentage_by_column(dataframe, 'children', class_number)}\n",
    ")\n",
    "distribution_frequences_children.rename_axis('Children', axis= 'columns', inplace = True)\n",
    "\n",
    "print_media_median_mode(dataframe, \"children\")\n",
    "statistics_test_children, p_value_children = normaltest(dataframe[\"children\"])\n",
    "print('Not a normal distribution' if p_value_children <= significance else 'It\"s normal distribution')\n",
    "distribution_frequences_children"
   ]
  },
  {
   "cell_type": "markdown",
   "id": "7639a2d9",
   "metadata": {},
   "source": [
    "### Graphs - children"
   ]
  },
  {
   "cell_type": "code",
   "execution_count": 48,
   "id": "c30ed80e",
   "metadata": {},
   "outputs": [
    {
     "data": {
      "text/plain": [
       "<AxesSubplot:xlabel='children', ylabel='Density'>"
      ]
     },
     "execution_count": 48,
     "metadata": {},
     "output_type": "execute_result"
    },
    {
     "data": {
      "image/png": "[encoded data removed]",
      "text/plain": [
       "<Figure size 432x288 with 1 Axes>"
      ]
     },
     "metadata": {
      "needs_background": "light"
     },
     "output_type": "display_data"
    }
   ],
   "source": [
    "sns.distplot(dataframe['children'])"
   ]
  },
  {
   "cell_type": "code",
   "execution_count": 49,
   "id": "3f9dea78",
   "metadata": {},
   "outputs": [
    {
     "data": {
      "image/png": "[encoded data removed]",
      "text/plain": [
       "<Figure size 432x288 with 1 Axes>"
      ]
     },
     "metadata": {
      "needs_background": "light"
     },
     "output_type": "display_data"
    }
   ],
   "source": [
    "plt.hist(dataframe[\"children\"], bins=100)\n",
    "plt.show()"
   ]
  },
  {
   "cell_type": "markdown",
   "id": "a02a7755",
   "metadata": {},
   "source": [
    "## babies"
   ]
  },
  {
   "cell_type": "markdown",
   "id": "64945ab5",
   "metadata": {},
   "source": [
    "- A Média de bebés por reserva"
   ]
  },
  {
   "cell_type": "code",
   "execution_count": 50,
   "id": "7f043364",
   "metadata": {},
   "outputs": [
    {
     "name": "stdout",
     "output_type": "stream",
     "text": [
      "Mean is 0.007948739425412514 \n",
      "Median is 0.0\n",
      "Mode is 0\n",
      "Not a normal distribution\n"
     ]
    },
    {
     "data": {
      "text/html": [
       "<div>\n",
       "<style scoped>\n",
       "    .dataframe tbody tr th:only-of-type {\n",
       "        vertical-align: middle;\n",
       "    }\n",
       "\n",
       "    .dataframe tbody tr th {\n",
       "        vertical-align: top;\n",
       "    }\n",
       "\n",
       "    .dataframe thead th {\n",
       "        text-align: right;\n",
       "    }\n",
       "</style>\n",
       "<table border=\"1\" class=\"dataframe\">\n",
       "  <thead>\n",
       "    <tr style=\"text-align: right;\">\n",
       "      <th>Babies</th>\n",
       "      <th>Frequence</th>\n",
       "      <th>Porcentage (%)</th>\n",
       "    </tr>\n",
       "  </thead>\n",
       "  <tbody>\n",
       "    <tr>\n",
       "      <th>(-0.011, 0.556]</th>\n",
       "      <td>118473</td>\n",
       "      <td>0.992319</td>\n",
       "    </tr>\n",
       "    <tr>\n",
       "      <th>(0.556, 1.111]</th>\n",
       "      <td>900</td>\n",
       "      <td>0.007538</td>\n",
       "    </tr>\n",
       "    <tr>\n",
       "      <th>(1.111, 1.667]</th>\n",
       "      <td>0</td>\n",
       "      <td>0.000000</td>\n",
       "    </tr>\n",
       "    <tr>\n",
       "      <th>(1.667, 2.222]</th>\n",
       "      <td>15</td>\n",
       "      <td>0.000126</td>\n",
       "    </tr>\n",
       "    <tr>\n",
       "      <th>(2.222, 2.778]</th>\n",
       "      <td>0</td>\n",
       "      <td>0.000000</td>\n",
       "    </tr>\n",
       "    <tr>\n",
       "      <th>(2.778, 3.333]</th>\n",
       "      <td>0</td>\n",
       "      <td>0.000000</td>\n",
       "    </tr>\n",
       "    <tr>\n",
       "      <th>(3.333, 3.889]</th>\n",
       "      <td>0</td>\n",
       "      <td>0.000000</td>\n",
       "    </tr>\n",
       "    <tr>\n",
       "      <th>(3.889, 4.444]</th>\n",
       "      <td>0</td>\n",
       "      <td>0.000000</td>\n",
       "    </tr>\n",
       "    <tr>\n",
       "      <th>(4.444, 5.0]</th>\n",
       "      <td>0</td>\n",
       "      <td>0.000000</td>\n",
       "    </tr>\n",
       "    <tr>\n",
       "      <th>(5.0, 5.556]</th>\n",
       "      <td>0</td>\n",
       "      <td>0.000000</td>\n",
       "    </tr>\n",
       "    <tr>\n",
       "      <th>(5.556, 6.111]</th>\n",
       "      <td>0</td>\n",
       "      <td>0.000000</td>\n",
       "    </tr>\n",
       "    <tr>\n",
       "      <th>(6.111, 6.667]</th>\n",
       "      <td>0</td>\n",
       "      <td>0.000000</td>\n",
       "    </tr>\n",
       "    <tr>\n",
       "      <th>(6.667, 7.222]</th>\n",
       "      <td>0</td>\n",
       "      <td>0.000000</td>\n",
       "    </tr>\n",
       "    <tr>\n",
       "      <th>(7.222, 7.778]</th>\n",
       "      <td>0</td>\n",
       "      <td>0.000000</td>\n",
       "    </tr>\n",
       "    <tr>\n",
       "      <th>(7.778, 8.333]</th>\n",
       "      <td>0</td>\n",
       "      <td>0.000000</td>\n",
       "    </tr>\n",
       "    <tr>\n",
       "      <th>(8.333, 8.889]</th>\n",
       "      <td>0</td>\n",
       "      <td>0.000000</td>\n",
       "    </tr>\n",
       "    <tr>\n",
       "      <th>(8.889, 9.444]</th>\n",
       "      <td>1</td>\n",
       "      <td>0.000008</td>\n",
       "    </tr>\n",
       "    <tr>\n",
       "      <th>(9.444, 10.0]</th>\n",
       "      <td>1</td>\n",
       "      <td>0.000008</td>\n",
       "    </tr>\n",
       "  </tbody>\n",
       "</table>\n",
       "</div>"
      ],
      "text/plain": [
       "Babies           Frequence  Porcentage (%)\n",
       "(-0.011, 0.556]     118473        0.992319\n",
       "(0.556, 1.111]         900        0.007538\n",
       "(1.111, 1.667]           0        0.000000\n",
       "(1.667, 2.222]          15        0.000126\n",
       "(2.222, 2.778]           0        0.000000\n",
       "(2.778, 3.333]           0        0.000000\n",
       "(3.333, 3.889]           0        0.000000\n",
       "(3.889, 4.444]           0        0.000000\n",
       "(4.444, 5.0]             0        0.000000\n",
       "(5.0, 5.556]             0        0.000000\n",
       "(5.556, 6.111]           0        0.000000\n",
       "(6.111, 6.667]           0        0.000000\n",
       "(6.667, 7.222]           0        0.000000\n",
       "(7.222, 7.778]           0        0.000000\n",
       "(7.778, 8.333]           0        0.000000\n",
       "(8.333, 8.889]           0        0.000000\n",
       "(8.889, 9.444]           1        0.000008\n",
       "(9.444, 10.0]            1        0.000008"
      ]
     },
     "execution_count": 50,
     "metadata": {},
     "output_type": "execute_result"
    }
   ],
   "source": [
    "distribution_frequences_babies = pd.DataFrame(\n",
    "    {'Frequence': get_frequences_by_column(dataframe, 'babies', class_number), \n",
    "     'Porcentage (%)': get_percentage_by_column(dataframe, 'babies', class_number)}\n",
    ")\n",
    "distribution_frequences_babies.rename_axis('Babies', axis= 'columns', inplace = True)\n",
    "\n",
    "print_media_median_mode(dataframe, \"babies\")\n",
    "\n",
    "statistics_test_babies, p_value_babies = normaltest(dataframe[\"babies\"])\n",
    "print('Not a normal distribution' if p_value_babies <= significance else 'It\"s normal distribution')\n",
    "distribution_frequences_babies"
   ]
  },
  {
   "cell_type": "markdown",
   "id": "9816dbb4",
   "metadata": {},
   "source": [
    "### Graphs - babies"
   ]
  },
  {
   "cell_type": "code",
   "execution_count": 51,
   "id": "295e0195",
   "metadata": {},
   "outputs": [
    {
     "data": {
      "text/plain": [
       "<AxesSubplot:xlabel='babies', ylabel='Density'>"
      ]
     },
     "execution_count": 51,
     "metadata": {},
     "output_type": "execute_result"
    },
    {
     "data": {
      "image/png": "[encoded data removed]",
      "text/plain": [
       "<Figure size 432x288 with 1 Axes>"
      ]
     },
     "metadata": {
      "needs_background": "light"
     },
     "output_type": "display_data"
    }
   ],
   "source": [
    "sns.distplot(dataframe[\"babies\"])"
   ]
  },
  {
   "cell_type": "code",
   "execution_count": 52,
   "id": "15a1311e",
   "metadata": {},
   "outputs": [
    {
     "data": {
      "image/png": "[encoded data removed]",
      "text/plain": [
       "<Figure size 432x288 with 1 Axes>"
      ]
     },
     "metadata": {
      "needs_background": "light"
     },
     "output_type": "display_data"
    }
   ],
   "source": [
    "plt.hist(dataframe[\"babies\"], bins=100)\n",
    "plt.show()"
   ]
  },
  {
   "cell_type": "markdown",
   "id": "a4f00c02",
   "metadata": {},
   "source": [
    "## arrival_date_week_number"
   ]
  },
  {
   "cell_type": "markdown",
   "id": "ea18ac98",
   "metadata": {},
   "source": [
    "- Número de chegadas por semana"
   ]
  },
  {
   "cell_type": "code",
   "execution_count": 53,
   "id": "029fb75b",
   "metadata": {},
   "outputs": [
    {
     "name": "stdout",
     "output_type": "stream",
     "text": [
      "Mean is 27.16517296255968 \n",
      "Median is 28.0\n",
      "Mode is 33\n",
      "Not a normal distribution\n"
     ]
    },
    {
     "data": {
      "text/html": [
       "<div>\n",
       "<style scoped>\n",
       "    .dataframe tbody tr th:only-of-type {\n",
       "        vertical-align: middle;\n",
       "    }\n",
       "\n",
       "    .dataframe tbody tr th {\n",
       "        vertical-align: top;\n",
       "    }\n",
       "\n",
       "    .dataframe thead th {\n",
       "        text-align: right;\n",
       "    }\n",
       "</style>\n",
       "<table border=\"1\" class=\"dataframe\">\n",
       "  <thead>\n",
       "    <tr style=\"text-align: right;\">\n",
       "      <th>Arrival Date Week</th>\n",
       "      <th>Frequence</th>\n",
       "      <th>Porcentage (%)</th>\n",
       "    </tr>\n",
       "  </thead>\n",
       "  <tbody>\n",
       "    <tr>\n",
       "      <th>(0.947, 3.889]</th>\n",
       "      <td>3584</td>\n",
       "      <td>0.030019</td>\n",
       "    </tr>\n",
       "    <tr>\n",
       "      <th>(3.889, 6.778]</th>\n",
       "      <td>4382</td>\n",
       "      <td>0.036703</td>\n",
       "    </tr>\n",
       "    <tr>\n",
       "      <th>(6.778, 9.667]</th>\n",
       "      <td>6442</td>\n",
       "      <td>0.053958</td>\n",
       "    </tr>\n",
       "    <tr>\n",
       "      <th>(9.667, 12.556]</th>\n",
       "      <td>6302</td>\n",
       "      <td>0.052785</td>\n",
       "    </tr>\n",
       "    <tr>\n",
       "      <th>(12.556, 15.444]</th>\n",
       "      <td>7369</td>\n",
       "      <td>0.061722</td>\n",
       "    </tr>\n",
       "    <tr>\n",
       "      <th>(15.444, 18.333]</th>\n",
       "      <td>8136</td>\n",
       "      <td>0.068146</td>\n",
       "    </tr>\n",
       "    <tr>\n",
       "      <th>(18.333, 21.222]</th>\n",
       "      <td>8041</td>\n",
       "      <td>0.067351</td>\n",
       "    </tr>\n",
       "    <tr>\n",
       "      <th>(21.222, 24.111]</th>\n",
       "      <td>7665</td>\n",
       "      <td>0.064201</td>\n",
       "    </tr>\n",
       "    <tr>\n",
       "      <th>(24.111, 27.0]</th>\n",
       "      <td>7718</td>\n",
       "      <td>0.064645</td>\n",
       "    </tr>\n",
       "    <tr>\n",
       "      <th>(27.0, 29.889]</th>\n",
       "      <td>5616</td>\n",
       "      <td>0.047039</td>\n",
       "    </tr>\n",
       "    <tr>\n",
       "      <th>(29.889, 32.778]</th>\n",
       "      <td>8873</td>\n",
       "      <td>0.074319</td>\n",
       "    </tr>\n",
       "    <tr>\n",
       "      <th>(32.778, 35.667]</th>\n",
       "      <td>9213</td>\n",
       "      <td>0.077167</td>\n",
       "    </tr>\n",
       "    <tr>\n",
       "      <th>(35.667, 38.556]</th>\n",
       "      <td>7057</td>\n",
       "      <td>0.059109</td>\n",
       "    </tr>\n",
       "    <tr>\n",
       "      <th>(38.556, 41.444]</th>\n",
       "      <td>7677</td>\n",
       "      <td>0.064302</td>\n",
       "    </tr>\n",
       "    <tr>\n",
       "      <th>(41.444, 44.333]</th>\n",
       "      <td>7380</td>\n",
       "      <td>0.061814</td>\n",
       "    </tr>\n",
       "    <tr>\n",
       "      <th>(44.333, 47.222]</th>\n",
       "      <td>5200</td>\n",
       "      <td>0.043555</td>\n",
       "    </tr>\n",
       "    <tr>\n",
       "      <th>(47.222, 50.111]</th>\n",
       "      <td>4791</td>\n",
       "      <td>0.040129</td>\n",
       "    </tr>\n",
       "    <tr>\n",
       "      <th>(50.111, 53.0]</th>\n",
       "      <td>3944</td>\n",
       "      <td>0.033035</td>\n",
       "    </tr>\n",
       "  </tbody>\n",
       "</table>\n",
       "</div>"
      ],
      "text/plain": [
       "Arrival Date Week  Frequence  Porcentage (%)\n",
       "(0.947, 3.889]          3584        0.030019\n",
       "(3.889, 6.778]          4382        0.036703\n",
       "(6.778, 9.667]          6442        0.053958\n",
       "(9.667, 12.556]         6302        0.052785\n",
       "(12.556, 15.444]        7369        0.061722\n",
       "(15.444, 18.333]        8136        0.068146\n",
       "(18.333, 21.222]        8041        0.067351\n",
       "(21.222, 24.111]        7665        0.064201\n",
       "(24.111, 27.0]          7718        0.064645\n",
       "(27.0, 29.889]          5616        0.047039\n",
       "(29.889, 32.778]        8873        0.074319\n",
       "(32.778, 35.667]        9213        0.077167\n",
       "(35.667, 38.556]        7057        0.059109\n",
       "(38.556, 41.444]        7677        0.064302\n",
       "(41.444, 44.333]        7380        0.061814\n",
       "(44.333, 47.222]        5200        0.043555\n",
       "(47.222, 50.111]        4791        0.040129\n",
       "(50.111, 53.0]          3944        0.033035"
      ]
     },
     "execution_count": 53,
     "metadata": {},
     "output_type": "execute_result"
    }
   ],
   "source": [
    "distribution_frequences_arrival_date_week_number = pd.DataFrame(\n",
    "    {'Frequence': get_frequences_by_column(dataframe, 'arrival_date_week_number', class_number), \n",
    "     'Porcentage (%)': get_percentage_by_column(dataframe, 'arrival_date_week_number', class_number)}\n",
    ")\n",
    "distribution_frequences_arrival_date_week_number.rename_axis('Arrival Date Week', axis= 'columns', inplace = True)\n",
    "\n",
    "print_media_median_mode(dataframe, \"arrival_date_week_number\")\n",
    "\n",
    "statistics_test_arrival_date_week_number, p_value_arrival_date_week_number = normaltest(dataframe[\"arrival_date_week_number\"])\n",
    "print('Not a normal distribution' if p_value_arrival_date_week_number <= significance else 'It\"s normal distribution')\n",
    "distribution_frequences_arrival_date_week_number"
   ]
  },
  {
   "cell_type": "markdown",
   "id": "7e7ffc91",
   "metadata": {},
   "source": [
    "### Graphs - arrival_date_week_number"
   ]
  },
  {
   "cell_type": "code",
   "execution_count": 54,
   "id": "61b2ca9c",
   "metadata": {},
   "outputs": [
    {
     "data": {
      "text/plain": [
       "<AxesSubplot:xlabel='arrival_date_week_number', ylabel='Density'>"
      ]
     },
     "execution_count": 54,
     "metadata": {},
     "output_type": "execute_result"
    },
    {
     "data": {
      "image/png": "[encoded data removed]",
      "text/plain": [
       "<Figure size 432x288 with 1 Axes>"
      ]
     },
     "metadata": {
      "needs_background": "light"
     },
     "output_type": "display_data"
    }
   ],
   "source": [
    "sns.distplot(dataframe[\"arrival_date_week_number\"])"
   ]
  },
  {
   "cell_type": "code",
   "execution_count": 55,
   "id": "121f4ebc",
   "metadata": {},
   "outputs": [
    {
     "data": {
      "text/plain": [
       "<AxesSubplot:xlabel='arrival_date_week_number'>"
      ]
     },
     "execution_count": 55,
     "metadata": {},
     "output_type": "execute_result"
    },
    {
     "data": {
      "image/png": "[encoded data removed]",
      "text/plain": [
       "<Figure size 432x288 with 1 Axes>"
      ]
     },
     "metadata": {
      "needs_background": "light"
     },
     "output_type": "display_data"
    }
   ],
   "source": [
    "sns.boxplot( x = 'arrival_date_week_number', data = dataframe, orient = 'h')"
   ]
  },
  {
   "cell_type": "code",
   "execution_count": 56,
   "id": "9d84f32a",
   "metadata": {},
   "outputs": [
    {
     "data": {
      "image/png": "[encoded data removed]",
      "text/plain": [
       "<Figure size 432x288 with 1 Axes>"
      ]
     },
     "metadata": {
      "needs_background": "light"
     },
     "output_type": "display_data"
    }
   ],
   "source": [
    "plt.hist(dataframe[\"arrival_date_week_number\"], bins=50)\n",
    "plt.show()"
   ]
  },
  {
   "cell_type": "markdown",
   "id": "48f10ef9",
   "metadata": {},
   "source": [
    "## stays_in_week_nights"
   ]
  },
  {
   "cell_type": "markdown",
   "id": "69bd8543",
   "metadata": {},
   "source": [
    "- Número de noites na semana (seg - sex)"
   ]
  },
  {
   "cell_type": "code",
   "execution_count": 57,
   "id": "0f14dd45",
   "metadata": {},
   "outputs": [
    {
     "name": "stdout",
     "output_type": "stream",
     "text": [
      "Mean is 2.500301532791691 \n",
      "Median is 2.0\n",
      "Mode is 2\n",
      "Not a normal distribution\n"
     ]
    },
    {
     "data": {
      "text/html": [
       "<div>\n",
       "<style scoped>\n",
       "    .dataframe tbody tr th:only-of-type {\n",
       "        vertical-align: middle;\n",
       "    }\n",
       "\n",
       "    .dataframe tbody tr th {\n",
       "        vertical-align: top;\n",
       "    }\n",
       "\n",
       "    .dataframe thead th {\n",
       "        text-align: right;\n",
       "    }\n",
       "</style>\n",
       "<table border=\"1\" class=\"dataframe\">\n",
       "  <thead>\n",
       "    <tr style=\"text-align: right;\">\n",
       "      <th>Stays in Week Nights</th>\n",
       "      <th>Frequence</th>\n",
       "      <th>Porcentage (%)</th>\n",
       "    </tr>\n",
       "  </thead>\n",
       "  <tbody>\n",
       "    <tr>\n",
       "      <th>(-0.051000000000000004, 2.778]</th>\n",
       "      <td>71639</td>\n",
       "      <td>0.600042</td>\n",
       "    </tr>\n",
       "    <tr>\n",
       "      <th>(2.778, 5.556]</th>\n",
       "      <td>42898</td>\n",
       "      <td>0.359310</td>\n",
       "    </tr>\n",
       "    <tr>\n",
       "      <th>(5.556, 8.333]</th>\n",
       "      <td>3184</td>\n",
       "      <td>0.026669</td>\n",
       "    </tr>\n",
       "    <tr>\n",
       "      <th>(8.333, 11.111]</th>\n",
       "      <td>1323</td>\n",
       "      <td>0.011081</td>\n",
       "    </tr>\n",
       "    <tr>\n",
       "      <th>(11.111, 13.889]</th>\n",
       "      <td>69</td>\n",
       "      <td>0.000578</td>\n",
       "    </tr>\n",
       "    <tr>\n",
       "      <th>(13.889, 16.667]</th>\n",
       "      <td>136</td>\n",
       "      <td>0.001139</td>\n",
       "    </tr>\n",
       "    <tr>\n",
       "      <th>(16.667, 19.444]</th>\n",
       "      <td>54</td>\n",
       "      <td>0.000452</td>\n",
       "    </tr>\n",
       "    <tr>\n",
       "      <th>(19.444, 22.222]</th>\n",
       "      <td>63</td>\n",
       "      <td>0.000528</td>\n",
       "    </tr>\n",
       "    <tr>\n",
       "      <th>(22.222, 25.0]</th>\n",
       "      <td>9</td>\n",
       "      <td>0.000075</td>\n",
       "    </tr>\n",
       "    <tr>\n",
       "      <th>(25.0, 27.778]</th>\n",
       "      <td>1</td>\n",
       "      <td>0.000008</td>\n",
       "    </tr>\n",
       "    <tr>\n",
       "      <th>(27.778, 30.556]</th>\n",
       "      <td>5</td>\n",
       "      <td>0.000042</td>\n",
       "    </tr>\n",
       "    <tr>\n",
       "      <th>(30.556, 33.333]</th>\n",
       "      <td>2</td>\n",
       "      <td>0.000017</td>\n",
       "    </tr>\n",
       "    <tr>\n",
       "      <th>(33.333, 36.111]</th>\n",
       "      <td>2</td>\n",
       "      <td>0.000017</td>\n",
       "    </tr>\n",
       "    <tr>\n",
       "      <th>(36.111, 38.889]</th>\n",
       "      <td>0</td>\n",
       "      <td>0.000000</td>\n",
       "    </tr>\n",
       "    <tr>\n",
       "      <th>(38.889, 41.667]</th>\n",
       "      <td>3</td>\n",
       "      <td>0.000025</td>\n",
       "    </tr>\n",
       "    <tr>\n",
       "      <th>(41.667, 44.444]</th>\n",
       "      <td>1</td>\n",
       "      <td>0.000008</td>\n",
       "    </tr>\n",
       "    <tr>\n",
       "      <th>(44.444, 47.222]</th>\n",
       "      <td>0</td>\n",
       "      <td>0.000000</td>\n",
       "    </tr>\n",
       "    <tr>\n",
       "      <th>(47.222, 50.0]</th>\n",
       "      <td>1</td>\n",
       "      <td>0.000008</td>\n",
       "    </tr>\n",
       "  </tbody>\n",
       "</table>\n",
       "</div>"
      ],
      "text/plain": [
       "Stays in Week Nights            Frequence  Porcentage (%)\n",
       "(-0.051000000000000004, 2.778]      71639        0.600042\n",
       "(2.778, 5.556]                      42898        0.359310\n",
       "(5.556, 8.333]                       3184        0.026669\n",
       "(8.333, 11.111]                      1323        0.011081\n",
       "(11.111, 13.889]                       69        0.000578\n",
       "(13.889, 16.667]                      136        0.001139\n",
       "(16.667, 19.444]                       54        0.000452\n",
       "(19.444, 22.222]                       63        0.000528\n",
       "(22.222, 25.0]                          9        0.000075\n",
       "(25.0, 27.778]                          1        0.000008\n",
       "(27.778, 30.556]                        5        0.000042\n",
       "(30.556, 33.333]                        2        0.000017\n",
       "(33.333, 36.111]                        2        0.000017\n",
       "(36.111, 38.889]                        0        0.000000\n",
       "(38.889, 41.667]                        3        0.000025\n",
       "(41.667, 44.444]                        1        0.000008\n",
       "(44.444, 47.222]                        0        0.000000\n",
       "(47.222, 50.0]                          1        0.000008"
      ]
     },
     "execution_count": 57,
     "metadata": {},
     "output_type": "execute_result"
    }
   ],
   "source": [
    "distribution_frequences_stays_in_week_nights = pd.DataFrame(\n",
    "    {'Frequence': get_frequences_by_column(dataframe, 'stays_in_week_nights', class_number), \n",
    "     'Porcentage (%)': get_percentage_by_column(dataframe, 'stays_in_week_nights', class_number)}\n",
    ")\n",
    "distribution_frequences_stays_in_week_nights.rename_axis('Stays in Week Nights', axis= 'columns', inplace = True)\n",
    "\n",
    "print_media_median_mode(dataframe, \"stays_in_week_nights\")\n",
    "\n",
    "statistics_test_arrival_stays_in_week_nights, p_value_stays_in_week_nights = normaltest(dataframe[\"stays_in_week_nights\"])\n",
    "print('Not a normal distribution' if p_value_stays_in_week_nights <= significance else 'It\"s normal distribution')\n",
    "distribution_frequences_stays_in_week_nights"
   ]
  },
  {
   "cell_type": "markdown",
   "id": "e026de03",
   "metadata": {},
   "source": [
    "### Graphs - stays_in_week_nights"
   ]
  },
  {
   "cell_type": "code",
   "execution_count": 58,
   "id": "79c07763",
   "metadata": {},
   "outputs": [
    {
     "data": {
      "text/plain": [
       "<AxesSubplot:xlabel='stays_in_week_nights', ylabel='Density'>"
      ]
     },
     "execution_count": 58,
     "metadata": {},
     "output_type": "execute_result"
    },
    {
     "data": {
      "image/png": "[encoded data removed]",
      "text/plain": [
       "<Figure size 432x288 with 1 Axes>"
      ]
     },
     "metadata": {
      "needs_background": "light"
     },
     "output_type": "display_data"
    }
   ],
   "source": [
    "sns.distplot(dataframe[\"stays_in_week_nights\"])"
   ]
  },
  {
   "cell_type": "code",
   "execution_count": 59,
   "id": "07d34fd1",
   "metadata": {},
   "outputs": [
    {
     "data": {
      "image/png": "[encoded data removed]",
      "text/plain": [
       "<Figure size 432x288 with 1 Axes>"
      ]
     },
     "metadata": {
      "needs_background": "light"
     },
     "output_type": "display_data"
    }
   ],
   "source": [
    "plt.hist(dataframe[\"stays_in_week_nights\"], bins=50)\n",
    "plt.show()"
   ]
  },
  {
   "cell_type": "markdown",
   "id": "ef2537c6",
   "metadata": {},
   "source": [
    "## reservation_status_date"
   ]
  },
  {
   "cell_type": "markdown",
   "id": "fc803bea",
   "metadata": {},
   "source": [
    "### Graphs - reservation_status_date"
   ]
  },
  {
   "cell_type": "code",
   "execution_count": 60,
   "id": "1dfe24c9",
   "metadata": {
    "scrolled": true
   },
   "outputs": [
    {
     "data": {
      "image/png": "[encoded data removed]",
      "text/plain": [
       "<Figure size 432x288 with 1 Axes>"
      ]
     },
     "metadata": {
      "needs_background": "light"
     },
     "output_type": "display_data"
    }
   ],
   "source": [
    "plt.hist(dataframe[\"reservation_status_date\"], bins=50)\n",
    "plt.show()"
   ]
  },
  {
   "cell_type": "markdown",
   "id": "aaf25aaa",
   "metadata": {},
   "source": [
    "## Jaccard Analysis"
   ]
  },
  {
   "cell_type": "markdown",
   "id": "bdd335e3",
   "metadata": {},
   "source": [
    "- Cálculos do jaccard e densidade da amostra.\n",
    "- Diminuimos a amostra porque a dimensão sobrecarrega o sistema.\n",
    "- Executamos com amostra de 5000*15"
   ]
  },
  {
   "cell_type": "markdown",
   "id": "52bd0f3f",
   "metadata": {},
   "source": [
    "### Determinar se a variável hotel influencia no cancelamento ou não.\n"
   ]
  },
  {
   "cell_type": "code",
   "execution_count": 61,
   "id": "b0b6e622",
   "metadata": {},
   "outputs": [],
   "source": [
    "#Utilizando a função da seguinte forma."
   ]
  },
  {
   "cell_type": "markdown",
   "id": "3c10b999",
   "metadata": {},
   "source": [
    "- Transformação das tipologias em classificão:  city hotel(0),  resort (1)"
   ]
  },
  {
   "cell_type": "code",
   "execution_count": 62,
   "id": "a9714ccf",
   "metadata": {},
   "outputs": [],
   "source": [
    "dataframe['hotel_binary'] = np.where(dataframe['hotel'] == 'City Hotel', 0, 1)\n",
    "sample_two_variables = dataframe[[\"is_canceled\", \"hotel_binary\"]].sample(n = 5000).values\n",
    "jaccard_similarity = jaccard_generalized(sample_two_variables)\n",
    "for _ in range(14):\n",
    "    sample_two_variables = dataframe[[\"is_canceled\", \"hotel_binary\"]].sample(n = 5000).values\n",
    "    jaccard_similarity = jaccard_similarity + jaccard_generalized(sample_two_variables)\n",
    "jaccard_similarity = jaccard_similarity / 15"
   ]
  },
  {
   "cell_type": "markdown",
   "id": "c7880c3e",
   "metadata": {},
   "source": [
    "-  A medida de jaccard é utilizada para medir a similaridade da diversidade de conjuntos."
   ]
  },
  {
   "cell_type": "code",
   "execution_count": 63,
   "id": "1fbc95ec",
   "metadata": {},
   "outputs": [
    {
     "data": {
      "text/plain": [
       "array([[0.73333333, 0.3       , 0.1       , ..., 0.2       , 0.3       ,\n",
       "        0.16666667],\n",
       "       [0.3       , 0.8       , 0.13333333, ..., 0.33333333, 0.33333333,\n",
       "        0.3       ],\n",
       "       [0.1       , 0.13333333, 0.26666667, ..., 0.16666667, 0.1       ,\n",
       "        0.06666667],\n",
       "       ...,\n",
       "       [0.2       , 0.33333333, 0.16666667, ..., 0.6       , 0.23333333,\n",
       "        0.23333333],\n",
       "       [0.3       , 0.33333333, 0.1       , ..., 0.23333333, 0.73333333,\n",
       "        0.4       ],\n",
       "       [0.16666667, 0.3       , 0.06666667, ..., 0.23333333, 0.4       ,\n",
       "        0.6       ]])"
      ]
     },
     "execution_count": 63,
     "metadata": {},
     "output_type": "execute_result"
    }
   ],
   "source": [
    "jaccard_similarity"
   ]
  },
  {
   "cell_type": "markdown",
   "id": "5b221b1b",
   "metadata": {},
   "source": [
    "- A densidade da similaridade, que são  quantos valores de estão acima de 0, o que significa o quão forte são as arestas ou ligações temos entre nós (cancelamentos)."
   ]
  },
  {
   "cell_type": "code",
   "execution_count": 64,
   "id": "176c5b43",
   "metadata": {},
   "outputs": [
    {
     "data": {
      "text/plain": [
       "24623402"
      ]
     },
     "execution_count": 64,
     "metadata": {},
     "output_type": "execute_result"
    }
   ],
   "source": [
    "density_jaccard_similarity = np.sum(jaccard_similarity > 0)\n",
    "density_jaccard_similarity"
   ]
  },
  {
   "cell_type": "markdown",
   "id": "33423f79",
   "metadata": {},
   "source": [
    "- Número total de entradas possiveis (Degree)"
   ]
  },
  {
   "cell_type": "code",
   "execution_count": 65,
   "id": "941a8f99",
   "metadata": {},
   "outputs": [
    {
     "data": {
      "text/plain": [
       "25000000"
      ]
     },
     "execution_count": 65,
     "metadata": {},
     "output_type": "execute_result"
    }
   ],
   "source": [
    "size_sample_two_variables = sample_two_variables.shape[0]*sample_two_variables.shape[0]\n",
    "size_sample_two_variables"
   ]
  },
  {
   "cell_type": "markdown",
   "id": "fc06d57a",
   "metadata": {},
   "source": [
    "- Foi utilizado o Generalized Jaccard Index.(uma divisão)"
   ]
  },
  {
   "cell_type": "markdown",
   "id": "aac80171",
   "metadata": {},
   "source": [
    "- A divisão da densidade da similaridade e quais variáveis em causa (Hotéis e cancelamentos)"
   ]
  },
  {
   "cell_type": "code",
   "execution_count": 66,
   "id": "be693053",
   "metadata": {},
   "outputs": [
    {
     "data": {
      "text/plain": [
       "0.98493608"
      ]
     },
     "execution_count": 66,
     "metadata": {},
     "output_type": "execute_result"
    }
   ],
   "source": [
    "density_jaccard_similarity/size_sample_two_variables"
   ]
  },
  {
   "cell_type": "markdown",
   "id": "b5f059ae",
   "metadata": {},
   "source": [
    "- Para projetar os nossos dados que representam os cancelamentos das reservas dos hotéis em um gráfico e assim verificar a medida de similaridade através Jaccard generalizado. \n",
    "\n",
    " - medida esta que mede a co-probabilidade de cancelamentos para hotéis."
   ]
  },
  {
   "cell_type": "code",
   "execution_count": 67,
   "id": "432d0493",
   "metadata": {},
   "outputs": [
    {
     "data": {
      "text/plain": [
       "<matplotlib.image.AxesImage at 0x7f8de049eaf0>"
      ]
     },
     "execution_count": 67,
     "metadata": {},
     "output_type": "execute_result"
    },
    {
     "data": {
      "image/png": "[encoded data removed]",
      "text/plain": [
       "<Figure size 432x288 with 1 Axes>"
      ]
     },
     "metadata": {
      "needs_background": "light"
     },
     "output_type": "display_data"
    }
   ],
   "source": [
    "plt.imshow(jaccard_similarity)"
   ]
  },
  {
   "cell_type": "code",
   "execution_count": 68,
   "id": "81e3ec08",
   "metadata": {},
   "outputs": [],
   "source": [
    "co_probability = jaccard_similarity[jaccard_similarity > 0.0]"
   ]
  },
  {
   "cell_type": "code",
   "execution_count": 69,
   "id": "1bb629ad",
   "metadata": {},
   "outputs": [],
   "source": [
    "#probabilidade dos cancelamentos por tipologia de hotel"
   ]
  },
  {
   "cell_type": "code",
   "execution_count": 70,
   "id": "5581833c",
   "metadata": {},
   "outputs": [
    {
     "data": {
      "text/plain": [
       "array([0.73333333, 0.3       , 0.1       , ..., 0.23333333, 0.4       ,\n",
       "       0.6       ])"
      ]
     },
     "execution_count": 70,
     "metadata": {},
     "output_type": "execute_result"
    }
   ],
   "source": [
    "co_probability"
   ]
  },
  {
   "cell_type": "markdown",
   "id": "495b91d9",
   "metadata": {},
   "source": [
    "- A comparação de todas as co-probabilidades entre os cancelamentos dos hoteis. "
   ]
  },
  {
   "cell_type": "code",
   "execution_count": 71,
   "id": "320f32d3",
   "metadata": {},
   "outputs": [
    {
     "data": {
      "text/plain": [
       "(array([0.000000e+00, 0.000000e+00, 0.000000e+00, 7.341280e+05,\n",
       "        0.000000e+00, 0.000000e+00, 1.741974e+06, 0.000000e+00,\n",
       "        0.000000e+00, 0.000000e+00, 2.348110e+06, 0.000000e+00,\n",
       "        0.000000e+00, 3.260021e+06, 0.000000e+00, 0.000000e+00,\n",
       "        3.385100e+06, 0.000000e+00, 0.000000e+00, 0.000000e+00,\n",
       "        3.472274e+06, 0.000000e+00, 0.000000e+00, 2.930272e+06,\n",
       "        0.000000e+00, 0.000000e+00, 2.403192e+06, 0.000000e+00,\n",
       "        0.000000e+00, 0.000000e+00, 1.697832e+06, 0.000000e+00,\n",
       "        0.000000e+00, 1.155721e+06, 0.000000e+00, 0.000000e+00,\n",
       "        6.954100e+05, 0.000000e+00, 0.000000e+00, 0.000000e+00,\n",
       "        4.042440e+05, 0.000000e+00, 0.000000e+00, 2.085820e+05,\n",
       "        0.000000e+00, 0.000000e+00, 1.043920e+05, 0.000000e+00,\n",
       "        0.000000e+00, 0.000000e+00, 4.614400e+04, 0.000000e+00,\n",
       "        0.000000e+00, 2.065100e+04, 0.000000e+00, 0.000000e+00,\n",
       "        7.968000e+03, 0.000000e+00, 0.000000e+00, 0.000000e+00,\n",
       "        3.729000e+03, 0.000000e+00, 0.000000e+00, 9.660000e+02,\n",
       "        0.000000e+00, 0.000000e+00, 1.294000e+03, 0.000000e+00,\n",
       "        0.000000e+00, 8.600000e+01, 0.000000e+00, 0.000000e+00,\n",
       "        0.000000e+00, 7.420000e+02, 0.000000e+00, 0.000000e+00,\n",
       "        6.000000e+00, 0.000000e+00, 0.000000e+00, 0.000000e+00,\n",
       "        3.760000e+02, 0.000000e+00, 0.000000e+00, 2.000000e+00,\n",
       "        0.000000e+00, 0.000000e+00, 1.500000e+02, 0.000000e+00,\n",
       "        0.000000e+00, 0.000000e+00, 0.000000e+00, 0.000000e+00,\n",
       "        0.000000e+00, 3.200000e+01, 0.000000e+00, 0.000000e+00,\n",
       "        0.000000e+00, 0.000000e+00, 0.000000e+00]),\n",
       " array([0.  , 0.01, 0.02, 0.03, 0.04, 0.05, 0.06, 0.07, 0.08, 0.09, 0.1 ,\n",
       "        0.11, 0.12, 0.13, 0.14, 0.15, 0.16, 0.17, 0.18, 0.19, 0.2 , 0.21,\n",
       "        0.22, 0.23, 0.24, 0.25, 0.26, 0.27, 0.28, 0.29, 0.3 , 0.31, 0.32,\n",
       "        0.33, 0.34, 0.35, 0.36, 0.37, 0.38, 0.39, 0.4 , 0.41, 0.42, 0.43,\n",
       "        0.44, 0.45, 0.46, 0.47, 0.48, 0.49, 0.5 , 0.51, 0.52, 0.53, 0.54,\n",
       "        0.55, 0.56, 0.57, 0.58, 0.59, 0.6 , 0.61, 0.62, 0.63, 0.64, 0.65,\n",
       "        0.66, 0.67, 0.68, 0.69, 0.7 , 0.71, 0.72, 0.73, 0.74, 0.75, 0.76,\n",
       "        0.77, 0.78, 0.79, 0.8 , 0.81, 0.82, 0.83, 0.84, 0.85, 0.86, 0.87,\n",
       "        0.88, 0.89, 0.9 , 0.91, 0.92, 0.93, 0.94, 0.95, 0.96, 0.97, 0.98,\n",
       "        0.99]),\n",
       " <BarContainer object of 99 artists>)"
      ]
     },
     "execution_count": 71,
     "metadata": {},
     "output_type": "execute_result"
    },
    {
     "data": {
      "image/png": "[encoded data removed]",
      "text/plain": [
       "<Figure size 432x288 with 1 Axes>"
      ]
     },
     "metadata": {
      "needs_background": "light"
     },
     "output_type": "display_data"
    }
   ],
   "source": [
    "plt.hist(co_probability, bins=np.arange(0,1,0.01))"
   ]
  },
  {
   "cell_type": "markdown",
   "id": "9ba8dbfe",
   "metadata": {},
   "source": [
    "- A densidade da co-probabilidade maior que 0.7. Ou seja, quantos valores de co-probabilidade estão acima de 0.7, o que significa a força dos relacionamentos entre as arestas ou ligações temos entre nós (cancelamentos).\n"
   ]
  },
  {
   "cell_type": "code",
   "execution_count": 72,
   "id": "993029cd",
   "metadata": {},
   "outputs": [
    {
     "data": {
      "text/plain": [
       "(array([  0.,   0.,   0.,   0.,   0.,   0.,   0.,   0.,   0.,   0.,   0.,\n",
       "          0.,   0.,   0.,   0.,   0.,   0.,   0.,   0.,   0.,   0.,   0.,\n",
       "          0.,   0.,   0.,   0.,   0.,   0.,   0.,   0.,   0.,   0.,   0.,\n",
       "          0.,   0.,   0.,   0.,   0.,   0.,   0.,   0.,   0.,   0.,   0.,\n",
       "          0.,   0.,   0.,   0.,   0.,   0.,   0.,   0.,   0.,   0.,   0.,\n",
       "          0.,   0.,   0.,   0.,   0.,   0.,   0.,   0.,   0.,   0.,   0.,\n",
       "          0.,   0.,   0.,   0.,   0.,   0.,   0., 742.,   0.,   0.,   6.,\n",
       "          0.,   0.,   0., 376.,   0.,   0.,   2.,   0.,   0., 150.,   0.,\n",
       "          0.,   0.,   0.,   0.,   0.,  32.,   0.,   0.,   0.,   0.,   0.]),\n",
       " array([0.  , 0.01, 0.02, 0.03, 0.04, 0.05, 0.06, 0.07, 0.08, 0.09, 0.1 ,\n",
       "        0.11, 0.12, 0.13, 0.14, 0.15, 0.16, 0.17, 0.18, 0.19, 0.2 , 0.21,\n",
       "        0.22, 0.23, 0.24, 0.25, 0.26, 0.27, 0.28, 0.29, 0.3 , 0.31, 0.32,\n",
       "        0.33, 0.34, 0.35, 0.36, 0.37, 0.38, 0.39, 0.4 , 0.41, 0.42, 0.43,\n",
       "        0.44, 0.45, 0.46, 0.47, 0.48, 0.49, 0.5 , 0.51, 0.52, 0.53, 0.54,\n",
       "        0.55, 0.56, 0.57, 0.58, 0.59, 0.6 , 0.61, 0.62, 0.63, 0.64, 0.65,\n",
       "        0.66, 0.67, 0.68, 0.69, 0.7 , 0.71, 0.72, 0.73, 0.74, 0.75, 0.76,\n",
       "        0.77, 0.78, 0.79, 0.8 , 0.81, 0.82, 0.83, 0.84, 0.85, 0.86, 0.87,\n",
       "        0.88, 0.89, 0.9 , 0.91, 0.92, 0.93, 0.94, 0.95, 0.96, 0.97, 0.98,\n",
       "        0.99]),\n",
       " <BarContainer object of 99 artists>)"
      ]
     },
     "execution_count": 72,
     "metadata": {},
     "output_type": "execute_result"
    },
    {
     "data": {
      "image/png": "[encoded data removed]",
      "text/plain": [
       "<Figure size 432x288 with 1 Axes>"
      ]
     },
     "metadata": {
      "needs_background": "light"
     },
     "output_type": "display_data"
    }
   ],
   "source": [
    "plt.hist(co_probability[co_probability > 0.7],bins=np.arange(0,1,0.01))"
   ]
  },
  {
   "cell_type": "markdown",
   "id": "55b9066a",
   "metadata": {},
   "source": [
    "- A densidade da cooprobabilidade menor que 0.7. Ou seja, quantos valores de cooprobabilidade estão abaixo de 0.7, o que significa na teoria dos grafos quantas arestas ou ligações temos entre nós (cancelamentos)."
   ]
  },
  {
   "cell_type": "code",
   "execution_count": 73,
   "id": "0a205081",
   "metadata": {},
   "outputs": [
    {
     "data": {
      "text/plain": [
       "<matplotlib.image.AxesImage at 0x7f8e0460f370>"
      ]
     },
     "execution_count": 73,
     "metadata": {},
     "output_type": "execute_result"
    },
    {
     "data": {
      "image/png": "[encoded data removed]",
      "text/plain": [
       "<Figure size 432x288 with 1 Axes>"
      ]
     },
     "metadata": {
      "needs_background": "light"
     },
     "output_type": "display_data"
    }
   ],
   "source": [
    "jaccard_similarity_version_2 = jaccard_similarity.copy()\n",
    "jaccard_similarity_version_2[jaccard_similarity < 0.7] = 0.0\n",
    "plt.imshow(jaccard_similarity_version_2)"
   ]
  },
  {
   "cell_type": "code",
   "execution_count": 74,
   "id": "6d151b57",
   "metadata": {},
   "outputs": [
    {
     "data": {
      "text/plain": [
       "5.592e-05"
      ]
     },
     "execution_count": 74,
     "metadata": {},
     "output_type": "execute_result"
    }
   ],
   "source": [
    "np.sum(jaccard_similarity_version_2 > 0)/(sample_two_variables.shape[0]*sample_two_variables.shape[0])"
   ]
  },
  {
   "cell_type": "markdown",
   "id": "f0aa2836",
   "metadata": {},
   "source": [
    "## Metric Backbone"
   ]
  },
  {
   "cell_type": "markdown",
   "id": "60c0ccb9",
   "metadata": {},
   "source": [
    "- Permite-nos reduzir a redundância da amostra."
   ]
  },
  {
   "cell_type": "code",
   "execution_count": 75,
   "id": "c404aad3",
   "metadata": {},
   "outputs": [],
   "source": [
    "jaccard_similarity_to_metric_backbone = jaccard_similarity.copy()"
   ]
  },
  {
   "cell_type": "code",
   "execution_count": 76,
   "id": "4a2a7241",
   "metadata": {},
   "outputs": [],
   "source": [
    "distance_prox_2 = prox2dist(jaccard_similarity_to_metric_backbone, 1)"
   ]
  },
  {
   "cell_type": "code",
   "execution_count": 77,
   "id": "76c122df",
   "metadata": {},
   "outputs": [],
   "source": [
    "distance_all_pairs = all_pairs_sp(distance_prox_2)"
   ]
  },
  {
   "cell_type": "code",
   "execution_count": 78,
   "id": "50a666f8",
   "metadata": {},
   "outputs": [],
   "source": [
    "s_value = s_ratio(distance_prox_2, distance_all_pairs)"
   ]
  },
  {
   "cell_type": "code",
   "execution_count": 79,
   "id": "b3af982d",
   "metadata": {},
   "outputs": [
    {
     "name": "stdout",
     "output_type": "stream",
     "text": [
      "0.8924259178154618\n"
     ]
    }
   ],
   "source": [
    "semimetric_percentage_value = Semimetric_Percentage(s_value)\n",
    "print(semimetric_percentage_value)"
   ]
  },
  {
   "cell_type": "code",
   "execution_count": 80,
   "id": "753ce6dd",
   "metadata": {},
   "outputs": [],
   "source": [
    "metric_backbone_value = Metric_backbone(jaccard_similarity_to_metric_backbone)"
   ]
  },
  {
   "cell_type": "code",
   "execution_count": 81,
   "id": "b28b2752",
   "metadata": {},
   "outputs": [
    {
     "data": {
      "text/plain": [
       "<matplotlib.image.AxesImage at 0x7f8df1817760>"
      ]
     },
     "execution_count": 81,
     "metadata": {},
     "output_type": "execute_result"
    },
    {
     "data": {
      "image/png": "[encoded data removed]",
      "text/plain": [
       "<Figure size 432x288 with 1 Axes>"
      ]
     },
     "metadata": {
      "needs_background": "light"
     },
     "output_type": "display_data"
    }
   ],
   "source": [
    "plt.imshow(metric_backbone_value)"
   ]
  },
  {
   "cell_type": "code",
   "execution_count": 82,
   "id": "a1501f2f",
   "metadata": {},
   "outputs": [],
   "source": [
    "d_metric_backbone_value = metric_backbone_value[metric_backbone_value > 0]"
   ]
  },
  {
   "cell_type": "code",
   "execution_count": 83,
   "id": "c8052130",
   "metadata": {},
   "outputs": [
    {
     "data": {
      "text/plain": [
       "(array([0.00000e+00, 0.00000e+00, 0.00000e+00, 0.00000e+00, 0.00000e+00,\n",
       "        0.00000e+00, 0.00000e+00, 0.00000e+00, 0.00000e+00, 0.00000e+00,\n",
       "        0.00000e+00, 0.00000e+00, 0.00000e+00, 6.50000e+02, 0.00000e+00,\n",
       "        0.00000e+00, 1.69800e+03, 0.00000e+00, 0.00000e+00, 0.00000e+00,\n",
       "        1.39000e+04, 0.00000e+00, 0.00000e+00, 5.05480e+04, 0.00000e+00,\n",
       "        0.00000e+00, 2.10478e+05, 0.00000e+00, 0.00000e+00, 0.00000e+00,\n",
       "        4.03738e+05, 0.00000e+00, 0.00000e+00, 6.77012e+05, 0.00000e+00,\n",
       "        0.00000e+00, 5.36532e+05, 0.00000e+00, 0.00000e+00, 0.00000e+00,\n",
       "        3.72014e+05, 0.00000e+00, 0.00000e+00, 2.01154e+05, 0.00000e+00,\n",
       "        0.00000e+00, 1.02820e+05, 0.00000e+00, 0.00000e+00, 0.00000e+00,\n",
       "        4.59140e+04, 0.00000e+00, 0.00000e+00, 1.98380e+04, 0.00000e+00,\n",
       "        0.00000e+00, 7.96400e+03, 0.00000e+00, 0.00000e+00, 0.00000e+00,\n",
       "        2.69400e+03, 0.00000e+00, 0.00000e+00, 9.66000e+02, 0.00000e+00,\n",
       "        0.00000e+00, 2.58000e+02, 0.00000e+00, 0.00000e+00, 8.60000e+01,\n",
       "        0.00000e+00, 0.00000e+00, 0.00000e+00, 3.00000e+01, 0.00000e+00,\n",
       "        0.00000e+00, 6.00000e+00, 0.00000e+00, 0.00000e+00, 0.00000e+00,\n",
       "        0.00000e+00, 0.00000e+00, 0.00000e+00, 2.00000e+00, 0.00000e+00,\n",
       "        0.00000e+00, 0.00000e+00, 0.00000e+00, 0.00000e+00, 0.00000e+00,\n",
       "        0.00000e+00, 0.00000e+00, 0.00000e+00, 0.00000e+00, 0.00000e+00,\n",
       "        0.00000e+00, 0.00000e+00, 0.00000e+00, 0.00000e+00]),\n",
       " array([0.  , 0.01, 0.02, 0.03, 0.04, 0.05, 0.06, 0.07, 0.08, 0.09, 0.1 ,\n",
       "        0.11, 0.12, 0.13, 0.14, 0.15, 0.16, 0.17, 0.18, 0.19, 0.2 , 0.21,\n",
       "        0.22, 0.23, 0.24, 0.25, 0.26, 0.27, 0.28, 0.29, 0.3 , 0.31, 0.32,\n",
       "        0.33, 0.34, 0.35, 0.36, 0.37, 0.38, 0.39, 0.4 , 0.41, 0.42, 0.43,\n",
       "        0.44, 0.45, 0.46, 0.47, 0.48, 0.49, 0.5 , 0.51, 0.52, 0.53, 0.54,\n",
       "        0.55, 0.56, 0.57, 0.58, 0.59, 0.6 , 0.61, 0.62, 0.63, 0.64, 0.65,\n",
       "        0.66, 0.67, 0.68, 0.69, 0.7 , 0.71, 0.72, 0.73, 0.74, 0.75, 0.76,\n",
       "        0.77, 0.78, 0.79, 0.8 , 0.81, 0.82, 0.83, 0.84, 0.85, 0.86, 0.87,\n",
       "        0.88, 0.89, 0.9 , 0.91, 0.92, 0.93, 0.94, 0.95, 0.96, 0.97, 0.98,\n",
       "        0.99]),\n",
       " <BarContainer object of 99 artists>)"
      ]
     },
     "execution_count": 83,
     "metadata": {},
     "output_type": "execute_result"
    },
    {
     "data": {
      "image/png": "[encoded data removed]",
      "text/plain": [
       "<Figure size 432x288 with 1 Axes>"
      ]
     },
     "metadata": {
      "needs_background": "light"
     },
     "output_type": "display_data"
    }
   ],
   "source": [
    "plt.hist(d_metric_backbone_value, bins = np.arange(0, 1, 0.01))"
   ]
  },
  {
   "cell_type": "code",
   "execution_count": 84,
   "id": "a3804a67",
   "metadata": {},
   "outputs": [],
   "source": [
    "graph_jaccard_similarity = nx.from_numpy_array(metric_backbone_value)\n",
    "nx.write_pajek(graph_jaccard_similarity, 'sample_01.net')"
   ]
  },
  {
   "cell_type": "markdown",
   "id": "83fb6513",
   "metadata": {},
   "source": [
    "### Determinar se a variável is_repeated_guest influencia no cancelamento ou não."
   ]
  },
  {
   "cell_type": "code",
   "execution_count": 85,
   "id": "b850755a",
   "metadata": {},
   "outputs": [],
   "source": [
    "sample_variables_is_repeated_guest = dataframe[[\"is_canceled\", \"is_repeated_guest\"]].sample(n = 5000).values\n",
    "jaccard_similarity_is_repeated_guest = jaccard_generalized(sample_variables_is_repeated_guest)\n",
    "for _ in range(14):\n",
    "    sample_variables_is_repeated_guest = dataframe[[\"is_canceled\", \"is_repeated_guest\"]].sample(n = 5000).values\n",
    "    jaccard_similarity_is_repeated_guest = jaccard_similarity_is_repeated_guest + jaccard_generalized(sample_variables_is_repeated_guest)\n",
    "jaccard_similarity_is_repeated_guest = jaccard_similarity_is_repeated_guest / 15"
   ]
  },
  {
   "cell_type": "code",
   "execution_count": 86,
   "id": "85b6202f",
   "metadata": {},
   "outputs": [
    {
     "data": {
      "text/plain": [
       "array([[0.53333333, 0.26666667, 0.13333333, ..., 0.2       , 0.2       ,\n",
       "        0.33333333],\n",
       "       [0.26666667, 0.53333333, 0.13333333, ..., 0.06666667, 0.2       ,\n",
       "        0.26666667],\n",
       "       [0.13333333, 0.13333333, 0.26666667, ..., 0.13333333, 0.06666667,\n",
       "        0.13333333],\n",
       "       ...,\n",
       "       [0.2       , 0.06666667, 0.13333333, ..., 0.46666667, 0.06666667,\n",
       "        0.26666667],\n",
       "       [0.2       , 0.2       , 0.06666667, ..., 0.06666667, 0.26666667,\n",
       "        0.2       ],\n",
       "       [0.33333333, 0.26666667, 0.13333333, ..., 0.26666667, 0.2       ,\n",
       "        0.66666667]])"
      ]
     },
     "execution_count": 86,
     "metadata": {},
     "output_type": "execute_result"
    }
   ],
   "source": [
    "jaccard_similarity_is_repeated_guest"
   ]
  },
  {
   "cell_type": "code",
   "execution_count": 87,
   "id": "fad8d901",
   "metadata": {},
   "outputs": [
    {
     "data": {
      "text/plain": [
       "22333170"
      ]
     },
     "execution_count": 87,
     "metadata": {},
     "output_type": "execute_result"
    }
   ],
   "source": [
    "density_jaccard_similarity_is_repeated_guest = np.sum(jaccard_similarity_is_repeated_guest > 0)\n",
    "density_jaccard_similarity_is_repeated_guest"
   ]
  },
  {
   "cell_type": "code",
   "execution_count": 88,
   "id": "b24d8f0d",
   "metadata": {},
   "outputs": [
    {
     "data": {
      "text/plain": [
       "25000000"
      ]
     },
     "execution_count": 88,
     "metadata": {},
     "output_type": "execute_result"
    }
   ],
   "source": [
    "size_sample_two_variables_is_repeated_guest = sample_variables_is_repeated_guest.shape[0]*sample_variables_is_repeated_guest.shape[0]\n",
    "size_sample_two_variables_is_repeated_guest"
   ]
  },
  {
   "cell_type": "code",
   "execution_count": 91,
   "id": "97bad95d",
   "metadata": {},
   "outputs": [
    {
     "data": {
      "text/plain": [
       "0.8933268"
      ]
     },
     "execution_count": 91,
     "metadata": {},
     "output_type": "execute_result"
    }
   ],
   "source": [
    "density_jaccard_similarity_is_repeated_guest/size_sample_two_variables_is_repeated_guest"
   ]
  },
  {
   "cell_type": "code",
   "execution_count": 93,
   "id": "31a32929",
   "metadata": {},
   "outputs": [
    {
     "data": {
      "text/plain": [
       "<matplotlib.image.AxesImage at 0x7f8c178b02b0>"
      ]
     },
     "execution_count": 93,
     "metadata": {},
     "output_type": "execute_result"
    },
    {
     "data": {
      "image/png": "[encoded data removed]",
      "text/plain": [
       "<Figure size 432x288 with 1 Axes>"
      ]
     },
     "metadata": {
      "needs_background": "light"
     },
     "output_type": "display_data"
    }
   ],
   "source": [
    "plt.imshow(jaccard_similarity_is_repeated_guest)"
   ]
  },
  {
   "cell_type": "code",
   "execution_count": 94,
   "id": "75c328a3",
   "metadata": {},
   "outputs": [],
   "source": [
    "co_probability_is_repeated_guest = jaccard_similarity_is_repeated_guest[jaccard_similarity_is_repeated_guest > 0.0]"
   ]
  },
  {
   "cell_type": "code",
   "execution_count": 95,
   "id": "c38e4922",
   "metadata": {},
   "outputs": [
    {
     "data": {
      "text/plain": [
       "array([0.53333333, 0.26666667, 0.13333333, ..., 0.26666667, 0.2       ,\n",
       "       0.66666667])"
      ]
     },
     "execution_count": 95,
     "metadata": {},
     "output_type": "execute_result"
    }
   ],
   "source": [
    "co_probability_is_repeated_guest"
   ]
  },
  {
   "cell_type": "code",
   "execution_count": 96,
   "id": "273eca7d",
   "metadata": {},
   "outputs": [
    {
     "data": {
      "text/plain": [
       "(array([0.000000e+00, 0.000000e+00, 0.000000e+00, 1.739480e+05,\n",
       "        0.000000e+00, 0.000000e+00, 6.220201e+06, 0.000000e+00,\n",
       "        0.000000e+00, 0.000000e+00, 3.803480e+05, 0.000000e+00,\n",
       "        0.000000e+00, 6.828293e+06, 0.000000e+00, 0.000000e+00,\n",
       "        3.932820e+05, 0.000000e+00, 0.000000e+00, 0.000000e+00,\n",
       "        4.663061e+06, 0.000000e+00, 0.000000e+00, 2.524460e+05,\n",
       "        0.000000e+00, 0.000000e+00, 2.216331e+06, 0.000000e+00,\n",
       "        0.000000e+00, 0.000000e+00, 1.130880e+05, 0.000000e+00,\n",
       "        0.000000e+00, 7.771690e+05, 0.000000e+00, 0.000000e+00,\n",
       "        3.781000e+04, 0.000000e+00, 0.000000e+00, 0.000000e+00,\n",
       "        2.098740e+05, 0.000000e+00, 0.000000e+00, 9.454000e+03,\n",
       "        0.000000e+00, 0.000000e+00, 4.554300e+04, 0.000000e+00,\n",
       "        0.000000e+00, 0.000000e+00, 1.892000e+03, 0.000000e+00,\n",
       "        0.000000e+00, 8.308000e+03, 0.000000e+00, 0.000000e+00,\n",
       "        2.740000e+02, 0.000000e+00, 0.000000e+00, 0.000000e+00,\n",
       "        1.451000e+03, 0.000000e+00, 0.000000e+00, 2.800000e+01,\n",
       "        0.000000e+00, 0.000000e+00, 3.000000e+02, 0.000000e+00,\n",
       "        0.000000e+00, 2.000000e+00, 0.000000e+00, 0.000000e+00,\n",
       "        0.000000e+00, 5.700000e+01, 0.000000e+00, 0.000000e+00,\n",
       "        0.000000e+00, 0.000000e+00, 0.000000e+00, 0.000000e+00,\n",
       "        7.000000e+00, 0.000000e+00, 0.000000e+00, 0.000000e+00,\n",
       "        0.000000e+00, 0.000000e+00, 3.000000e+00, 0.000000e+00,\n",
       "        0.000000e+00, 0.000000e+00, 0.000000e+00, 0.000000e+00,\n",
       "        0.000000e+00, 0.000000e+00, 0.000000e+00, 0.000000e+00,\n",
       "        0.000000e+00, 0.000000e+00, 0.000000e+00]),\n",
       " array([0.  , 0.01, 0.02, 0.03, 0.04, 0.05, 0.06, 0.07, 0.08, 0.09, 0.1 ,\n",
       "        0.11, 0.12, 0.13, 0.14, 0.15, 0.16, 0.17, 0.18, 0.19, 0.2 , 0.21,\n",
       "        0.22, 0.23, 0.24, 0.25, 0.26, 0.27, 0.28, 0.29, 0.3 , 0.31, 0.32,\n",
       "        0.33, 0.34, 0.35, 0.36, 0.37, 0.38, 0.39, 0.4 , 0.41, 0.42, 0.43,\n",
       "        0.44, 0.45, 0.46, 0.47, 0.48, 0.49, 0.5 , 0.51, 0.52, 0.53, 0.54,\n",
       "        0.55, 0.56, 0.57, 0.58, 0.59, 0.6 , 0.61, 0.62, 0.63, 0.64, 0.65,\n",
       "        0.66, 0.67, 0.68, 0.69, 0.7 , 0.71, 0.72, 0.73, 0.74, 0.75, 0.76,\n",
       "        0.77, 0.78, 0.79, 0.8 , 0.81, 0.82, 0.83, 0.84, 0.85, 0.86, 0.87,\n",
       "        0.88, 0.89, 0.9 , 0.91, 0.92, 0.93, 0.94, 0.95, 0.96, 0.97, 0.98,\n",
       "        0.99]),\n",
       " <BarContainer object of 99 artists>)"
      ]
     },
     "execution_count": 96,
     "metadata": {},
     "output_type": "execute_result"
    },
    {
     "data": {
      "image/png": "[encoded data removed]",
      "text/plain": [
       "<Figure size 432x288 with 1 Axes>"
      ]
     },
     "metadata": {
      "needs_background": "light"
     },
     "output_type": "display_data"
    }
   ],
   "source": [
    "plt.hist(co_probability_is_repeated_guest, bins=np.arange(0,1,0.01))"
   ]
  },
  {
   "cell_type": "code",
   "execution_count": 97,
   "id": "ab862511",
   "metadata": {},
   "outputs": [
    {
     "data": {
      "text/plain": [
       "(array([ 0.,  0.,  0.,  0.,  0.,  0.,  0.,  0.,  0.,  0.,  0.,  0.,  0.,\n",
       "         0.,  0.,  0.,  0.,  0.,  0.,  0.,  0.,  0.,  0.,  0.,  0.,  0.,\n",
       "         0.,  0.,  0.,  0.,  0.,  0.,  0.,  0.,  0.,  0.,  0.,  0.,  0.,\n",
       "         0.,  0.,  0.,  0.,  0.,  0.,  0.,  0.,  0.,  0.,  0.,  0.,  0.,\n",
       "         0.,  0.,  0.,  0.,  0.,  0.,  0.,  0.,  0.,  0.,  0.,  0.,  0.,\n",
       "         0.,  0.,  0.,  0.,  0.,  0.,  0.,  0., 57.,  0.,  0.,  0.,  0.,\n",
       "         0.,  0.,  7.,  0.,  0.,  0.,  0.,  0.,  3.,  0.,  0.,  0.,  0.,\n",
       "         0.,  0.,  0.,  0.,  0.,  0.,  0.,  0.]),\n",
       " array([0.  , 0.01, 0.02, 0.03, 0.04, 0.05, 0.06, 0.07, 0.08, 0.09, 0.1 ,\n",
       "        0.11, 0.12, 0.13, 0.14, 0.15, 0.16, 0.17, 0.18, 0.19, 0.2 , 0.21,\n",
       "        0.22, 0.23, 0.24, 0.25, 0.26, 0.27, 0.28, 0.29, 0.3 , 0.31, 0.32,\n",
       "        0.33, 0.34, 0.35, 0.36, 0.37, 0.38, 0.39, 0.4 , 0.41, 0.42, 0.43,\n",
       "        0.44, 0.45, 0.46, 0.47, 0.48, 0.49, 0.5 , 0.51, 0.52, 0.53, 0.54,\n",
       "        0.55, 0.56, 0.57, 0.58, 0.59, 0.6 , 0.61, 0.62, 0.63, 0.64, 0.65,\n",
       "        0.66, 0.67, 0.68, 0.69, 0.7 , 0.71, 0.72, 0.73, 0.74, 0.75, 0.76,\n",
       "        0.77, 0.78, 0.79, 0.8 , 0.81, 0.82, 0.83, 0.84, 0.85, 0.86, 0.87,\n",
       "        0.88, 0.89, 0.9 , 0.91, 0.92, 0.93, 0.94, 0.95, 0.96, 0.97, 0.98,\n",
       "        0.99]),\n",
       " <BarContainer object of 99 artists>)"
      ]
     },
     "execution_count": 97,
     "metadata": {},
     "output_type": "execute_result"
    },
    {
     "data": {
      "image/png": "[encoded data removed]",
      "text/plain": [
       "<Figure size 432x288 with 1 Axes>"
      ]
     },
     "metadata": {
      "needs_background": "light"
     },
     "output_type": "display_data"
    }
   ],
   "source": [
    "plt.hist(co_probability_is_repeated_guest[co_probability_is_repeated_guest > 0.7], bins=np.arange(0,1,0.01))"
   ]
  },
  {
   "cell_type": "code",
   "execution_count": 98,
   "id": "2492c349",
   "metadata": {},
   "outputs": [
    {
     "data": {
      "text/plain": [
       "<matplotlib.image.AxesImage at 0x7f8c1ac5f190>"
      ]
     },
     "execution_count": 98,
     "metadata": {},
     "output_type": "execute_result"
    },
    {
     "data": {
      "image/png": "[encoded data removed]",
      "text/plain": [
       "<Figure size 432x288 with 1 Axes>"
      ]
     },
     "metadata": {
      "needs_background": "light"
     },
     "output_type": "display_data"
    }
   ],
   "source": [
    "jaccard_similarity_is_repeated_guest_version_2 = jaccard_similarity_is_repeated_guest.copy()\n",
    "jaccard_similarity_is_repeated_guest_version_2[jaccard_similarity_is_repeated_guest < 0.7] = 0.0\n",
    "plt.imshow(jaccard_similarity_is_repeated_guest_version_2)"
   ]
  },
  {
   "cell_type": "code",
   "execution_count": 99,
   "id": "5d174e12",
   "metadata": {},
   "outputs": [
    {
     "data": {
      "text/plain": [
       "2.76e-06"
      ]
     },
     "execution_count": 99,
     "metadata": {},
     "output_type": "execute_result"
    }
   ],
   "source": [
    "np.sum(jaccard_similarity_is_repeated_guest_version_2 > 0)/(sample_variables_is_repeated_guest.shape[0]*sample_variables_is_repeated_guest.shape[0])"
   ]
  },
  {
   "cell_type": "code",
   "execution_count": null,
   "id": "a1a72dd4",
   "metadata": {},
   "outputs": [],
   "source": [
    "jaccard_similarity_is_repeated_guest_to_metric_backbone = jaccard_similarity_is_repeated_guest.copy()\n",
    "distance_prox_is_repeated_guest_2 = prox2dist(jaccard_similarity_is_repeated_guest_to_metric_backbone, 1)\n",
    "distance_all_pairs_is_repeated_guest = all_pairs_sp(distance_prox_is_repeated_guest_2)\n",
    "s_value_is_repeated_guest = s_ratio(distance_prox_is_repeated_guest_2, distance_all_pairs_is_repeated_guest)\n",
    "semimetric_percentage_value_is_repeated_guest = Semimetric_Percentage(s_value_is_repeated_guest)\n",
    "print(semimetric_percentage_value_is_repeated_guest)\n",
    "metric_backbone_value_is_repeated_guest = Metric_backbone(jaccard_similarity_is_repeated_guest_to_metric_backbone)\n",
    "plt.imshow(metric_backbone_value_is_repeated_guest)"
   ]
  },
  {
   "cell_type": "code",
   "execution_count": null,
   "id": "1c8c6b30",
   "metadata": {},
   "outputs": [],
   "source": [
    "d_metric_backbone_value_is_repeated_guest = metric_backbone_value[metric_backbone_value_is_repeated_guest > 0]"
   ]
  },
  {
   "cell_type": "code",
   "execution_count": null,
   "id": "fc7f8241",
   "metadata": {},
   "outputs": [],
   "source": [
    "plt.hist(d_metric_backbone_value_is_repeated_guest, bins = np.arange(0, 1, 0.01))"
   ]
  },
  {
   "cell_type": "code",
   "execution_count": null,
   "id": "1df3fb56",
   "metadata": {},
   "outputs": [],
   "source": [
    "graph_jaccard_similarity_is_repeated_guest = nx.from_numpy_array(d_metric_backbone_value_is_repeated_guest)\n",
    "nx.write_pajek(graph_jaccard_similarity_is_repeated_guest, 'is_repeated_guest_01.net')"
   ]
  },
  {
   "cell_type": "markdown",
   "id": "21d378ed",
   "metadata": {},
   "source": [
    "### Pearson Correlation and heatmap"
   ]
  },
  {
   "cell_type": "code",
   "execution_count": null,
   "id": "2310a63e",
   "metadata": {},
   "outputs": [],
   "source": [
    "#fazer projeção comparar o jaccard com colunas\n",
    "#o jacard pode ser aplicado em todos os dados\n",
    "#continuar utilizando o pearman / pela matriz de numeros positivos e numeros negativos.\n",
    "#explorar como passar os labels para o gephi\n",
    "\n",
    "fig, ax = plt.subplots(figsize=(15,15))\n",
    "sns.heatmap(dataframe.corr(), annot = True, vmin=-1, vmax=1, cmap='coolwarm', linewidths=.5, ax=ax)"
   ]
  }
 ],
 "metadata": {
  "kernelspec": {
   "display_name": "Python 3 (ipykernel)",
   "language": "python",
   "name": "python3"
  },
  "language_info": {
   "codemirror_mode": {
    "name": "ipython",
    "version": 3
   },
   "file_extension": ".py",
   "mimetype": "text/x-python",
   "name": "python",
   "nbconvert_exporter": "python",
   "pygments_lexer": "ipython3",
   "version": "3.9.7"
  }
 },
 "nbformat": 4,
 "nbformat_minor": 5
}
